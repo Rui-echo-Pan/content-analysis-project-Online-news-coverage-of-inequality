{
 "cells": [
  {
   "cell_type": "code",
   "execution_count": 71,
   "metadata": {
    "ExecuteTime": {
     "end_time": "2021-03-04T02:13:22.733171Z",
     "start_time": "2021-03-04T02:13:16.859107Z"
    }
   },
   "outputs": [],
   "source": [
    "import numpy as np\n",
    "import pandas as pd    \n",
    "\n",
    "now_df = pd.read_table('data/inequality.txt' ,header=0, encoding='gb2312', sep=',') "
   ]
  },
  {
   "cell_type": "code",
   "execution_count": 72,
   "metadata": {
    "ExecuteTime": {
     "end_time": "2021-03-04T02:13:22.802126Z",
     "start_time": "2021-03-04T02:13:22.777123Z"
    }
   },
   "outputs": [
    {
     "data": {
      "text/html": [
       "<div>\n",
       "<style scoped>\n",
       "    .dataframe tbody tr th:only-of-type {\n",
       "        vertical-align: middle;\n",
       "    }\n",
       "\n",
       "    .dataframe tbody tr th {\n",
       "        vertical-align: top;\n",
       "    }\n",
       "\n",
       "    .dataframe thead th {\n",
       "        text-align: right;\n",
       "    }\n",
       "</style>\n",
       "<table border=\"1\" class=\"dataframe\">\n",
       "  <thead>\n",
       "    <tr style=\"text-align: right;\">\n",
       "      <th></th>\n",
       "      <th>id</th>\n",
       "      <th>text</th>\n",
       "      <th>month</th>\n",
       "      <th>year</th>\n",
       "    </tr>\n",
       "  </thead>\n",
       "  <tbody>\n",
       "    <tr>\n",
       "      <th>0</th>\n",
       "      <td>14652434</td>\n",
       "      <td>Most of the debate has focused on the housing...</td>\n",
       "      <td>10</td>\n",
       "      <td>16</td>\n",
       "    </tr>\n",
       "    <tr>\n",
       "      <th>1</th>\n",
       "      <td>14660987</td>\n",
       "      <td>The combined revenues of the largest 10 corpo...</td>\n",
       "      <td>10</td>\n",
       "      <td>16</td>\n",
       "    </tr>\n",
       "    <tr>\n",
       "      <th>2</th>\n",
       "      <td>14678637</td>\n",
       "      <td>Crystal Legacy receives funding from the Aust...</td>\n",
       "      <td>10</td>\n",
       "      <td>16</td>\n",
       "    </tr>\n",
       "    <tr>\n",
       "      <th>3</th>\n",
       "      <td>14698663</td>\n",
       "      <td>World leaders need to ramp up investment to a...</td>\n",
       "      <td>10</td>\n",
       "      <td>16</td>\n",
       "    </tr>\n",
       "    <tr>\n",
       "      <th>4</th>\n",
       "      <td>14707705</td>\n",
       "      <td>Greenwhich Village , NY , mid 1960s . This is...</td>\n",
       "      <td>10</td>\n",
       "      <td>16</td>\n",
       "    </tr>\n",
       "    <tr>\n",
       "      <th>...</th>\n",
       "      <td>...</td>\n",
       "      <td>...</td>\n",
       "      <td>...</td>\n",
       "      <td>...</td>\n",
       "    </tr>\n",
       "    <tr>\n",
       "      <th>64892</th>\n",
       "      <td>14606901</td>\n",
       "      <td>Beneficiaries include bankers , a former poli...</td>\n",
       "      <td>9</td>\n",
       "      <td>16</td>\n",
       "    </tr>\n",
       "    <tr>\n",
       "      <th>64893</th>\n",
       "      <td>14607757</td>\n",
       "      <td>Let 's be clear right from the start : everyo...</td>\n",
       "      <td>9</td>\n",
       "      <td>16</td>\n",
       "    </tr>\n",
       "    <tr>\n",
       "      <th>64894</th>\n",
       "      <td>14609499</td>\n",
       "      <td>File : The calls for large-scale change acros...</td>\n",
       "      <td>9</td>\n",
       "      <td>16</td>\n",
       "    </tr>\n",
       "    <tr>\n",
       "      <th>64895</th>\n",
       "      <td>14612653</td>\n",
       "      <td>Despite its many achievements in more than tw...</td>\n",
       "      <td>9</td>\n",
       "      <td>16</td>\n",
       "    </tr>\n",
       "    <tr>\n",
       "      <th>64896</th>\n",
       "      <td>14623232</td>\n",
       "      <td>George Municipality won four awards in the th...</td>\n",
       "      <td>9</td>\n",
       "      <td>16</td>\n",
       "    </tr>\n",
       "  </tbody>\n",
       "</table>\n",
       "<p>64897 rows × 4 columns</p>\n",
       "</div>"
      ],
      "text/plain": [
       "             id                                               text  month  \\\n",
       "0      14652434   Most of the debate has focused on the housing...     10   \n",
       "1      14660987   The combined revenues of the largest 10 corpo...     10   \n",
       "2      14678637   Crystal Legacy receives funding from the Aust...     10   \n",
       "3      14698663   World leaders need to ramp up investment to a...     10   \n",
       "4      14707705   Greenwhich Village , NY , mid 1960s . This is...     10   \n",
       "...         ...                                                ...    ...   \n",
       "64892  14606901   Beneficiaries include bankers , a former poli...      9   \n",
       "64893  14607757   Let 's be clear right from the start : everyo...      9   \n",
       "64894  14609499   File : The calls for large-scale change acros...      9   \n",
       "64895  14612653   Despite its many achievements in more than tw...      9   \n",
       "64896  14623232   George Municipality won four awards in the th...      9   \n",
       "\n",
       "       year  \n",
       "0        16  \n",
       "1        16  \n",
       "2        16  \n",
       "3        16  \n",
       "4        16  \n",
       "...     ...  \n",
       "64892    16  \n",
       "64893    16  \n",
       "64894    16  \n",
       "64895    16  \n",
       "64896    16  \n",
       "\n",
       "[64897 rows x 4 columns]"
      ]
     },
     "execution_count": 72,
     "metadata": {},
     "output_type": "execute_result"
    }
   ],
   "source": [
    "now_df"
   ]
  },
  {
   "cell_type": "code",
   "execution_count": 73,
   "metadata": {
    "ExecuteTime": {
     "end_time": "2021-03-04T02:13:29.310464Z",
     "start_time": "2021-03-04T02:13:29.298478Z"
    }
   },
   "outputs": [],
   "source": [
    "np.random.seed(2)"
   ]
  },
  {
   "cell_type": "code",
   "execution_count": 74,
   "metadata": {
    "ExecuteTime": {
     "end_time": "2021-03-04T02:13:32.211669Z",
     "start_time": "2021-03-04T02:13:32.185460Z"
    }
   },
   "outputs": [
    {
     "data": {
      "text/plain": [
       "{17: 13048,\n",
       " 18: 12427,\n",
       " 16: 11831,\n",
       " 19: 11000,\n",
       " 15: 4866,\n",
       " 14: 4008,\n",
       " 13: 2908,\n",
       " 12: 2305,\n",
       " 11: 1599,\n",
       " 10: 905}"
      ]
     },
     "execution_count": 74,
     "metadata": {},
     "output_type": "execute_result"
    }
   ],
   "source": [
    "d = dict(now_df['year'].value_counts())\n",
    "d"
   ]
  },
  {
   "cell_type": "code",
   "execution_count": 75,
   "metadata": {
    "ExecuteTime": {
     "end_time": "2021-03-04T02:14:04.033902Z",
     "start_time": "2021-03-04T02:14:04.019896Z"
    }
   },
   "outputs": [
    {
     "data": {
      "text/plain": [
       "[905, 1599, 2305, 2908, 4008, 4866, 11831, 13048, 12427, 11000]"
      ]
     },
     "execution_count": 75,
     "metadata": {},
     "output_type": "execute_result"
    }
   ],
   "source": [
    "list(dict(sorted(d.items(), key=lambda item:item[0])).values())"
   ]
  },
  {
   "cell_type": "code",
   "execution_count": 76,
   "metadata": {
    "ExecuteTime": {
     "end_time": "2021-03-04T02:14:19.265563Z",
     "start_time": "2021-03-04T02:14:19.256564Z"
    }
   },
   "outputs": [
    {
     "name": "stdout",
     "output_type": "stream",
     "text": [
      "[ 634 1119 1614 2036 2806 3406 8282 9134 8699 7700]\n"
     ]
    }
   ],
   "source": [
    "sample_fra = 0.7    \n",
    "num_tup = np.array(list(dict(sorted(d.items(), key=lambda item:item[0])).values()))   \n",
    "num_sample_tup = np.array([(int)(round(i*sample_fra)) for i in num_tup])   # round函数对数进行四舍五入处理\n",
    "print(num_sample_tup)"
   ]
  },
  {
   "cell_type": "code",
   "execution_count": 77,
   "metadata": {
    "ExecuteTime": {
     "end_time": "2021-03-04T02:14:22.121799Z",
     "start_time": "2021-03-04T02:14:22.114843Z"
    }
   },
   "outputs": [],
   "source": [
    "# 定义分层抽样的字典，格式为：组名：数据个数\n",
    "typicalNDict_train = {10: num_train_tup[0], 11: num_train_tup[1], 12: num_train_tup[2], 13: num_train_tup[3],\n",
    "                      14: num_train_tup[4], 15: num_train_tup[5], 16: num_train_tup[6], 17: num_train_tup[7],\n",
    "                      18: num_train_tup[8], 19: num_train_tup[9]}  "
   ]
  },
  {
   "cell_type": "code",
   "execution_count": 78,
   "metadata": {
    "ExecuteTime": {
     "end_time": "2021-03-04T02:14:23.385952Z",
     "start_time": "2021-03-04T02:14:23.368651Z"
    }
   },
   "outputs": [],
   "source": [
    "def typicalsamling(group, typicalNDict):\n",
    "    name = group.name\n",
    "    n = typicalNDict[name]\n",
    "    return group.sample(n=n)"
   ]
  },
  {
   "cell_type": "code",
   "execution_count": 79,
   "metadata": {
    "ExecuteTime": {
     "end_time": "2021-03-04T02:14:30.406760Z",
     "start_time": "2021-03-04T02:14:24.498573Z"
    }
   },
   "outputs": [
    {
     "name": "stdout",
     "output_type": "stream",
     "text": [
      "                 id                                               text  month  \\\n",
      "year                                                                            \n",
      "10   40035  1577559   When Gruff Rhys strikes out alone , the resul...      7   \n",
      "     40320  1664137   Forty years after the United States began its...     10   \n",
      "     39625  1337494   During the late 19th century , a handful of R...      1   \n",
      "     39771  1415861   SANTIAGO , Chile -- Jacquelin Marin has no ru...      3   \n",
      "     40043  1546700   A new study has revealed that many generation...      7   \n",
      "\n",
      "            year  \n",
      "year              \n",
      "10   40035    10  \n",
      "     40320    10  \n",
      "     39625    10  \n",
      "     39771    10  \n",
      "     40043    10  \n"
     ]
    }
   ],
   "source": [
    "result_sample = now_df.groupby('year').apply(typicalsamling, typicalNDict_train)\n",
    "print(result_sample.head())\n",
    "result_sample.to_csv('data/sample.txt', index=False)"
   ]
  },
  {
   "cell_type": "code",
   "execution_count": 80,
   "metadata": {
    "ExecuteTime": {
     "end_time": "2021-03-04T02:14:30.459651Z",
     "start_time": "2021-03-04T02:14:30.452660Z"
    }
   },
   "outputs": [
    {
     "name": "stdout",
     "output_type": "stream",
     "text": [
      "17    7829\n",
      "18    7456\n",
      "19    6601\n",
      "16    4147\n",
      "15    1460\n",
      "14    1202\n",
      "13     872\n",
      "12     692\n",
      "11     480\n",
      "10     272\n",
      "Name: year, dtype: int64\n"
     ]
    }
   ],
   "source": [
    "print(result_sample['year'].value_counts())"
   ]
  },
  {
   "cell_type": "code",
   "execution_count": 81,
   "metadata": {
    "ExecuteTime": {
     "end_time": "2021-03-04T02:14:30.503654Z",
     "start_time": "2021-03-04T02:14:30.498651Z"
    }
   },
   "outputs": [
    {
     "data": {
      "text/plain": [
       "{17: 13048,\n",
       " 18: 12427,\n",
       " 16: 11831,\n",
       " 19: 11000,\n",
       " 15: 4866,\n",
       " 14: 4008,\n",
       " 13: 2908,\n",
       " 12: 2305,\n",
       " 11: 1599,\n",
       " 10: 905}"
      ]
     },
     "execution_count": 81,
     "metadata": {},
     "output_type": "execute_result"
    }
   ],
   "source": [
    "d"
   ]
  },
  {
   "cell_type": "code",
   "execution_count": null,
   "metadata": {},
   "outputs": [],
   "source": []
  }
 ],
 "metadata": {
  "kernelspec": {
   "display_name": "Python 3",
   "language": "python",
   "name": "python3"
  },
  "language_info": {
   "codemirror_mode": {
    "name": "ipython",
    "version": 3
   },
   "file_extension": ".py",
   "mimetype": "text/x-python",
   "name": "python",
   "nbconvert_exporter": "python",
   "pygments_lexer": "ipython3",
   "version": "3.8.5"
  },
  "toc": {
   "base_numbering": 1,
   "nav_menu": {},
   "number_sections": true,
   "sideBar": true,
   "skip_h1_title": false,
   "title_cell": "Table of Contents",
   "title_sidebar": "Contents",
   "toc_cell": false,
   "toc_position": {},
   "toc_section_display": true,
   "toc_window_display": false
  },
  "varInspector": {
   "cols": {
    "lenName": 16,
    "lenType": 16,
    "lenVar": 40
   },
   "kernels_config": {
    "python": {
     "delete_cmd_postfix": "",
     "delete_cmd_prefix": "del ",
     "library": "var_list.py",
     "varRefreshCmd": "print(var_dic_list())"
    },
    "r": {
     "delete_cmd_postfix": ") ",
     "delete_cmd_prefix": "rm(",
     "library": "var_list.r",
     "varRefreshCmd": "cat(var_dic_list()) "
    }
   },
   "types_to_exclude": [
    "module",
    "function",
    "builtin_function_or_method",
    "instance",
    "_Feature"
   ],
   "window_display": false
  }
 },
 "nbformat": 4,
 "nbformat_minor": 4
}
