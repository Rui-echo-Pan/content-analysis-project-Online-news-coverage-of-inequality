{
 "cells": [
  {
   "cell_type": "code",
   "execution_count": 15,
   "metadata": {
    "ExecuteTime": {
     "end_time": "2021-03-03T21:24:53.740715Z",
     "start_time": "2021-03-03T21:24:53.724752Z"
    }
   },
   "outputs": [],
   "source": [
    "import numpy as np\n",
    "import pandas as pd    \n",
    "\n",
    "now_df = pd.read_table('inequality.txt' ,header=0, encoding='gb2312', sep=',') "
   ]
  },
  {
   "cell_type": "code",
   "execution_count": 14,
   "metadata": {
    "ExecuteTime": {
     "end_time": "2021-03-03T21:17:52.371367Z",
     "start_time": "2021-03-03T21:17:52.325920Z"
    }
   },
   "outputs": [
    {
     "data": {
      "text/html": [
       "<div>\n",
       "<style scoped>\n",
       "    .dataframe tbody tr th:only-of-type {\n",
       "        vertical-align: middle;\n",
       "    }\n",
       "\n",
       "    .dataframe tbody tr th {\n",
       "        vertical-align: top;\n",
       "    }\n",
       "\n",
       "    .dataframe thead th {\n",
       "        text-align: right;\n",
       "    }\n",
       "</style>\n",
       "<table border=\"1\" class=\"dataframe\">\n",
       "  <thead>\n",
       "    <tr style=\"text-align: right;\">\n",
       "      <th></th>\n",
       "      <th>id</th>\n",
       "      <th>text</th>\n",
       "      <th>month</th>\n",
       "      <th>year</th>\n",
       "    </tr>\n",
       "  </thead>\n",
       "  <tbody>\n",
       "    <tr>\n",
       "      <th>0</th>\n",
       "      <td>14652434</td>\n",
       "      <td>Most of the debate has focused on the housing...</td>\n",
       "      <td>10</td>\n",
       "      <td>16</td>\n",
       "    </tr>\n",
       "    <tr>\n",
       "      <th>1</th>\n",
       "      <td>14660987</td>\n",
       "      <td>The combined revenues of the largest 10 corpo...</td>\n",
       "      <td>10</td>\n",
       "      <td>16</td>\n",
       "    </tr>\n",
       "    <tr>\n",
       "      <th>2</th>\n",
       "      <td>14678637</td>\n",
       "      <td>Crystal Legacy receives funding from the Aust...</td>\n",
       "      <td>10</td>\n",
       "      <td>16</td>\n",
       "    </tr>\n",
       "    <tr>\n",
       "      <th>3</th>\n",
       "      <td>14698663</td>\n",
       "      <td>World leaders need to ramp up investment to a...</td>\n",
       "      <td>10</td>\n",
       "      <td>16</td>\n",
       "    </tr>\n",
       "    <tr>\n",
       "      <th>4</th>\n",
       "      <td>14707705</td>\n",
       "      <td>Greenwhich Village , NY , mid 1960s . This is...</td>\n",
       "      <td>10</td>\n",
       "      <td>16</td>\n",
       "    </tr>\n",
       "    <tr>\n",
       "      <th>...</th>\n",
       "      <td>...</td>\n",
       "      <td>...</td>\n",
       "      <td>...</td>\n",
       "      <td>...</td>\n",
       "    </tr>\n",
       "    <tr>\n",
       "      <th>103361</th>\n",
       "      <td>61188462</td>\n",
       "      <td>RW Johnson   10 June 2019   RW Johnson on ten...</td>\n",
       "      <td>8</td>\n",
       "      <td>19</td>\n",
       "    </tr>\n",
       "    <tr>\n",
       "      <th>103362</th>\n",
       "      <td>61188469</td>\n",
       "      <td>SAFTU   26 August 2019   Federation says such...</td>\n",
       "      <td>8</td>\n",
       "      <td>19</td>\n",
       "    </tr>\n",
       "    <tr>\n",
       "      <th>103363</th>\n",
       "      <td>61189504</td>\n",
       "      <td>Note : Search is limited to the most recent 2...</td>\n",
       "      <td>8</td>\n",
       "      <td>19</td>\n",
       "    </tr>\n",
       "    <tr>\n",
       "      <th>103364</th>\n",
       "      <td>61189506</td>\n",
       "      <td>Note : Search is limited to the most recent 2...</td>\n",
       "      <td>8</td>\n",
       "      <td>19</td>\n",
       "    </tr>\n",
       "    <tr>\n",
       "      <th>103365</th>\n",
       "      <td>61189508</td>\n",
       "      <td>Note : Search is limited to the most recent 2...</td>\n",
       "      <td>8</td>\n",
       "      <td>19</td>\n",
       "    </tr>\n",
       "  </tbody>\n",
       "</table>\n",
       "<p>103366 rows × 4 columns</p>\n",
       "</div>"
      ],
      "text/plain": [
       "              id                                               text  month  \\\n",
       "0       14652434   Most of the debate has focused on the housing...     10   \n",
       "1       14660987   The combined revenues of the largest 10 corpo...     10   \n",
       "2       14678637   Crystal Legacy receives funding from the Aust...     10   \n",
       "3       14698663   World leaders need to ramp up investment to a...     10   \n",
       "4       14707705   Greenwhich Village , NY , mid 1960s . This is...     10   \n",
       "...          ...                                                ...    ...   \n",
       "103361  61188462   RW Johnson   10 June 2019   RW Johnson on ten...      8   \n",
       "103362  61188469   SAFTU   26 August 2019   Federation says such...      8   \n",
       "103363  61189504   Note : Search is limited to the most recent 2...      8   \n",
       "103364  61189506   Note : Search is limited to the most recent 2...      8   \n",
       "103365  61189508   Note : Search is limited to the most recent 2...      8   \n",
       "\n",
       "        year  \n",
       "0         16  \n",
       "1         16  \n",
       "2         16  \n",
       "3         16  \n",
       "4         16  \n",
       "...      ...  \n",
       "103361    19  \n",
       "103362    19  \n",
       "103363    19  \n",
       "103364    19  \n",
       "103365    19  \n",
       "\n",
       "[103366 rows x 4 columns]"
      ]
     },
     "execution_count": 14,
     "metadata": {},
     "output_type": "execute_result"
    }
   ],
   "source": [
    "now_df"
   ]
  },
  {
   "cell_type": "code",
   "execution_count": 54,
   "metadata": {
    "ExecuteTime": {
     "end_time": "2021-03-03T21:59:15.441985Z",
     "start_time": "2021-03-03T21:59:15.413369Z"
    }
   },
   "outputs": [],
   "source": [
    "np.random.seed(2)"
   ]
  },
  {
   "cell_type": "code",
   "execution_count": 56,
   "metadata": {
    "ExecuteTime": {
     "end_time": "2021-03-03T21:59:19.269093Z",
     "start_time": "2021-03-03T21:59:19.236153Z"
    }
   },
   "outputs": [
    {
     "data": {
      "text/plain": [
       "{17: 26096,\n",
       " 18: 24852,\n",
       " 19: 22003,\n",
       " 16: 13824,\n",
       " 15: 4866,\n",
       " 14: 4008,\n",
       " 13: 2908,\n",
       " 12: 2305,\n",
       " 11: 1599,\n",
       " 10: 905}"
      ]
     },
     "execution_count": 56,
     "metadata": {},
     "output_type": "execute_result"
    }
   ],
   "source": [
    "d = dict(now_df['year'].value_counts())\n",
    "d"
   ]
  },
  {
   "cell_type": "code",
   "execution_count": 57,
   "metadata": {
    "ExecuteTime": {
     "end_time": "2021-03-03T21:59:20.545599Z",
     "start_time": "2021-03-03T21:59:20.528803Z"
    }
   },
   "outputs": [
    {
     "data": {
      "text/plain": [
       "[905, 1599, 2305, 2908, 4008, 4866, 13824, 26096, 24852, 22003]"
      ]
     },
     "execution_count": 57,
     "metadata": {},
     "output_type": "execute_result"
    }
   ],
   "source": [
    "list(dict(sorted(d.items(), key=lambda item:item[0])).values())"
   ]
  },
  {
   "cell_type": "code",
   "execution_count": 64,
   "metadata": {
    "ExecuteTime": {
     "end_time": "2021-03-03T22:04:44.563483Z",
     "start_time": "2021-03-03T22:04:44.546884Z"
    }
   },
   "outputs": [
    {
     "name": "stdout",
     "output_type": "stream",
     "text": [
      "[ 272  480  692  872 1202 1460 4147 7829 7456 6601]\n"
     ]
    }
   ],
   "source": [
    "sample_fra = 0.3    \n",
    "num_tup = np.array(list(dict(sorted(d.items(), key=lambda item:item[0])).values()))   \n",
    "num_sample_tup = np.array([(int)(round(i*sample_fra)) for i in num_tup])   # round函数对数进行四舍五入处理\n",
    "print(num_sample_tup)"
   ]
  },
  {
   "cell_type": "code",
   "execution_count": 65,
   "metadata": {
    "ExecuteTime": {
     "end_time": "2021-03-03T22:04:51.638903Z",
     "start_time": "2021-03-03T22:04:51.622890Z"
    }
   },
   "outputs": [],
   "source": [
    "# 定义分层抽样的字典，格式为：组名：数据个数\n",
    "typicalNDict_train = {10: num_train_tup[0], 11: num_train_tup[1], 12: num_train_tup[2], 13: num_train_tup[3],\n",
    "                      14: num_train_tup[4], 15: num_train_tup[5], 16: num_train_tup[6], 17: num_train_tup[7],\n",
    "                      18: num_train_tup[8], 19: num_train_tup[9]}  "
   ]
  },
  {
   "cell_type": "code",
   "execution_count": 66,
   "metadata": {
    "ExecuteTime": {
     "end_time": "2021-03-03T22:04:55.467235Z",
     "start_time": "2021-03-03T22:04:55.459052Z"
    }
   },
   "outputs": [],
   "source": [
    "def typicalsamling(group, typicalNDict):\n",
    "    name = group.name\n",
    "    n = typicalNDict[name]\n",
    "    return group.sample(n=n)"
   ]
  },
  {
   "cell_type": "code",
   "execution_count": 67,
   "metadata": {
    "ExecuteTime": {
     "end_time": "2021-03-03T22:05:11.463272Z",
     "start_time": "2021-03-03T22:04:56.148564Z"
    }
   },
   "outputs": [
    {
     "name": "stdout",
     "output_type": "stream",
     "text": [
      "                 id                                               text  month  \\\n",
      "year                                                                            \n",
      "10   40235  1638583   Lessons on racism , racial prejudice and disc...      9   \n",
      "     39933  1536821   If you 've been dead from the neck up this pa...      6   \n",
      "     40065  1556506   14 July 2010 ? The United Nations Development...      7   \n",
      "     40269  1688092   It 's not like I believe there were ever any ...     10   \n",
      "     39800  1444061   A team of boffins from the University of Chic...      4   \n",
      "\n",
      "            year  \n",
      "year              \n",
      "10   40235    10  \n",
      "     39933    10  \n",
      "     40065    10  \n",
      "     40269    10  \n",
      "     39800    10  \n"
     ]
    }
   ],
   "source": [
    "result_sample = now_df.groupby('year').apply(typicalsamling, typicalNDict_train)\n",
    "print(result_sample.head())\n",
    "result_sample.to_csv('data/sample.txt', index=False)"
   ]
  },
  {
   "cell_type": "code",
   "execution_count": 70,
   "metadata": {
    "ExecuteTime": {
     "end_time": "2021-03-03T22:06:00.108743Z",
     "start_time": "2021-03-03T22:06:00.092804Z"
    }
   },
   "outputs": [
    {
     "name": "stdout",
     "output_type": "stream",
     "text": [
      "17    7829\n",
      "18    7456\n",
      "19    6601\n",
      "16    4147\n",
      "15    1460\n",
      "14    1202\n",
      "13     872\n",
      "12     692\n",
      "11     480\n",
      "10     272\n",
      "Name: year, dtype: int64\n"
     ]
    }
   ],
   "source": [
    "print(result_sample['year'].value_counts())"
   ]
  },
  {
   "cell_type": "code",
   "execution_count": 69,
   "metadata": {
    "ExecuteTime": {
     "end_time": "2021-03-03T22:05:11.773244Z",
     "start_time": "2021-03-03T22:05:11.757246Z"
    }
   },
   "outputs": [
    {
     "data": {
      "text/plain": [
       "{17: 26096,\n",
       " 18: 24852,\n",
       " 19: 22003,\n",
       " 16: 13824,\n",
       " 15: 4866,\n",
       " 14: 4008,\n",
       " 13: 2908,\n",
       " 12: 2305,\n",
       " 11: 1599,\n",
       " 10: 905}"
      ]
     },
     "execution_count": 69,
     "metadata": {},
     "output_type": "execute_result"
    }
   ],
   "source": [
    "d"
   ]
  },
  {
   "cell_type": "code",
   "execution_count": null,
   "metadata": {},
   "outputs": [],
   "source": []
  }
 ],
 "metadata": {
  "kernelspec": {
   "display_name": "Python 3",
   "language": "python",
   "name": "python3"
  },
  "language_info": {
   "codemirror_mode": {
    "name": "ipython",
    "version": 3
   },
   "file_extension": ".py",
   "mimetype": "text/x-python",
   "name": "python",
   "nbconvert_exporter": "python",
   "pygments_lexer": "ipython3",
   "version": "3.8.5"
  },
  "toc": {
   "base_numbering": 1,
   "nav_menu": {},
   "number_sections": true,
   "sideBar": true,
   "skip_h1_title": false,
   "title_cell": "Table of Contents",
   "title_sidebar": "Contents",
   "toc_cell": false,
   "toc_position": {},
   "toc_section_display": true,
   "toc_window_display": false
  },
  "varInspector": {
   "cols": {
    "lenName": 16,
    "lenType": 16,
    "lenVar": 40
   },
   "kernels_config": {
    "python": {
     "delete_cmd_postfix": "",
     "delete_cmd_prefix": "del ",
     "library": "var_list.py",
     "varRefreshCmd": "print(var_dic_list())"
    },
    "r": {
     "delete_cmd_postfix": ") ",
     "delete_cmd_prefix": "rm(",
     "library": "var_list.r",
     "varRefreshCmd": "cat(var_dic_list()) "
    }
   },
   "types_to_exclude": [
    "module",
    "function",
    "builtin_function_or_method",
    "instance",
    "_Feature"
   ],
   "window_display": false
  }
 },
 "nbformat": 4,
 "nbformat_minor": 4
}
