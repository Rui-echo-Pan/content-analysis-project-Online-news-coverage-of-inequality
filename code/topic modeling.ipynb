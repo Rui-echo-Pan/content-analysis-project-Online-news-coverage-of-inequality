{
 "cells": [
  {
   "cell_type": "code",
   "execution_count": 1,
   "metadata": {
    "ExecuteTime": {
     "end_time": "2021-03-08T05:42:48.571555Z",
     "start_time": "2021-03-08T05:42:40.441165Z"
    }
   },
   "outputs": [
    {
     "data": {
      "text/html": [
       "<div>\n",
       "<style scoped>\n",
       "    .dataframe tbody tr th:only-of-type {\n",
       "        vertical-align: middle;\n",
       "    }\n",
       "\n",
       "    .dataframe tbody tr th {\n",
       "        vertical-align: top;\n",
       "    }\n",
       "\n",
       "    .dataframe thead th {\n",
       "        text-align: right;\n",
       "    }\n",
       "</style>\n",
       "<table border=\"1\" class=\"dataframe\">\n",
       "  <thead>\n",
       "    <tr style=\"text-align: right;\">\n",
       "      <th></th>\n",
       "      <th>id</th>\n",
       "      <th>text</th>\n",
       "      <th>month</th>\n",
       "      <th>year</th>\n",
       "    </tr>\n",
       "  </thead>\n",
       "  <tbody>\n",
       "    <tr>\n",
       "      <th>0</th>\n",
       "      <td>1705816</td>\n",
       "      <td>For those of us who have not known war , the ...</td>\n",
       "      <td>11</td>\n",
       "      <td>10</td>\n",
       "    </tr>\n",
       "    <tr>\n",
       "      <th>1</th>\n",
       "      <td>4512620</td>\n",
       "      <td>Kazi Khaleed Ashraf   ONCE upon a time , Dhak...</td>\n",
       "      <td>3</td>\n",
       "      <td>10</td>\n",
       "    </tr>\n",
       "    <tr>\n",
       "      <th>2</th>\n",
       "      <td>1448476</td>\n",
       "      <td>There is a myth in wide circulation that the ...</td>\n",
       "      <td>4</td>\n",
       "      <td>10</td>\n",
       "    </tr>\n",
       "    <tr>\n",
       "      <th>3</th>\n",
       "      <td>1490802</td>\n",
       "      <td>Please turn on JavaScript . Media requires Ja...</td>\n",
       "      <td>5</td>\n",
       "      <td>10</td>\n",
       "    </tr>\n",
       "    <tr>\n",
       "      <th>4</th>\n",
       "      <td>1647381</td>\n",
       "      <td>Image caption The death of Mono Jojoy could c...</td>\n",
       "      <td>9</td>\n",
       "      <td>10</td>\n",
       "    </tr>\n",
       "    <tr>\n",
       "      <th>...</th>\n",
       "      <td>...</td>\n",
       "      <td>...</td>\n",
       "      <td>...</td>\n",
       "      <td>...</td>\n",
       "    </tr>\n",
       "    <tr>\n",
       "      <th>45425</th>\n",
       "      <td>31034526</td>\n",
       "      <td>Can an academic study also double up as a riv...</td>\n",
       "      <td>6</td>\n",
       "      <td>19</td>\n",
       "    </tr>\n",
       "    <tr>\n",
       "      <th>45426</th>\n",
       "      <td>50673735</td>\n",
       "      <td>Glasgow Southside , where Nicola Sturgeon is ...</td>\n",
       "      <td>5</td>\n",
       "      <td>19</td>\n",
       "    </tr>\n",
       "    <tr>\n",
       "      <th>45427</th>\n",
       "      <td>31262587</td>\n",
       "      <td>Rabbi Joachim Prinz , second from the left , ...</td>\n",
       "      <td>9</td>\n",
       "      <td>19</td>\n",
       "    </tr>\n",
       "    <tr>\n",
       "      <th>45428</th>\n",
       "      <td>50662844</td>\n",
       "      <td>The global rate of species extinction is ten ...</td>\n",
       "      <td>5</td>\n",
       "      <td>19</td>\n",
       "    </tr>\n",
       "    <tr>\n",
       "      <th>45429</th>\n",
       "      <td>30663231</td>\n",
       "      <td>I am very thankful to this story as it is for...</td>\n",
       "      <td>3</td>\n",
       "      <td>19</td>\n",
       "    </tr>\n",
       "  </tbody>\n",
       "</table>\n",
       "<p>45430 rows × 4 columns</p>\n",
       "</div>"
      ],
      "text/plain": [
       "             id                                               text  month  \\\n",
       "0       1705816   For those of us who have not known war , the ...     11   \n",
       "1       4512620   Kazi Khaleed Ashraf   ONCE upon a time , Dhak...      3   \n",
       "2       1448476   There is a myth in wide circulation that the ...      4   \n",
       "3       1490802   Please turn on JavaScript . Media requires Ja...      5   \n",
       "4       1647381   Image caption The death of Mono Jojoy could c...      9   \n",
       "...         ...                                                ...    ...   \n",
       "45425  31034526   Can an academic study also double up as a riv...      6   \n",
       "45426  50673735   Glasgow Southside , where Nicola Sturgeon is ...      5   \n",
       "45427  31262587   Rabbi Joachim Prinz , second from the left , ...      9   \n",
       "45428  50662844   The global rate of species extinction is ten ...      5   \n",
       "45429  30663231   I am very thankful to this story as it is for...      3   \n",
       "\n",
       "       year  \n",
       "0        10  \n",
       "1        10  \n",
       "2        10  \n",
       "3        10  \n",
       "4        10  \n",
       "...     ...  \n",
       "45425    19  \n",
       "45426    19  \n",
       "45427    19  \n",
       "45428    19  \n",
       "45429    19  \n",
       "\n",
       "[45430 rows x 4 columns]"
      ]
     },
     "execution_count": 1,
     "metadata": {},
     "output_type": "execute_result"
    }
   ],
   "source": [
    "#All these packages need to be installed from pip\n",
    "#These are all for the cluster detection\n",
    "import sklearn\n",
    "import sklearn.feature_extraction.text\n",
    "import sklearn.pipeline\n",
    "import sklearn.preprocessing\n",
    "import sklearn.datasets\n",
    "import sklearn.cluster\n",
    "import sklearn.decomposition\n",
    "import sklearn.metrics\n",
    "\n",
    "import scipy #For hierarchical clustering and some visuals\n",
    "#import scipy.cluster.hierarchy\n",
    "import gensim#For topic modeling\n",
    "import requests #For downloading our datasets\n",
    "import numpy as np #for arrays\n",
    "import pandas #gives us DataFrames\n",
    "import matplotlib.pyplot as plt #For graphics\n",
    "import matplotlib.cm #Still for graphics\n",
    "import seaborn as sns #Makes the graphics look nicer\n",
    "\n",
    "#This 'magic' command makes the plots work better\n",
    "#in the notebook, don't use it outside of a notebook.\n",
    "#Also you can ignore the warning, it\n",
    "%matplotlib inline\n",
    "\n",
    "import itertools\n",
    "import json\n",
    "\n",
    "import numpy as np\n",
    "import pandas as pd  \n",
    "import gensim#For topic modeling\n",
    "import lucem_illud\n",
    "\n",
    "#access lda model\n",
    "import logging\n",
    "import pyLDAvis.gensim\n",
    "import warnings\n",
    "warnings.filterwarnings('ignore')  # To ignore all warnings that arise here to enhance clarity\n",
    "\n",
    "from gensim.models.coherencemodel import CoherenceModel\n",
    "from gensim.models.ldamodel import LdaModel\n",
    "from gensim.corpora.dictionary import Dictionary\n",
    "from numpy import array\n",
    "\n",
    "now_df = pd.read_table('data/sample.txt' ,header=0, encoding='gb2312', sep=',') \n",
    "now_df"
   ]
  },
  {
   "cell_type": "code",
   "execution_count": 2,
   "metadata": {
    "ExecuteTime": {
     "end_time": "2021-03-08T05:42:48.602552Z",
     "start_time": "2021-03-08T05:42:48.573557Z"
    }
   },
   "outputs": [],
   "source": [
    "now_df = now_df.dropna(axis = 0)"
   ]
  },
  {
   "cell_type": "code",
   "execution_count": 3,
   "metadata": {
    "ExecuteTime": {
     "end_time": "2021-03-08T05:42:48.609553Z",
     "start_time": "2021-03-08T05:42:48.604553Z"
    }
   },
   "outputs": [],
   "source": [
    "#randomly sample 2 news from each year\n",
    "#now_df = now_df.groupby('year').apply(lambda x: x.sample(400, random_state = 123)).reset_index(drop=True)\n",
    "#now_df"
   ]
  },
  {
   "cell_type": "code",
   "execution_count": 4,
   "metadata": {
    "ExecuteTime": {
     "end_time": "2021-03-08T05:42:48.618553Z",
     "start_time": "2021-03-08T05:42:48.610553Z"
    }
   },
   "outputs": [],
   "source": [
    "#now_df.to_csv(\"data/small_sample.txt\", index=False)"
   ]
  },
  {
   "cell_type": "code",
   "execution_count": 5,
   "metadata": {
    "ExecuteTime": {
     "end_time": "2021-03-08T05:43:17.439244Z",
     "start_time": "2021-03-08T05:42:48.621556Z"
    }
   },
   "outputs": [],
   "source": [
    "#initialize\n",
    "nowTFVectorizer = sklearn.feature_extraction.text.TfidfVectorizer(max_df=0.5, max_features=1000, min_df=3, stop_words='english', norm='l2')\n",
    "#train\n",
    "nowTFVects = nowTFVectorizer.fit_transform(now_df['text'])"
   ]
  },
  {
   "cell_type": "code",
   "execution_count": 6,
   "metadata": {
    "ExecuteTime": {
     "end_time": "2021-03-08T05:53:46.401416Z",
     "start_time": "2021-03-08T05:43:17.441193Z"
    }
   },
   "outputs": [],
   "source": [
    "now_df['tokenized_text'] = now_df['text'].apply(lambda x: lucem_illud.word_tokenize(x))\n",
    "now_df['normalized_tokens'] = now_df['tokenized_text'].apply(lambda x: lucem_illud.normalizeTokens(x))"
   ]
  },
  {
   "cell_type": "code",
   "execution_count": 7,
   "metadata": {
    "ExecuteTime": {
     "end_time": "2021-03-08T05:53:50.859858Z",
     "start_time": "2021-03-08T05:53:46.404349Z"
    }
   },
   "outputs": [],
   "source": [
    "def dropMissing(wordLst, vocab):\n",
    "    return [w for w in wordLst if w in vocab]\n",
    "\n",
    "now_df['reduced_tokens'] = now_df['normalized_tokens'].apply(lambda x: dropMissing(x, nowTFVectorizer.vocabulary_.keys()))"
   ]
  },
  {
   "cell_type": "code",
   "execution_count": 8,
   "metadata": {
    "ExecuteTime": {
     "end_time": "2021-03-08T05:53:58.040202Z",
     "start_time": "2021-03-08T05:53:50.861859Z"
    }
   },
   "outputs": [],
   "source": [
    "dictionary = gensim.corpora.Dictionary(now_df['reduced_tokens'])"
   ]
  },
  {
   "cell_type": "code",
   "execution_count": 9,
   "metadata": {
    "ExecuteTime": {
     "end_time": "2021-03-08T05:54:02.671943Z",
     "start_time": "2021-03-08T05:53:58.040202Z"
    }
   },
   "outputs": [],
   "source": [
    "corpus = [dictionary.doc2bow(text) for text in now_df['reduced_tokens']]"
   ]
  },
  {
   "cell_type": "code",
   "execution_count": 10,
   "metadata": {
    "ExecuteTime": {
     "end_time": "2021-03-08T05:54:08.218767Z",
     "start_time": "2021-03-08T05:54:02.673871Z"
    }
   },
   "outputs": [],
   "source": [
    "gensim.corpora.MmCorpus.serialize('data/now.mm', corpus)\n",
    "nowmm = gensim.corpora.MmCorpus('data/now.mm')"
   ]
  },
  {
   "cell_type": "code",
   "execution_count": 11,
   "metadata": {
    "ExecuteTime": {
     "end_time": "2021-03-08T05:54:52.479496Z",
     "start_time": "2021-03-08T05:54:08.220674Z"
    }
   },
   "outputs": [],
   "source": [
    "nowlda = gensim.models.ldamodel.LdaModel(corpus=nowmm, id2word=dictionary, num_topics=10, alpha='auto', eta='auto')"
   ]
  },
  {
   "cell_type": "code",
   "execution_count": 12,
   "metadata": {
    "ExecuteTime": {
     "end_time": "2021-03-08T05:55:29.618167Z",
     "start_time": "2021-03-08T05:54:52.480427Z"
    }
   },
   "outputs": [],
   "source": [
    "ldaDF = pandas.DataFrame({\n",
    "        'id' : now_df['id'],\n",
    "        'year' : now_df['year'],\n",
    "        'topics' : [nowlda[dictionary.doc2bow(l)] for l in now_df['reduced_tokens']]\n",
    "    })"
   ]
  },
  {
   "cell_type": "code",
   "execution_count": 13,
   "metadata": {
    "ExecuteTime": {
     "end_time": "2021-03-08T05:55:29.644115Z",
     "start_time": "2021-03-08T05:55:29.619117Z"
    }
   },
   "outputs": [
    {
     "data": {
      "text/html": [
       "<div>\n",
       "<style scoped>\n",
       "    .dataframe tbody tr th:only-of-type {\n",
       "        vertical-align: middle;\n",
       "    }\n",
       "\n",
       "    .dataframe tbody tr th {\n",
       "        vertical-align: top;\n",
       "    }\n",
       "\n",
       "    .dataframe thead th {\n",
       "        text-align: right;\n",
       "    }\n",
       "</style>\n",
       "<table border=\"1\" class=\"dataframe\">\n",
       "  <thead>\n",
       "    <tr style=\"text-align: right;\">\n",
       "      <th></th>\n",
       "      <th>id</th>\n",
       "      <th>year</th>\n",
       "      <th>topics</th>\n",
       "    </tr>\n",
       "  </thead>\n",
       "  <tbody>\n",
       "    <tr>\n",
       "      <th>0</th>\n",
       "      <td>1705816</td>\n",
       "      <td>10</td>\n",
       "      <td>[(0, 0.46789294), (3, 0.05461513), (5, 0.10503...</td>\n",
       "    </tr>\n",
       "    <tr>\n",
       "      <th>1</th>\n",
       "      <td>4512620</td>\n",
       "      <td>10</td>\n",
       "      <td>[(5, 0.17833693), (7, 0.3979442), (9, 0.4194473)]</td>\n",
       "    </tr>\n",
       "    <tr>\n",
       "      <th>2</th>\n",
       "      <td>1448476</td>\n",
       "      <td>10</td>\n",
       "      <td>[(0, 0.714647), (9, 0.28103396)]</td>\n",
       "    </tr>\n",
       "    <tr>\n",
       "      <th>3</th>\n",
       "      <td>1490802</td>\n",
       "      <td>10</td>\n",
       "      <td>[(1, 0.108608775), (3, 0.16591899), (5, 0.3892...</td>\n",
       "    </tr>\n",
       "    <tr>\n",
       "      <th>4</th>\n",
       "      <td>1647381</td>\n",
       "      <td>10</td>\n",
       "      <td>[(1, 0.23715556), (3, 0.6763715), (9, 0.081746...</td>\n",
       "    </tr>\n",
       "    <tr>\n",
       "      <th>...</th>\n",
       "      <td>...</td>\n",
       "      <td>...</td>\n",
       "      <td>...</td>\n",
       "    </tr>\n",
       "    <tr>\n",
       "      <th>45425</th>\n",
       "      <td>31034526</td>\n",
       "      <td>19</td>\n",
       "      <td>[(2, 0.16891086), (3, 0.41919085), (4, 0.01667...</td>\n",
       "    </tr>\n",
       "    <tr>\n",
       "      <th>45426</th>\n",
       "      <td>50673735</td>\n",
       "      <td>19</td>\n",
       "      <td>[(1, 0.025462797), (4, 0.15318277), (7, 0.6069...</td>\n",
       "    </tr>\n",
       "    <tr>\n",
       "      <th>45427</th>\n",
       "      <td>31262587</td>\n",
       "      <td>19</td>\n",
       "      <td>[(1, 0.0361597), (3, 0.17191525), (4, 0.446679...</td>\n",
       "    </tr>\n",
       "    <tr>\n",
       "      <th>45428</th>\n",
       "      <td>50662844</td>\n",
       "      <td>19</td>\n",
       "      <td>[(0, 0.18092419), (3, 0.36152542), (5, 0.10246...</td>\n",
       "    </tr>\n",
       "    <tr>\n",
       "      <th>45429</th>\n",
       "      <td>30663231</td>\n",
       "      <td>19</td>\n",
       "      <td>[(2, 0.025887541), (7, 0.05217153), (8, 0.1493...</td>\n",
       "    </tr>\n",
       "  </tbody>\n",
       "</table>\n",
       "<p>45429 rows × 3 columns</p>\n",
       "</div>"
      ],
      "text/plain": [
       "             id  year                                             topics\n",
       "0       1705816    10  [(0, 0.46789294), (3, 0.05461513), (5, 0.10503...\n",
       "1       4512620    10  [(5, 0.17833693), (7, 0.3979442), (9, 0.4194473)]\n",
       "2       1448476    10                   [(0, 0.714647), (9, 0.28103396)]\n",
       "3       1490802    10  [(1, 0.108608775), (3, 0.16591899), (5, 0.3892...\n",
       "4       1647381    10  [(1, 0.23715556), (3, 0.6763715), (9, 0.081746...\n",
       "...         ...   ...                                                ...\n",
       "45425  31034526    19  [(2, 0.16891086), (3, 0.41919085), (4, 0.01667...\n",
       "45426  50673735    19  [(1, 0.025462797), (4, 0.15318277), (7, 0.6069...\n",
       "45427  31262587    19  [(1, 0.0361597), (3, 0.17191525), (4, 0.446679...\n",
       "45428  50662844    19  [(0, 0.18092419), (3, 0.36152542), (5, 0.10246...\n",
       "45429  30663231    19  [(2, 0.025887541), (7, 0.05217153), (8, 0.1493...\n",
       "\n",
       "[45429 rows x 3 columns]"
      ]
     },
     "execution_count": 13,
     "metadata": {},
     "output_type": "execute_result"
    }
   ],
   "source": [
    "ldaDF"
   ]
  },
  {
   "cell_type": "code",
   "execution_count": 14,
   "metadata": {
    "ExecuteTime": {
     "end_time": "2021-03-08T05:55:29.813121Z",
     "start_time": "2021-03-08T05:55:29.647137Z"
    }
   },
   "outputs": [],
   "source": [
    "#Dict to temporally hold the probabilities\n",
    "topicsProbDict = {i : [0] * len(ldaDF) for i in range(nowlda.num_topics)}\n",
    "\n",
    "#Load them into the dict\n",
    "for index, topicTuples in enumerate(ldaDF['topics']):\n",
    "    for topicNum, prob in topicTuples:\n",
    "        topicsProbDict[topicNum][index] = prob\n",
    "\n",
    "#Update the DataFrame\n",
    "for topicNum in range(nowlda.num_topics):\n",
    "    ldaDF['topic_{}'.format(topicNum)] = topicsProbDict[topicNum]"
   ]
  },
  {
   "cell_type": "code",
   "execution_count": 15,
   "metadata": {
    "ExecuteTime": {
     "end_time": "2021-03-08T05:55:29.900137Z",
     "start_time": "2021-03-08T05:55:29.816123Z"
    }
   },
   "outputs": [
    {
     "data": {
      "text/html": [
       "<div>\n",
       "<style scoped>\n",
       "    .dataframe tbody tr th:only-of-type {\n",
       "        vertical-align: middle;\n",
       "    }\n",
       "\n",
       "    .dataframe tbody tr th {\n",
       "        vertical-align: top;\n",
       "    }\n",
       "\n",
       "    .dataframe thead th {\n",
       "        text-align: right;\n",
       "    }\n",
       "</style>\n",
       "<table border=\"1\" class=\"dataframe\">\n",
       "  <thead>\n",
       "    <tr style=\"text-align: right;\">\n",
       "      <th></th>\n",
       "      <th>id</th>\n",
       "      <th>year</th>\n",
       "      <th>topics</th>\n",
       "      <th>topic_0</th>\n",
       "      <th>topic_1</th>\n",
       "      <th>topic_2</th>\n",
       "      <th>topic_3</th>\n",
       "      <th>topic_4</th>\n",
       "      <th>topic_5</th>\n",
       "      <th>topic_6</th>\n",
       "      <th>topic_7</th>\n",
       "      <th>topic_8</th>\n",
       "      <th>topic_9</th>\n",
       "    </tr>\n",
       "  </thead>\n",
       "  <tbody>\n",
       "    <tr>\n",
       "      <th>0</th>\n",
       "      <td>1563224</td>\n",
       "      <td>10</td>\n",
       "      <td>[(0, 0.4312536), (1, 0.3387448), (4, 0.0606277...</td>\n",
       "      <td>0.431254</td>\n",
       "      <td>0.338745</td>\n",
       "      <td>0.000000</td>\n",
       "      <td>0.000000</td>\n",
       "      <td>0.060628</td>\n",
       "      <td>0.043584</td>\n",
       "      <td>0.000000</td>\n",
       "      <td>0.123570</td>\n",
       "      <td>0.000000</td>\n",
       "      <td>0.000000</td>\n",
       "    </tr>\n",
       "    <tr>\n",
       "      <th>1</th>\n",
       "      <td>1451590</td>\n",
       "      <td>10</td>\n",
       "      <td>[(1, 0.17420802), (3, 0.6134578), (8, 0.015268...</td>\n",
       "      <td>0.000000</td>\n",
       "      <td>0.174208</td>\n",
       "      <td>0.000000</td>\n",
       "      <td>0.613458</td>\n",
       "      <td>0.000000</td>\n",
       "      <td>0.000000</td>\n",
       "      <td>0.000000</td>\n",
       "      <td>0.000000</td>\n",
       "      <td>0.015268</td>\n",
       "      <td>0.195263</td>\n",
       "    </tr>\n",
       "    <tr>\n",
       "      <th>2</th>\n",
       "      <td>4111108</td>\n",
       "      <td>11</td>\n",
       "      <td>[(0, 0.077267244), (3, 0.04065723), (9, 0.8798...</td>\n",
       "      <td>0.077267</td>\n",
       "      <td>0.000000</td>\n",
       "      <td>0.000000</td>\n",
       "      <td>0.040657</td>\n",
       "      <td>0.000000</td>\n",
       "      <td>0.000000</td>\n",
       "      <td>0.000000</td>\n",
       "      <td>0.000000</td>\n",
       "      <td>0.000000</td>\n",
       "      <td>0.879876</td>\n",
       "    </tr>\n",
       "    <tr>\n",
       "      <th>3</th>\n",
       "      <td>4244553</td>\n",
       "      <td>11</td>\n",
       "      <td>[(4, 0.02725928), (5, 0.016135849), (8, 0.7298...</td>\n",
       "      <td>0.000000</td>\n",
       "      <td>0.000000</td>\n",
       "      <td>0.000000</td>\n",
       "      <td>0.000000</td>\n",
       "      <td>0.027259</td>\n",
       "      <td>0.016136</td>\n",
       "      <td>0.000000</td>\n",
       "      <td>0.000000</td>\n",
       "      <td>0.729813</td>\n",
       "      <td>0.225441</td>\n",
       "    </tr>\n",
       "    <tr>\n",
       "      <th>4</th>\n",
       "      <td>1237839</td>\n",
       "      <td>12</td>\n",
       "      <td>[(2, 0.28756532), (3, 0.10317103), (4, 0.44643...</td>\n",
       "      <td>0.000000</td>\n",
       "      <td>0.000000</td>\n",
       "      <td>0.287565</td>\n",
       "      <td>0.103171</td>\n",
       "      <td>0.446434</td>\n",
       "      <td>0.000000</td>\n",
       "      <td>0.000000</td>\n",
       "      <td>0.155893</td>\n",
       "      <td>0.000000</td>\n",
       "      <td>0.000000</td>\n",
       "    </tr>\n",
       "    <tr>\n",
       "      <th>5</th>\n",
       "      <td>830162</td>\n",
       "      <td>12</td>\n",
       "      <td>[(1, 0.18145803), (3, 0.16915679), (5, 0.23545...</td>\n",
       "      <td>0.000000</td>\n",
       "      <td>0.181458</td>\n",
       "      <td>0.000000</td>\n",
       "      <td>0.169157</td>\n",
       "      <td>0.000000</td>\n",
       "      <td>0.235459</td>\n",
       "      <td>0.000000</td>\n",
       "      <td>0.082334</td>\n",
       "      <td>0.044218</td>\n",
       "      <td>0.285575</td>\n",
       "    </tr>\n",
       "    <tr>\n",
       "      <th>6</th>\n",
       "      <td>561358</td>\n",
       "      <td>13</td>\n",
       "      <td>[(1, 0.4414811), (4, 0.33261058), (7, 0.216235...</td>\n",
       "      <td>0.000000</td>\n",
       "      <td>0.441481</td>\n",
       "      <td>0.000000</td>\n",
       "      <td>0.000000</td>\n",
       "      <td>0.332611</td>\n",
       "      <td>0.000000</td>\n",
       "      <td>0.000000</td>\n",
       "      <td>0.216236</td>\n",
       "      <td>0.000000</td>\n",
       "      <td>0.000000</td>\n",
       "    </tr>\n",
       "    <tr>\n",
       "      <th>7</th>\n",
       "      <td>2027451</td>\n",
       "      <td>13</td>\n",
       "      <td>[(1, 0.06298716), (3, 0.5324159), (4, 0.225255...</td>\n",
       "      <td>0.000000</td>\n",
       "      <td>0.062987</td>\n",
       "      <td>0.000000</td>\n",
       "      <td>0.532416</td>\n",
       "      <td>0.225256</td>\n",
       "      <td>0.000000</td>\n",
       "      <td>0.000000</td>\n",
       "      <td>0.000000</td>\n",
       "      <td>0.000000</td>\n",
       "      <td>0.176567</td>\n",
       "    </tr>\n",
       "    <tr>\n",
       "      <th>8</th>\n",
       "      <td>4615147</td>\n",
       "      <td>14</td>\n",
       "      <td>[(0, 0.03836064), (3, 0.95892245)]</td>\n",
       "      <td>0.038361</td>\n",
       "      <td>0.000000</td>\n",
       "      <td>0.000000</td>\n",
       "      <td>0.958922</td>\n",
       "      <td>0.000000</td>\n",
       "      <td>0.000000</td>\n",
       "      <td>0.000000</td>\n",
       "      <td>0.000000</td>\n",
       "      <td>0.000000</td>\n",
       "      <td>0.000000</td>\n",
       "    </tr>\n",
       "    <tr>\n",
       "      <th>9</th>\n",
       "      <td>2307789</td>\n",
       "      <td>14</td>\n",
       "      <td>[(1, 0.3021243), (2, 0.043693945), (5, 0.65188...</td>\n",
       "      <td>0.000000</td>\n",
       "      <td>0.302124</td>\n",
       "      <td>0.043694</td>\n",
       "      <td>0.000000</td>\n",
       "      <td>0.000000</td>\n",
       "      <td>0.651888</td>\n",
       "      <td>0.000000</td>\n",
       "      <td>0.000000</td>\n",
       "      <td>0.000000</td>\n",
       "      <td>0.000000</td>\n",
       "    </tr>\n",
       "    <tr>\n",
       "      <th>10</th>\n",
       "      <td>3310162</td>\n",
       "      <td>15</td>\n",
       "      <td>[(4, 0.33396718), (5, 0.049628127), (7, 0.1462...</td>\n",
       "      <td>0.000000</td>\n",
       "      <td>0.000000</td>\n",
       "      <td>0.000000</td>\n",
       "      <td>0.000000</td>\n",
       "      <td>0.333967</td>\n",
       "      <td>0.049628</td>\n",
       "      <td>0.000000</td>\n",
       "      <td>0.146218</td>\n",
       "      <td>0.467331</td>\n",
       "      <td>0.000000</td>\n",
       "    </tr>\n",
       "    <tr>\n",
       "      <th>11</th>\n",
       "      <td>3299980</td>\n",
       "      <td>15</td>\n",
       "      <td>[(0, 0.5941503), (3, 0.014662533), (6, 0.05549...</td>\n",
       "      <td>0.594150</td>\n",
       "      <td>0.000000</td>\n",
       "      <td>0.000000</td>\n",
       "      <td>0.014663</td>\n",
       "      <td>0.000000</td>\n",
       "      <td>0.000000</td>\n",
       "      <td>0.055491</td>\n",
       "      <td>0.000000</td>\n",
       "      <td>0.061397</td>\n",
       "      <td>0.272558</td>\n",
       "    </tr>\n",
       "    <tr>\n",
       "      <th>12</th>\n",
       "      <td>7371072</td>\n",
       "      <td>16</td>\n",
       "      <td>[(2, 0.7037301), (5, 0.2865097)]</td>\n",
       "      <td>0.000000</td>\n",
       "      <td>0.000000</td>\n",
       "      <td>0.703730</td>\n",
       "      <td>0.000000</td>\n",
       "      <td>0.000000</td>\n",
       "      <td>0.286510</td>\n",
       "      <td>0.000000</td>\n",
       "      <td>0.000000</td>\n",
       "      <td>0.000000</td>\n",
       "      <td>0.000000</td>\n",
       "    </tr>\n",
       "    <tr>\n",
       "      <th>13</th>\n",
       "      <td>14237405</td>\n",
       "      <td>16</td>\n",
       "      <td>[(0, 0.6898216), (7, 0.08103056), (9, 0.227044...</td>\n",
       "      <td>0.689822</td>\n",
       "      <td>0.000000</td>\n",
       "      <td>0.000000</td>\n",
       "      <td>0.000000</td>\n",
       "      <td>0.000000</td>\n",
       "      <td>0.000000</td>\n",
       "      <td>0.000000</td>\n",
       "      <td>0.081031</td>\n",
       "      <td>0.000000</td>\n",
       "      <td>0.227045</td>\n",
       "    </tr>\n",
       "    <tr>\n",
       "      <th>14</th>\n",
       "      <td>18504892</td>\n",
       "      <td>17</td>\n",
       "      <td>[(1, 0.38204384), (3, 0.049473833), (5, 0.3070...</td>\n",
       "      <td>0.000000</td>\n",
       "      <td>0.382044</td>\n",
       "      <td>0.000000</td>\n",
       "      <td>0.049474</td>\n",
       "      <td>0.000000</td>\n",
       "      <td>0.307052</td>\n",
       "      <td>0.000000</td>\n",
       "      <td>0.036964</td>\n",
       "      <td>0.000000</td>\n",
       "      <td>0.221500</td>\n",
       "    </tr>\n",
       "    <tr>\n",
       "      <th>15</th>\n",
       "      <td>21841104</td>\n",
       "      <td>17</td>\n",
       "      <td>[(0, 0.026555918), (1, 0.4805876), (2, 0.09602...</td>\n",
       "      <td>0.026556</td>\n",
       "      <td>0.480588</td>\n",
       "      <td>0.096028</td>\n",
       "      <td>0.000000</td>\n",
       "      <td>0.000000</td>\n",
       "      <td>0.116557</td>\n",
       "      <td>0.000000</td>\n",
       "      <td>0.000000</td>\n",
       "      <td>0.000000</td>\n",
       "      <td>0.279522</td>\n",
       "    </tr>\n",
       "    <tr>\n",
       "      <th>16</th>\n",
       "      <td>50138096</td>\n",
       "      <td>18</td>\n",
       "      <td>[(2, 0.14251871), (4, 0.40044498), (5, 0.05530...</td>\n",
       "      <td>0.000000</td>\n",
       "      <td>0.000000</td>\n",
       "      <td>0.142519</td>\n",
       "      <td>0.000000</td>\n",
       "      <td>0.400445</td>\n",
       "      <td>0.055305</td>\n",
       "      <td>0.000000</td>\n",
       "      <td>0.000000</td>\n",
       "      <td>0.022809</td>\n",
       "      <td>0.377724</td>\n",
       "    </tr>\n",
       "    <tr>\n",
       "      <th>17</th>\n",
       "      <td>24252321</td>\n",
       "      <td>18</td>\n",
       "      <td>[(1, 0.04416543), (4, 0.37918663), (7, 0.32410...</td>\n",
       "      <td>0.000000</td>\n",
       "      <td>0.044165</td>\n",
       "      <td>0.000000</td>\n",
       "      <td>0.000000</td>\n",
       "      <td>0.379187</td>\n",
       "      <td>0.000000</td>\n",
       "      <td>0.000000</td>\n",
       "      <td>0.324106</td>\n",
       "      <td>0.251404</td>\n",
       "      <td>0.000000</td>\n",
       "    </tr>\n",
       "    <tr>\n",
       "      <th>18</th>\n",
       "      <td>70725573</td>\n",
       "      <td>19</td>\n",
       "      <td>[(0, 0.24512862), (1, 0.28318027), (4, 0.15922...</td>\n",
       "      <td>0.245129</td>\n",
       "      <td>0.283180</td>\n",
       "      <td>0.000000</td>\n",
       "      <td>0.000000</td>\n",
       "      <td>0.159225</td>\n",
       "      <td>0.000000</td>\n",
       "      <td>0.000000</td>\n",
       "      <td>0.000000</td>\n",
       "      <td>0.000000</td>\n",
       "      <td>0.309845</td>\n",
       "    </tr>\n",
       "    <tr>\n",
       "      <th>19</th>\n",
       "      <td>61262538</td>\n",
       "      <td>19</td>\n",
       "      <td>[(1, 0.19126643), (5, 0.08444346), (6, 0.26864...</td>\n",
       "      <td>0.000000</td>\n",
       "      <td>0.191266</td>\n",
       "      <td>0.000000</td>\n",
       "      <td>0.000000</td>\n",
       "      <td>0.000000</td>\n",
       "      <td>0.084443</td>\n",
       "      <td>0.268649</td>\n",
       "      <td>0.181658</td>\n",
       "      <td>0.000000</td>\n",
       "      <td>0.267698</td>\n",
       "    </tr>\n",
       "  </tbody>\n",
       "</table>\n",
       "</div>"
      ],
      "text/plain": [
       "          id  year                                             topics  \\\n",
       "0    1563224    10  [(0, 0.4312536), (1, 0.3387448), (4, 0.0606277...   \n",
       "1    1451590    10  [(1, 0.17420802), (3, 0.6134578), (8, 0.015268...   \n",
       "2    4111108    11  [(0, 0.077267244), (3, 0.04065723), (9, 0.8798...   \n",
       "3    4244553    11  [(4, 0.02725928), (5, 0.016135849), (8, 0.7298...   \n",
       "4    1237839    12  [(2, 0.28756532), (3, 0.10317103), (4, 0.44643...   \n",
       "5     830162    12  [(1, 0.18145803), (3, 0.16915679), (5, 0.23545...   \n",
       "6     561358    13  [(1, 0.4414811), (4, 0.33261058), (7, 0.216235...   \n",
       "7    2027451    13  [(1, 0.06298716), (3, 0.5324159), (4, 0.225255...   \n",
       "8    4615147    14                 [(0, 0.03836064), (3, 0.95892245)]   \n",
       "9    2307789    14  [(1, 0.3021243), (2, 0.043693945), (5, 0.65188...   \n",
       "10   3310162    15  [(4, 0.33396718), (5, 0.049628127), (7, 0.1462...   \n",
       "11   3299980    15  [(0, 0.5941503), (3, 0.014662533), (6, 0.05549...   \n",
       "12   7371072    16                   [(2, 0.7037301), (5, 0.2865097)]   \n",
       "13  14237405    16  [(0, 0.6898216), (7, 0.08103056), (9, 0.227044...   \n",
       "14  18504892    17  [(1, 0.38204384), (3, 0.049473833), (5, 0.3070...   \n",
       "15  21841104    17  [(0, 0.026555918), (1, 0.4805876), (2, 0.09602...   \n",
       "16  50138096    18  [(2, 0.14251871), (4, 0.40044498), (5, 0.05530...   \n",
       "17  24252321    18  [(1, 0.04416543), (4, 0.37918663), (7, 0.32410...   \n",
       "18  70725573    19  [(0, 0.24512862), (1, 0.28318027), (4, 0.15922...   \n",
       "19  61262538    19  [(1, 0.19126643), (5, 0.08444346), (6, 0.26864...   \n",
       "\n",
       "     topic_0   topic_1   topic_2   topic_3   topic_4   topic_5   topic_6  \\\n",
       "0   0.431254  0.338745  0.000000  0.000000  0.060628  0.043584  0.000000   \n",
       "1   0.000000  0.174208  0.000000  0.613458  0.000000  0.000000  0.000000   \n",
       "2   0.077267  0.000000  0.000000  0.040657  0.000000  0.000000  0.000000   \n",
       "3   0.000000  0.000000  0.000000  0.000000  0.027259  0.016136  0.000000   \n",
       "4   0.000000  0.000000  0.287565  0.103171  0.446434  0.000000  0.000000   \n",
       "5   0.000000  0.181458  0.000000  0.169157  0.000000  0.235459  0.000000   \n",
       "6   0.000000  0.441481  0.000000  0.000000  0.332611  0.000000  0.000000   \n",
       "7   0.000000  0.062987  0.000000  0.532416  0.225256  0.000000  0.000000   \n",
       "8   0.038361  0.000000  0.000000  0.958922  0.000000  0.000000  0.000000   \n",
       "9   0.000000  0.302124  0.043694  0.000000  0.000000  0.651888  0.000000   \n",
       "10  0.000000  0.000000  0.000000  0.000000  0.333967  0.049628  0.000000   \n",
       "11  0.594150  0.000000  0.000000  0.014663  0.000000  0.000000  0.055491   \n",
       "12  0.000000  0.000000  0.703730  0.000000  0.000000  0.286510  0.000000   \n",
       "13  0.689822  0.000000  0.000000  0.000000  0.000000  0.000000  0.000000   \n",
       "14  0.000000  0.382044  0.000000  0.049474  0.000000  0.307052  0.000000   \n",
       "15  0.026556  0.480588  0.096028  0.000000  0.000000  0.116557  0.000000   \n",
       "16  0.000000  0.000000  0.142519  0.000000  0.400445  0.055305  0.000000   \n",
       "17  0.000000  0.044165  0.000000  0.000000  0.379187  0.000000  0.000000   \n",
       "18  0.245129  0.283180  0.000000  0.000000  0.159225  0.000000  0.000000   \n",
       "19  0.000000  0.191266  0.000000  0.000000  0.000000  0.084443  0.268649   \n",
       "\n",
       "     topic_7   topic_8   topic_9  \n",
       "0   0.123570  0.000000  0.000000  \n",
       "1   0.000000  0.015268  0.195263  \n",
       "2   0.000000  0.000000  0.879876  \n",
       "3   0.000000  0.729813  0.225441  \n",
       "4   0.155893  0.000000  0.000000  \n",
       "5   0.082334  0.044218  0.285575  \n",
       "6   0.216236  0.000000  0.000000  \n",
       "7   0.000000  0.000000  0.176567  \n",
       "8   0.000000  0.000000  0.000000  \n",
       "9   0.000000  0.000000  0.000000  \n",
       "10  0.146218  0.467331  0.000000  \n",
       "11  0.000000  0.061397  0.272558  \n",
       "12  0.000000  0.000000  0.000000  \n",
       "13  0.081031  0.000000  0.227045  \n",
       "14  0.036964  0.000000  0.221500  \n",
       "15  0.000000  0.000000  0.279522  \n",
       "16  0.000000  0.022809  0.377724  \n",
       "17  0.324106  0.251404  0.000000  \n",
       "18  0.000000  0.000000  0.309845  \n",
       "19  0.181658  0.000000  0.267698  "
      ]
     },
     "execution_count": 15,
     "metadata": {},
     "output_type": "execute_result"
    }
   ],
   "source": [
    "#randomly sample 2 news from each year\n",
    "df = ldaDF.groupby('year').apply(lambda x: x.sample(2, random_state = 123)).reset_index(drop=True)\n",
    "df"
   ]
  },
  {
   "cell_type": "code",
   "execution_count": 16,
   "metadata": {
    "ExecuteTime": {
     "end_time": "2021-03-08T05:55:29.923115Z",
     "start_time": "2021-03-08T05:55:29.902116Z"
    }
   },
   "outputs": [
    {
     "data": {
      "text/html": [
       "<div>\n",
       "<style scoped>\n",
       "    .dataframe tbody tr th:only-of-type {\n",
       "        vertical-align: middle;\n",
       "    }\n",
       "\n",
       "    .dataframe tbody tr th {\n",
       "        vertical-align: top;\n",
       "    }\n",
       "\n",
       "    .dataframe thead th {\n",
       "        text-align: right;\n",
       "    }\n",
       "</style>\n",
       "<table border=\"1\" class=\"dataframe\">\n",
       "  <thead>\n",
       "    <tr style=\"text-align: right;\">\n",
       "      <th></th>\n",
       "      <th>topic_0</th>\n",
       "      <th>topic_1</th>\n",
       "      <th>topic_2</th>\n",
       "      <th>topic_3</th>\n",
       "      <th>topic_4</th>\n",
       "      <th>topic_5</th>\n",
       "      <th>topic_6</th>\n",
       "      <th>topic_7</th>\n",
       "      <th>topic_8</th>\n",
       "      <th>topic_9</th>\n",
       "    </tr>\n",
       "  </thead>\n",
       "  <tbody>\n",
       "    <tr>\n",
       "      <th>0</th>\n",
       "      <td>0.431254</td>\n",
       "      <td>0.338745</td>\n",
       "      <td>0.000000</td>\n",
       "      <td>0.000000</td>\n",
       "      <td>0.060628</td>\n",
       "      <td>0.043584</td>\n",
       "      <td>0.000000</td>\n",
       "      <td>0.123570</td>\n",
       "      <td>0.000000</td>\n",
       "      <td>0.000000</td>\n",
       "    </tr>\n",
       "    <tr>\n",
       "      <th>1</th>\n",
       "      <td>0.000000</td>\n",
       "      <td>0.174208</td>\n",
       "      <td>0.000000</td>\n",
       "      <td>0.613458</td>\n",
       "      <td>0.000000</td>\n",
       "      <td>0.000000</td>\n",
       "      <td>0.000000</td>\n",
       "      <td>0.000000</td>\n",
       "      <td>0.015268</td>\n",
       "      <td>0.195263</td>\n",
       "    </tr>\n",
       "    <tr>\n",
       "      <th>2</th>\n",
       "      <td>0.077267</td>\n",
       "      <td>0.000000</td>\n",
       "      <td>0.000000</td>\n",
       "      <td>0.040657</td>\n",
       "      <td>0.000000</td>\n",
       "      <td>0.000000</td>\n",
       "      <td>0.000000</td>\n",
       "      <td>0.000000</td>\n",
       "      <td>0.000000</td>\n",
       "      <td>0.879876</td>\n",
       "    </tr>\n",
       "    <tr>\n",
       "      <th>3</th>\n",
       "      <td>0.000000</td>\n",
       "      <td>0.000000</td>\n",
       "      <td>0.000000</td>\n",
       "      <td>0.000000</td>\n",
       "      <td>0.027259</td>\n",
       "      <td>0.016136</td>\n",
       "      <td>0.000000</td>\n",
       "      <td>0.000000</td>\n",
       "      <td>0.729813</td>\n",
       "      <td>0.225441</td>\n",
       "    </tr>\n",
       "    <tr>\n",
       "      <th>4</th>\n",
       "      <td>0.000000</td>\n",
       "      <td>0.000000</td>\n",
       "      <td>0.287565</td>\n",
       "      <td>0.103171</td>\n",
       "      <td>0.446434</td>\n",
       "      <td>0.000000</td>\n",
       "      <td>0.000000</td>\n",
       "      <td>0.155893</td>\n",
       "      <td>0.000000</td>\n",
       "      <td>0.000000</td>\n",
       "    </tr>\n",
       "    <tr>\n",
       "      <th>5</th>\n",
       "      <td>0.000000</td>\n",
       "      <td>0.181458</td>\n",
       "      <td>0.000000</td>\n",
       "      <td>0.169157</td>\n",
       "      <td>0.000000</td>\n",
       "      <td>0.235459</td>\n",
       "      <td>0.000000</td>\n",
       "      <td>0.082334</td>\n",
       "      <td>0.044218</td>\n",
       "      <td>0.285575</td>\n",
       "    </tr>\n",
       "    <tr>\n",
       "      <th>6</th>\n",
       "      <td>0.000000</td>\n",
       "      <td>0.441481</td>\n",
       "      <td>0.000000</td>\n",
       "      <td>0.000000</td>\n",
       "      <td>0.332611</td>\n",
       "      <td>0.000000</td>\n",
       "      <td>0.000000</td>\n",
       "      <td>0.216236</td>\n",
       "      <td>0.000000</td>\n",
       "      <td>0.000000</td>\n",
       "    </tr>\n",
       "    <tr>\n",
       "      <th>7</th>\n",
       "      <td>0.000000</td>\n",
       "      <td>0.062987</td>\n",
       "      <td>0.000000</td>\n",
       "      <td>0.532416</td>\n",
       "      <td>0.225256</td>\n",
       "      <td>0.000000</td>\n",
       "      <td>0.000000</td>\n",
       "      <td>0.000000</td>\n",
       "      <td>0.000000</td>\n",
       "      <td>0.176567</td>\n",
       "    </tr>\n",
       "    <tr>\n",
       "      <th>8</th>\n",
       "      <td>0.038361</td>\n",
       "      <td>0.000000</td>\n",
       "      <td>0.000000</td>\n",
       "      <td>0.958922</td>\n",
       "      <td>0.000000</td>\n",
       "      <td>0.000000</td>\n",
       "      <td>0.000000</td>\n",
       "      <td>0.000000</td>\n",
       "      <td>0.000000</td>\n",
       "      <td>0.000000</td>\n",
       "    </tr>\n",
       "    <tr>\n",
       "      <th>9</th>\n",
       "      <td>0.000000</td>\n",
       "      <td>0.302124</td>\n",
       "      <td>0.043694</td>\n",
       "      <td>0.000000</td>\n",
       "      <td>0.000000</td>\n",
       "      <td>0.651888</td>\n",
       "      <td>0.000000</td>\n",
       "      <td>0.000000</td>\n",
       "      <td>0.000000</td>\n",
       "      <td>0.000000</td>\n",
       "    </tr>\n",
       "    <tr>\n",
       "      <th>10</th>\n",
       "      <td>0.000000</td>\n",
       "      <td>0.000000</td>\n",
       "      <td>0.000000</td>\n",
       "      <td>0.000000</td>\n",
       "      <td>0.333967</td>\n",
       "      <td>0.049628</td>\n",
       "      <td>0.000000</td>\n",
       "      <td>0.146218</td>\n",
       "      <td>0.467331</td>\n",
       "      <td>0.000000</td>\n",
       "    </tr>\n",
       "    <tr>\n",
       "      <th>11</th>\n",
       "      <td>0.594150</td>\n",
       "      <td>0.000000</td>\n",
       "      <td>0.000000</td>\n",
       "      <td>0.014663</td>\n",
       "      <td>0.000000</td>\n",
       "      <td>0.000000</td>\n",
       "      <td>0.055491</td>\n",
       "      <td>0.000000</td>\n",
       "      <td>0.061397</td>\n",
       "      <td>0.272558</td>\n",
       "    </tr>\n",
       "    <tr>\n",
       "      <th>12</th>\n",
       "      <td>0.000000</td>\n",
       "      <td>0.000000</td>\n",
       "      <td>0.703730</td>\n",
       "      <td>0.000000</td>\n",
       "      <td>0.000000</td>\n",
       "      <td>0.286510</td>\n",
       "      <td>0.000000</td>\n",
       "      <td>0.000000</td>\n",
       "      <td>0.000000</td>\n",
       "      <td>0.000000</td>\n",
       "    </tr>\n",
       "    <tr>\n",
       "      <th>13</th>\n",
       "      <td>0.689822</td>\n",
       "      <td>0.000000</td>\n",
       "      <td>0.000000</td>\n",
       "      <td>0.000000</td>\n",
       "      <td>0.000000</td>\n",
       "      <td>0.000000</td>\n",
       "      <td>0.000000</td>\n",
       "      <td>0.081031</td>\n",
       "      <td>0.000000</td>\n",
       "      <td>0.227045</td>\n",
       "    </tr>\n",
       "    <tr>\n",
       "      <th>14</th>\n",
       "      <td>0.000000</td>\n",
       "      <td>0.382044</td>\n",
       "      <td>0.000000</td>\n",
       "      <td>0.049474</td>\n",
       "      <td>0.000000</td>\n",
       "      <td>0.307052</td>\n",
       "      <td>0.000000</td>\n",
       "      <td>0.036964</td>\n",
       "      <td>0.000000</td>\n",
       "      <td>0.221500</td>\n",
       "    </tr>\n",
       "    <tr>\n",
       "      <th>15</th>\n",
       "      <td>0.026556</td>\n",
       "      <td>0.480588</td>\n",
       "      <td>0.096028</td>\n",
       "      <td>0.000000</td>\n",
       "      <td>0.000000</td>\n",
       "      <td>0.116557</td>\n",
       "      <td>0.000000</td>\n",
       "      <td>0.000000</td>\n",
       "      <td>0.000000</td>\n",
       "      <td>0.279522</td>\n",
       "    </tr>\n",
       "    <tr>\n",
       "      <th>16</th>\n",
       "      <td>0.000000</td>\n",
       "      <td>0.000000</td>\n",
       "      <td>0.142519</td>\n",
       "      <td>0.000000</td>\n",
       "      <td>0.400445</td>\n",
       "      <td>0.055305</td>\n",
       "      <td>0.000000</td>\n",
       "      <td>0.000000</td>\n",
       "      <td>0.022809</td>\n",
       "      <td>0.377724</td>\n",
       "    </tr>\n",
       "    <tr>\n",
       "      <th>17</th>\n",
       "      <td>0.000000</td>\n",
       "      <td>0.044165</td>\n",
       "      <td>0.000000</td>\n",
       "      <td>0.000000</td>\n",
       "      <td>0.379187</td>\n",
       "      <td>0.000000</td>\n",
       "      <td>0.000000</td>\n",
       "      <td>0.324106</td>\n",
       "      <td>0.251404</td>\n",
       "      <td>0.000000</td>\n",
       "    </tr>\n",
       "    <tr>\n",
       "      <th>18</th>\n",
       "      <td>0.245129</td>\n",
       "      <td>0.283180</td>\n",
       "      <td>0.000000</td>\n",
       "      <td>0.000000</td>\n",
       "      <td>0.159225</td>\n",
       "      <td>0.000000</td>\n",
       "      <td>0.000000</td>\n",
       "      <td>0.000000</td>\n",
       "      <td>0.000000</td>\n",
       "      <td>0.309845</td>\n",
       "    </tr>\n",
       "    <tr>\n",
       "      <th>19</th>\n",
       "      <td>0.000000</td>\n",
       "      <td>0.191266</td>\n",
       "      <td>0.000000</td>\n",
       "      <td>0.000000</td>\n",
       "      <td>0.000000</td>\n",
       "      <td>0.084443</td>\n",
       "      <td>0.268649</td>\n",
       "      <td>0.181658</td>\n",
       "      <td>0.000000</td>\n",
       "      <td>0.267698</td>\n",
       "    </tr>\n",
       "  </tbody>\n",
       "</table>\n",
       "</div>"
      ],
      "text/plain": [
       "     topic_0   topic_1   topic_2   topic_3   topic_4   topic_5   topic_6  \\\n",
       "0   0.431254  0.338745  0.000000  0.000000  0.060628  0.043584  0.000000   \n",
       "1   0.000000  0.174208  0.000000  0.613458  0.000000  0.000000  0.000000   \n",
       "2   0.077267  0.000000  0.000000  0.040657  0.000000  0.000000  0.000000   \n",
       "3   0.000000  0.000000  0.000000  0.000000  0.027259  0.016136  0.000000   \n",
       "4   0.000000  0.000000  0.287565  0.103171  0.446434  0.000000  0.000000   \n",
       "5   0.000000  0.181458  0.000000  0.169157  0.000000  0.235459  0.000000   \n",
       "6   0.000000  0.441481  0.000000  0.000000  0.332611  0.000000  0.000000   \n",
       "7   0.000000  0.062987  0.000000  0.532416  0.225256  0.000000  0.000000   \n",
       "8   0.038361  0.000000  0.000000  0.958922  0.000000  0.000000  0.000000   \n",
       "9   0.000000  0.302124  0.043694  0.000000  0.000000  0.651888  0.000000   \n",
       "10  0.000000  0.000000  0.000000  0.000000  0.333967  0.049628  0.000000   \n",
       "11  0.594150  0.000000  0.000000  0.014663  0.000000  0.000000  0.055491   \n",
       "12  0.000000  0.000000  0.703730  0.000000  0.000000  0.286510  0.000000   \n",
       "13  0.689822  0.000000  0.000000  0.000000  0.000000  0.000000  0.000000   \n",
       "14  0.000000  0.382044  0.000000  0.049474  0.000000  0.307052  0.000000   \n",
       "15  0.026556  0.480588  0.096028  0.000000  0.000000  0.116557  0.000000   \n",
       "16  0.000000  0.000000  0.142519  0.000000  0.400445  0.055305  0.000000   \n",
       "17  0.000000  0.044165  0.000000  0.000000  0.379187  0.000000  0.000000   \n",
       "18  0.245129  0.283180  0.000000  0.000000  0.159225  0.000000  0.000000   \n",
       "19  0.000000  0.191266  0.000000  0.000000  0.000000  0.084443  0.268649   \n",
       "\n",
       "     topic_7   topic_8   topic_9  \n",
       "0   0.123570  0.000000  0.000000  \n",
       "1   0.000000  0.015268  0.195263  \n",
       "2   0.000000  0.000000  0.879876  \n",
       "3   0.000000  0.729813  0.225441  \n",
       "4   0.155893  0.000000  0.000000  \n",
       "5   0.082334  0.044218  0.285575  \n",
       "6   0.216236  0.000000  0.000000  \n",
       "7   0.000000  0.000000  0.176567  \n",
       "8   0.000000  0.000000  0.000000  \n",
       "9   0.000000  0.000000  0.000000  \n",
       "10  0.146218  0.467331  0.000000  \n",
       "11  0.000000  0.061397  0.272558  \n",
       "12  0.000000  0.000000  0.000000  \n",
       "13  0.081031  0.000000  0.227045  \n",
       "14  0.036964  0.000000  0.221500  \n",
       "15  0.000000  0.000000  0.279522  \n",
       "16  0.000000  0.022809  0.377724  \n",
       "17  0.324106  0.251404  0.000000  \n",
       "18  0.000000  0.000000  0.309845  \n",
       "19  0.181658  0.000000  0.267698  "
      ]
     },
     "execution_count": 16,
     "metadata": {},
     "output_type": "execute_result"
    }
   ],
   "source": [
    "ldaDFV = df[['topic_%d' %x for x in range(10)]]\n",
    "ldaDFVisN = df[['year']]\n",
    "ldaDFVis = ldaDFV.values\n",
    "ldaDFVisNames = ldaDFVisN.values\n",
    "ldaDFV"
   ]
  },
  {
   "cell_type": "code",
   "execution_count": 17,
   "metadata": {
    "ExecuteTime": {
     "end_time": "2021-03-08T05:55:30.815285Z",
     "start_time": "2021-03-08T05:55:29.925117Z"
    }
   },
   "outputs": [
    {
     "data": {
      "image/png": "[encoded data removed]",
      "text/plain": [
       "<Figure size 576x432 with 1 Axes>"
      ]
     },
     "metadata": {
      "needs_background": "light"
     },
     "output_type": "display_data"
    }
   ],
   "source": [
    "N = 20\n",
    "ind = np.arange(N)\n",
    "K = nowlda.num_topics  # N documents, K topics\n",
    "ind = np.arange(N)  # the x-axis locations for the novels\n",
    "width = 0.5  # the width of the bars\n",
    "plots = []\n",
    "height_cumulative = np.zeros(N)\n",
    "plt.rc('font', size=16)\n",
    "plt.figure(figsize = (8, 6))\n",
    "\n",
    "for k in range(K):\n",
    "    color = plt.cm.Accent(k/K, 1)\n",
    "    if k == 0:\n",
    "        p = plt.bar(ind, ldaDFVis[:, k], width, color=color)\n",
    "    else:\n",
    "        p = plt.bar(ind, ldaDFVis[:, k], width, bottom=height_cumulative)\n",
    "    height_cumulative += ldaDFVis[:, k]\n",
    "    plots.append(p)\n",
    "    \n",
    "\n",
    "plt.ylim((0, 1))  # proportions sum to 1, so the height of the stacked bars is 1\n",
    "plt.ylabel('Topics')\n",
    "\n",
    "plt.title('Topics in inequality news of NOW ($\\eta$ = 0.8)')\n",
    "plt.xticks(ind+width/2, ldaDFVisNames, rotation='vertical')\n",
    "\n",
    "plt.yticks(np.arange(0, 1, 10))\n",
    "topic_labels = ['Topic #{}'.format(k) for k in range(K)]\n",
    "plt.legend([p[0] for p in plots], topic_labels, loc='center left', frameon=True,  bbox_to_anchor = (1, .5))\n",
    "\n",
    "plt.show()"
   ]
  },
  {
   "cell_type": "code",
   "execution_count": 18,
   "metadata": {
    "ExecuteTime": {
     "end_time": "2021-03-08T05:55:32.381509Z",
     "start_time": "2021-03-08T05:55:30.816286Z"
    }
   },
   "outputs": [
    {
     "data": {
      "image/png": "[encoded data removed]",
      "text/plain": [
       "<Figure size 576x576 with 2 Axes>"
      ]
     },
     "metadata": {
      "needs_background": "light"
     },
     "output_type": "display_data"
    }
   ],
   "source": [
    "plt.figure(figsize = (8,8))\n",
    "plt.pcolor(ldaDFVis, norm=None, cmap='YlGnBu')\n",
    "plt.yticks(np.arange(ldaDFVis.shape[0])+0.5, ldaDFVisNames);\n",
    "plt.xticks(np.arange(ldaDFVis.shape[1])+0.5, topic_labels);\n",
    "plt.title('Topics in inequality news of NOW ($\\eta$ = 0.8)')\n",
    "# flip the y-axis so the texts are in the order we anticipate (Austen first, then Brontë)\n",
    "plt.gca().invert_yaxis()\n",
    "\n",
    "# rotate the ticks on the x-axis\n",
    "plt.xticks(rotation=90)\n",
    "\n",
    "# add a legend\n",
    "plt.colorbar(cmap='YlGnBu')\n",
    "plt.tight_layout()  # fixes margins\n",
    "plt.show()"
   ]
  },
  {
   "cell_type": "code",
   "execution_count": 19,
   "metadata": {
    "ExecuteTime": {
     "end_time": "2021-03-08T05:55:32.399468Z",
     "start_time": "2021-03-08T05:55:32.383468Z"
    }
   },
   "outputs": [
    {
     "data": {
      "text/html": [
       "<div>\n",
       "<style scoped>\n",
       "    .dataframe tbody tr th:only-of-type {\n",
       "        vertical-align: middle;\n",
       "    }\n",
       "\n",
       "    .dataframe tbody tr th {\n",
       "        vertical-align: top;\n",
       "    }\n",
       "\n",
       "    .dataframe thead th {\n",
       "        text-align: right;\n",
       "    }\n",
       "</style>\n",
       "<table border=\"1\" class=\"dataframe\">\n",
       "  <thead>\n",
       "    <tr style=\"text-align: right;\">\n",
       "      <th></th>\n",
       "      <th>Topic_0</th>\n",
       "      <th>Topic_1</th>\n",
       "      <th>Topic_2</th>\n",
       "      <th>Topic_3</th>\n",
       "      <th>Topic_4</th>\n",
       "      <th>Topic_5</th>\n",
       "      <th>Topic_6</th>\n",
       "      <th>Topic_7</th>\n",
       "      <th>Topic_8</th>\n",
       "      <th>Topic_9</th>\n",
       "    </tr>\n",
       "  </thead>\n",
       "  <tbody>\n",
       "    <tr>\n",
       "      <th>0</th>\n",
       "      <td>tax</td>\n",
       "      <td>say</td>\n",
       "      <td>woman</td>\n",
       "      <td>state</td>\n",
       "      <td>pay</td>\n",
       "      <td>change</td>\n",
       "      <td>south</td>\n",
       "      <td>say</td>\n",
       "      <td>school</td>\n",
       "      <td>think</td>\n",
       "    </tr>\n",
       "    <tr>\n",
       "      <th>1</th>\n",
       "      <td>economy</td>\n",
       "      <td>party</td>\n",
       "      <td>gender</td>\n",
       "      <td>right</td>\n",
       "      <td>work</td>\n",
       "      <td>need</td>\n",
       "      <td>africa</td>\n",
       "      <td>city</td>\n",
       "      <td>education</td>\n",
       "      <td>know</td>\n",
       "    </tr>\n",
       "    <tr>\n",
       "      <th>2</th>\n",
       "      <td>business</td>\n",
       "      <td>president</td>\n",
       "      <td>man</td>\n",
       "      <td>india</td>\n",
       "      <td>wage</td>\n",
       "      <td>say</td>\n",
       "      <td>african</td>\n",
       "      <td>income</td>\n",
       "      <td>student</td>\n",
       "      <td>come</td>\n",
       "    </tr>\n",
       "    <tr>\n",
       "      <th>3</th>\n",
       "      <td>economic</td>\n",
       "      <td>trump</td>\n",
       "      <td>say</td>\n",
       "      <td>political</td>\n",
       "      <td>job</td>\n",
       "      <td>work</td>\n",
       "      <td>anc</td>\n",
       "      <td>house</td>\n",
       "      <td>university</td>\n",
       "      <td>work</td>\n",
       "    </tr>\n",
       "    <tr>\n",
       "      <th>4</th>\n",
       "      <td>growth</td>\n",
       "      <td>election</td>\n",
       "      <td>work</td>\n",
       "      <td>development</td>\n",
       "      <td>income</td>\n",
       "      <td>community</td>\n",
       "      <td>land</td>\n",
       "      <td>cent</td>\n",
       "      <td>child</td>\n",
       "      <td>thing</td>\n",
       "    </tr>\n",
       "    <tr>\n",
       "      <th>5</th>\n",
       "      <td>market</td>\n",
       "      <td>vote</td>\n",
       "      <td>female</td>\n",
       "      <td>social</td>\n",
       "      <td>labour</td>\n",
       "      <td>use</td>\n",
       "      <td>black</td>\n",
       "      <td>report</td>\n",
       "      <td>say</td>\n",
       "      <td>say</td>\n",
       "    </tr>\n",
       "    <tr>\n",
       "      <th>6</th>\n",
       "      <td>policy</td>\n",
       "      <td>state</td>\n",
       "      <td>equality</td>\n",
       "      <td>economic</td>\n",
       "      <td>low</td>\n",
       "      <td>think</td>\n",
       "      <td>africans</td>\n",
       "      <td>high</td>\n",
       "      <td>high</td>\n",
       "      <td>way</td>\n",
       "    </tr>\n",
       "    <tr>\n",
       "      <th>7</th>\n",
       "      <td>bank</td>\n",
       "      <td>campaign</td>\n",
       "      <td>violence</td>\n",
       "      <td>human</td>\n",
       "      <td>union</td>\n",
       "      <td>information</td>\n",
       "      <td>national</td>\n",
       "      <td>poverty</td>\n",
       "      <td>work</td>\n",
       "      <td>want</td>\n",
       "    </tr>\n",
       "    <tr>\n",
       "      <th>8</th>\n",
       "      <td>company</td>\n",
       "      <td>political</td>\n",
       "      <td>child</td>\n",
       "      <td>power</td>\n",
       "      <td>increase</td>\n",
       "      <td>way</td>\n",
       "      <td>economic</td>\n",
       "      <td>percent</td>\n",
       "      <td>college</td>\n",
       "      <td>live</td>\n",
       "    </tr>\n",
       "    <tr>\n",
       "      <th>9</th>\n",
       "      <td>investment</td>\n",
       "      <td>mr</td>\n",
       "      <td>sexual</td>\n",
       "      <td>nation</td>\n",
       "      <td>minimum</td>\n",
       "      <td>comment</td>\n",
       "      <td>need</td>\n",
       "      <td>health</td>\n",
       "      <td>study</td>\n",
       "      <td>day</td>\n",
       "    </tr>\n",
       "  </tbody>\n",
       "</table>\n",
       "</div>"
      ],
      "text/plain": [
       "      Topic_0    Topic_1   Topic_2      Topic_3   Topic_4      Topic_5  \\\n",
       "0         tax        say     woman        state       pay       change   \n",
       "1     economy      party    gender        right      work         need   \n",
       "2    business  president       man        india      wage          say   \n",
       "3    economic      trump       say    political       job         work   \n",
       "4      growth   election      work  development    income    community   \n",
       "5      market       vote    female       social    labour          use   \n",
       "6      policy      state  equality     economic       low        think   \n",
       "7        bank   campaign  violence        human     union  information   \n",
       "8     company  political     child        power  increase          way   \n",
       "9  investment         mr    sexual       nation   minimum      comment   \n",
       "\n",
       "    Topic_6  Topic_7     Topic_8 Topic_9  \n",
       "0     south      say      school   think  \n",
       "1    africa     city   education    know  \n",
       "2   african   income     student    come  \n",
       "3       anc    house  university    work  \n",
       "4      land     cent       child   thing  \n",
       "5     black   report         say     say  \n",
       "6  africans     high        high     way  \n",
       "7  national  poverty        work    want  \n",
       "8  economic  percent     college    live  \n",
       "9      need   health       study     day  "
      ]
     },
     "execution_count": 19,
     "metadata": {},
     "output_type": "execute_result"
    }
   ],
   "source": [
    "topicsDict = {}\n",
    "for topicNum in range(nowlda.num_topics):\n",
    "    topicWords = [w for w, p in nowlda.show_topic(topicNum)]\n",
    "    topicsDict['Topic_{}'.format(topicNum)] = topicWords\n",
    "\n",
    "wordRanksDF = pandas.DataFrame(topicsDict)\n",
    "wordRanksDF"
   ]
  },
  {
   "cell_type": "code",
   "execution_count": 20,
   "metadata": {
    "ExecuteTime": {
     "end_time": "2021-03-08T05:55:32.655472Z",
     "start_time": "2021-03-08T05:55:32.400508Z"
    }
   },
   "outputs": [
    {
     "data": {
      "text/plain": [
       "<Figure size 432x288 with 0 Axes>"
      ]
     },
     "metadata": {},
     "output_type": "display_data"
    },
    {
     "data": {
      "image/png": "[encoded data removed]",
      "text/plain": [
       "<Figure size 432x288 with 1 Axes>"
      ]
     },
     "metadata": {
      "needs_background": "light"
     },
     "output_type": "display_data"
    }
   ],
   "source": [
    "topic1_df = pandas.DataFrame(nowlda.show_topic(1, topn=25))\n",
    "plt.figure()\n",
    "topic1_df.plot.bar(legend = False)\n",
    "plt.title('Probability Distribution of Words, Topic 1')\n",
    "plt.show()"
   ]
  },
  {
   "cell_type": "code",
   "execution_count": 21,
   "metadata": {
    "ExecuteTime": {
     "end_time": "2021-03-08T05:55:32.908515Z",
     "start_time": "2021-03-08T05:55:32.658467Z"
    }
   },
   "outputs": [
    {
     "data": {
      "text/plain": [
       "<Figure size 432x288 with 0 Axes>"
      ]
     },
     "metadata": {},
     "output_type": "display_data"
    },
    {
     "data": {
      "image/png": "[encoded data removed]",
      "text/plain": [
       "<Figure size 432x288 with 1 Axes>"
      ]
     },
     "metadata": {
      "needs_background": "light"
     },
     "output_type": "display_data"
    }
   ],
   "source": [
    "topic_df = pandas.DataFrame(nowlda.show_topic(2, topn=25))\n",
    "plt.figure()\n",
    "topic_df.plot.bar(legend = False)\n",
    "plt.title('Probability Distribution of Words, Topic 2')\n",
    "plt.show()"
   ]
  },
  {
   "cell_type": "markdown",
   "metadata": {},
   "source": [
    "𝛼  controls the sparsity of document-topic loadings, and 𝜂 controls the sparsity of topic-word loadings."
   ]
  },
  {
   "cell_type": "code",
   "execution_count": 22,
   "metadata": {
    "ExecuteTime": {
     "end_time": "2021-03-08T06:50:37.492639Z",
     "start_time": "2021-03-08T05:55:32.912512Z"
    }
   },
   "outputs": [
    {
     "name": "stdout",
     "output_type": "stream",
     "text": [
      "2\n",
      "3\n",
      "4\n",
      "5\n",
      "6\n",
      "7\n",
      "8\n",
      "9\n",
      "10\n",
      "11\n",
      "12\n",
      "13\n",
      "14\n",
      "15\n"
     ]
    }
   ],
   "source": [
    "um = []\n",
    "cv = []\n",
    "p = []\n",
    "for num_topics in range(2,16):\n",
    "    print(num_topics)\n",
    "    nowlda1 = gensim.models.ldamodel.LdaModel(corpus=nowmm, id2word=dictionary, num_topics=num_topics, alpha = 0.5, eta = 0.01)\n",
    "    cm_u_mass = CoherenceModel(model=nowlda1, corpus=corpus, dictionary=dictionary, coherence='u_mass')\n",
    "    #pyLDAvis.enable_notebook()\n",
    "    #pyLDAvis.gensim.prepare(nowlda1, corpus, dictionary)\n",
    "    um.append(cm_u_mass.get_coherence())\n",
    "    cm_c_v = CoherenceModel(model=nowlda1, texts=now_df[\"reduced_tokens\"], dictionary=dictionary, coherence='c_v')\n",
    "    cv.append(cm_c_v.get_coherence())\n",
    "    p.append(nowlda.log_perplexity(corpus))"
   ]
  },
  {
   "cell_type": "code",
   "execution_count": 23,
   "metadata": {
    "ExecuteTime": {
     "end_time": "2021-03-08T06:50:37.499552Z",
     "start_time": "2021-03-08T06:50:37.495547Z"
    }
   },
   "outputs": [],
   "source": [
    "access_df = pandas.DataFrame(range(2, 16), columns=['num_topics'])"
   ]
  },
  {
   "cell_type": "code",
   "execution_count": 24,
   "metadata": {
    "ExecuteTime": {
     "end_time": "2021-03-08T06:50:37.516552Z",
     "start_time": "2021-03-08T06:50:37.501549Z"
    }
   },
   "outputs": [],
   "source": [
    "access_df = pandas.concat([access_df, pandas.DataFrame(um, columns=['u_mass'])],axis=1)"
   ]
  },
  {
   "cell_type": "code",
   "execution_count": 25,
   "metadata": {
    "ExecuteTime": {
     "end_time": "2021-03-08T06:50:37.528568Z",
     "start_time": "2021-03-08T06:50:37.518545Z"
    }
   },
   "outputs": [],
   "source": [
    "access_df = pandas.concat([access_df, pandas.DataFrame(cv, columns=['c_v'])],axis=1)"
   ]
  },
  {
   "cell_type": "code",
   "execution_count": 26,
   "metadata": {
    "ExecuteTime": {
     "end_time": "2021-03-08T06:50:37.541549Z",
     "start_time": "2021-03-08T06:50:37.530553Z"
    }
   },
   "outputs": [],
   "source": [
    "access_df = pandas.concat([access_df, pandas.DataFrame(p, columns=['perplexity'])],axis=1)"
   ]
  },
  {
   "cell_type": "code",
   "execution_count": 27,
   "metadata": {
    "ExecuteTime": {
     "end_time": "2021-03-08T06:50:37.560549Z",
     "start_time": "2021-03-08T06:50:37.543551Z"
    }
   },
   "outputs": [
    {
     "data": {
      "text/html": [
       "<div>\n",
       "<style scoped>\n",
       "    .dataframe tbody tr th:only-of-type {\n",
       "        vertical-align: middle;\n",
       "    }\n",
       "\n",
       "    .dataframe tbody tr th {\n",
       "        vertical-align: top;\n",
       "    }\n",
       "\n",
       "    .dataframe thead th {\n",
       "        text-align: right;\n",
       "    }\n",
       "</style>\n",
       "<table border=\"1\" class=\"dataframe\">\n",
       "  <thead>\n",
       "    <tr style=\"text-align: right;\">\n",
       "      <th></th>\n",
       "      <th>num_topics</th>\n",
       "      <th>u_mass</th>\n",
       "      <th>c_v</th>\n",
       "      <th>perplexity</th>\n",
       "    </tr>\n",
       "  </thead>\n",
       "  <tbody>\n",
       "    <tr>\n",
       "      <th>0</th>\n",
       "      <td>2</td>\n",
       "      <td>-0.791042</td>\n",
       "      <td>0.344681</td>\n",
       "      <td>-6.054359</td>\n",
       "    </tr>\n",
       "    <tr>\n",
       "      <th>1</th>\n",
       "      <td>3</td>\n",
       "      <td>-0.872500</td>\n",
       "      <td>0.363137</td>\n",
       "      <td>-6.054365</td>\n",
       "    </tr>\n",
       "    <tr>\n",
       "      <th>2</th>\n",
       "      <td>4</td>\n",
       "      <td>-0.861642</td>\n",
       "      <td>0.409527</td>\n",
       "      <td>-6.054364</td>\n",
       "    </tr>\n",
       "    <tr>\n",
       "      <th>3</th>\n",
       "      <td>5</td>\n",
       "      <td>-0.915740</td>\n",
       "      <td>0.425053</td>\n",
       "      <td>-6.054358</td>\n",
       "    </tr>\n",
       "    <tr>\n",
       "      <th>4</th>\n",
       "      <td>6</td>\n",
       "      <td>-0.956966</td>\n",
       "      <td>0.411669</td>\n",
       "      <td>-6.054360</td>\n",
       "    </tr>\n",
       "    <tr>\n",
       "      <th>5</th>\n",
       "      <td>7</td>\n",
       "      <td>-0.907338</td>\n",
       "      <td>0.419634</td>\n",
       "      <td>-6.054366</td>\n",
       "    </tr>\n",
       "    <tr>\n",
       "      <th>6</th>\n",
       "      <td>8</td>\n",
       "      <td>-0.985501</td>\n",
       "      <td>0.449271</td>\n",
       "      <td>-6.054361</td>\n",
       "    </tr>\n",
       "    <tr>\n",
       "      <th>7</th>\n",
       "      <td>9</td>\n",
       "      <td>-1.023071</td>\n",
       "      <td>0.405752</td>\n",
       "      <td>-6.054365</td>\n",
       "    </tr>\n",
       "    <tr>\n",
       "      <th>8</th>\n",
       "      <td>10</td>\n",
       "      <td>-1.036887</td>\n",
       "      <td>0.451829</td>\n",
       "      <td>-6.054364</td>\n",
       "    </tr>\n",
       "    <tr>\n",
       "      <th>9</th>\n",
       "      <td>11</td>\n",
       "      <td>-1.067439</td>\n",
       "      <td>0.447061</td>\n",
       "      <td>-6.054363</td>\n",
       "    </tr>\n",
       "    <tr>\n",
       "      <th>10</th>\n",
       "      <td>12</td>\n",
       "      <td>-1.052066</td>\n",
       "      <td>0.453346</td>\n",
       "      <td>-6.054357</td>\n",
       "    </tr>\n",
       "    <tr>\n",
       "      <th>11</th>\n",
       "      <td>13</td>\n",
       "      <td>-1.037789</td>\n",
       "      <td>0.423600</td>\n",
       "      <td>-6.054362</td>\n",
       "    </tr>\n",
       "    <tr>\n",
       "      <th>12</th>\n",
       "      <td>14</td>\n",
       "      <td>-1.125863</td>\n",
       "      <td>0.450186</td>\n",
       "      <td>-6.054361</td>\n",
       "    </tr>\n",
       "    <tr>\n",
       "      <th>13</th>\n",
       "      <td>15</td>\n",
       "      <td>-1.033047</td>\n",
       "      <td>0.459560</td>\n",
       "      <td>-6.054361</td>\n",
       "    </tr>\n",
       "  </tbody>\n",
       "</table>\n",
       "</div>"
      ],
      "text/plain": [
       "    num_topics    u_mass       c_v  perplexity\n",
       "0            2 -0.791042  0.344681   -6.054359\n",
       "1            3 -0.872500  0.363137   -6.054365\n",
       "2            4 -0.861642  0.409527   -6.054364\n",
       "3            5 -0.915740  0.425053   -6.054358\n",
       "4            6 -0.956966  0.411669   -6.054360\n",
       "5            7 -0.907338  0.419634   -6.054366\n",
       "6            8 -0.985501  0.449271   -6.054361\n",
       "7            9 -1.023071  0.405752   -6.054365\n",
       "8           10 -1.036887  0.451829   -6.054364\n",
       "9           11 -1.067439  0.447061   -6.054363\n",
       "10          12 -1.052066  0.453346   -6.054357\n",
       "11          13 -1.037789  0.423600   -6.054362\n",
       "12          14 -1.125863  0.450186   -6.054361\n",
       "13          15 -1.033047  0.459560   -6.054361"
      ]
     },
     "execution_count": 27,
     "metadata": {},
     "output_type": "execute_result"
    }
   ],
   "source": [
    "access_df"
   ]
  },
  {
   "cell_type": "code",
   "execution_count": 28,
   "metadata": {
    "ExecuteTime": {
     "end_time": "2021-03-08T06:51:32.796372Z",
     "start_time": "2021-03-08T06:50:37.563548Z"
    }
   },
   "outputs": [
    {
     "data": {
      "text/plain": [
       "-6.054358504114042"
      ]
     },
     "execution_count": 28,
     "metadata": {},
     "output_type": "execute_result"
    }
   ],
   "source": [
    "nowlda.log_perplexity(nowmm)"
   ]
  },
  {
   "cell_type": "markdown",
   "metadata": {},
   "source": [
    "# Hyperparameter Tuning"
   ]
  },
  {
   "cell_type": "code",
   "execution_count": 29,
   "metadata": {
    "ExecuteTime": {
     "end_time": "2021-03-08T06:51:32.803359Z",
     "start_time": "2021-03-08T06:51:32.797319Z"
    }
   },
   "outputs": [],
   "source": [
    "# supporting function\n",
    "def compute_coherence_values(corpus, dictionary, k, a, b): \n",
    "    #nowlda1 = gensim.models.ldamodel.LdaModel(corpus=nowmm, id2word=dictionary, num_topics=num_topics, alpha = 0.5, eta = 0.01)\n",
    "    lda_model = gensim.models.LdaMulticore(corpus=corpus,\n",
    "                                           id2word=dictionary,\n",
    "                                           num_topics=k, \n",
    "                                           #random_state=100,\n",
    "                                           #chunksize=100,\n",
    "                                           #passes=10,\n",
    "                                           alpha=a,\n",
    "                                           eta=b)\n",
    "    \n",
    "    coherence_model_lda = CoherenceModel(model=lda_model, texts=now_df[\"reduced_tokens\"], dictionary=dictionary, coherence='c_v')\n",
    "    \n",
    "    return coherence_model_lda.get_coherence()"
   ]
  },
  {
   "cell_type": "code",
   "execution_count": null,
   "metadata": {
    "ExecuteTime": {
     "start_time": "2021-03-08T05:42:40.494Z"
    },
    "code_folding": []
   },
   "outputs": [
    {
     "name": "stderr",
     "output_type": "stream",
     "text": [
      "387it [9:39:52, 121.22s/it]                                                                                            "
     ]
    }
   ],
   "source": [
    "import tqdm\n",
    "grid = {}\n",
    "grid['Validation_Set'] = {}\n",
    "# Topics range\n",
    "min_topics = 2\n",
    "max_topics = 16\n",
    "step_size = 1\n",
    "topics_range = range(min_topics, max_topics, step_size)\n",
    "# Alpha parameter\n",
    "alpha = list(np.arange(0.01, 1, 0.3))\n",
    "alpha.append('symmetric')\n",
    "alpha.append('asymmetric')\n",
    "# Beta parameter\n",
    "beta = list(np.arange(0.01, 1, 0.3))\n",
    "beta.append('symmetric')\n",
    "# Validation sets\n",
    "num_of_docs = len(corpus)\n",
    "corpus_sets = [# gensim.utils.ClippedCorpus(corpus, num_of_docs*0.25), \n",
    "               # gensim.utils.ClippedCorpus(corpus, num_of_docs*0.5), \n",
    "               gensim.utils.ClippedCorpus(nowmm, int(num_of_docs*0.75)), \n",
    "               nowmm]\n",
    "corpus_title = ['75% Corpus', '100% Corpus']\n",
    "model_results = {'Validation_Set': [],\n",
    "                 'Topics': [],\n",
    "                 'Alpha': [],\n",
    "                 'Beta': [],\n",
    "                 'Coherence': []\n",
    "                }\n",
    "# Can take a long time to run\n",
    "if 1 == 1:\n",
    "    pbar = tqdm.tqdm(total=540)\n",
    "    \n",
    "    # iterate through validation corpuses\n",
    "    for i in range(len(corpus_sets)):\n",
    "        # iterate through number of topics\n",
    "        for k in topics_range:\n",
    "            # iterate through alpha values\n",
    "            for a in alpha:\n",
    "                # iterare through beta values\n",
    "                for b in beta:\n",
    "                    # get the coherence score for the given parameters\n",
    "                    cv = compute_coherence_values(corpus=corpus_sets[i], dictionary=dictionary, \n",
    "                                                  k=k, a=a, b=b)\n",
    "                    # Save the model results\n",
    "                    model_results['Validation_Set'].append(corpus_title[i])\n",
    "                    model_results['Topics'].append(k)\n",
    "                    model_results['Alpha'].append(a)\n",
    "                    model_results['Beta'].append(b)\n",
    "                    model_results['Coherence'].append(cv)\n",
    "                    \n",
    "                    pbar.update(1)\n",
    "    pd.DataFrame(model_results).to_csv('lda_tuning_results.csv', index=False)\n",
    "    pbar.close()"
   ]
  },
  {
   "cell_type": "code",
   "execution_count": null,
   "metadata": {
    "ExecuteTime": {
     "start_time": "2021-03-08T05:42:40.497Z"
    }
   },
   "outputs": [],
   "source": [
    "um"
   ]
  },
  {
   "cell_type": "code",
   "execution_count": null,
   "metadata": {
    "ExecuteTime": {
     "start_time": "2021-03-08T05:42:40.499Z"
    }
   },
   "outputs": [],
   "source": [
    "cv"
   ]
  },
  {
   "cell_type": "code",
   "execution_count": null,
   "metadata": {
    "ExecuteTime": {
     "start_time": "2021-03-08T05:42:40.501Z"
    }
   },
   "outputs": [],
   "source": [
    "#topic11_df = pandas.DataFrame(nowlda1.show_topic(1, topn=50))\n",
    "#topic21_df = pandas.DataFrame(nowlda2.show_topic(1, topn=50))\n",
    "\n",
    "#fig, (ax1, ax2) = plt.subplots(1, 2)\n",
    "#fig.set_size_inches(18, 7)\n",
    "#topic11_df.plot.bar(legend = False, ax = ax1, title = '$\\eta$  = 0.01')\n",
    "#topic21_df.plot.bar(legend = False, ax = ax2, title = '$\\eta$  = 0.9')\n",
    "#plt.show()"
   ]
  },
  {
   "cell_type": "markdown",
   "metadata": {},
   "source": [
    "# evaluate lda model"
   ]
  },
  {
   "cell_type": "code",
   "execution_count": null,
   "metadata": {
    "ExecuteTime": {
     "start_time": "2021-03-08T05:42:40.504Z"
    }
   },
   "outputs": [],
   "source": [
    "#logger = logging.getLogger()\n",
    "#logger.setLevel(logging.DEBUG)\n",
    "#logging.debug(\"test\")"
   ]
  },
  {
   "cell_type": "code",
   "execution_count": null,
   "metadata": {
    "ExecuteTime": {
     "start_time": "2021-03-08T05:42:40.507Z"
    }
   },
   "outputs": [],
   "source": [
    "cm = CoherenceModel(model=nowlda, corpus=corpus, dictionary=dictionary, coherence='u_mass')"
   ]
  },
  {
   "cell_type": "code",
   "execution_count": null,
   "metadata": {
    "ExecuteTime": {
     "start_time": "2021-03-08T05:42:40.510Z"
    }
   },
   "outputs": [],
   "source": [
    "print(cm)"
   ]
  },
  {
   "cell_type": "code",
   "execution_count": null,
   "metadata": {
    "ExecuteTime": {
     "start_time": "2021-03-08T05:42:40.514Z"
    }
   },
   "outputs": [],
   "source": [
    "pyLDAvis.enable_notebook()"
   ]
  },
  {
   "cell_type": "code",
   "execution_count": null,
   "metadata": {
    "ExecuteTime": {
     "start_time": "2021-03-08T05:42:40.517Z"
    }
   },
   "outputs": [],
   "source": [
    "pyLDAvis.gensim.prepare(nowlda, corpus, dictionary)"
   ]
  },
  {
   "cell_type": "code",
   "execution_count": null,
   "metadata": {
    "ExecuteTime": {
     "start_time": "2021-03-08T05:42:40.520Z"
    }
   },
   "outputs": [],
   "source": [
    "print(cm.get_coherence())"
   ]
  },
  {
   "cell_type": "code",
   "execution_count": null,
   "metadata": {
    "ExecuteTime": {
     "start_time": "2021-03-08T05:42:40.522Z"
    }
   },
   "outputs": [],
   "source": [
    "#\n",
    "goodcm = CoherenceModel(model=nowlda, texts=now_df[\"reduced_tokens\"], dictionary=dictionary, coherence='c_v')"
   ]
  },
  {
   "cell_type": "code",
   "execution_count": null,
   "metadata": {
    "ExecuteTime": {
     "start_time": "2021-03-08T05:42:40.524Z"
    }
   },
   "outputs": [],
   "source": [
    "print(goodcm)"
   ]
  },
  {
   "cell_type": "code",
   "execution_count": null,
   "metadata": {
    "ExecuteTime": {
     "start_time": "2021-03-08T05:42:40.526Z"
    }
   },
   "outputs": [],
   "source": [
    "print(goodcm.get_coherence())"
   ]
  },
  {
   "cell_type": "code",
   "execution_count": null,
   "metadata": {},
   "outputs": [],
   "source": []
  }
 ],
 "metadata": {
  "kernelspec": {
   "display_name": "Python 3",
   "language": "python",
   "name": "python3"
  },
  "language_info": {
   "codemirror_mode": {
    "name": "ipython",
    "version": 3
   },
   "file_extension": ".py",
   "mimetype": "text/x-python",
   "name": "python",
   "nbconvert_exporter": "python",
   "pygments_lexer": "ipython3",
   "version": "3.8.5"
  },
  "toc": {
   "base_numbering": 1,
   "nav_menu": {},
   "number_sections": true,
   "sideBar": true,
   "skip_h1_title": false,
   "title_cell": "Table of Contents",
   "title_sidebar": "Contents",
   "toc_cell": false,
   "toc_position": {},
   "toc_section_display": true,
   "toc_window_display": false
  },
  "varInspector": {
   "cols": {
    "lenName": 16,
    "lenType": 16,
    "lenVar": 40
   },
   "kernels_config": {
    "python": {
     "delete_cmd_postfix": "",
     "delete_cmd_prefix": "del ",
     "library": "var_list.py",
     "varRefreshCmd": "print(var_dic_list())"
    },
    "r": {
     "delete_cmd_postfix": ") ",
     "delete_cmd_prefix": "rm(",
     "library": "var_list.r",
     "varRefreshCmd": "cat(var_dic_list()) "
    }
   },
   "types_to_exclude": [
    "module",
    "function",
    "builtin_function_or_method",
    "instance",
    "_Feature"
   ],
   "window_display": false
  }
 },
 "nbformat": 4,
 "nbformat_minor": 4
}
