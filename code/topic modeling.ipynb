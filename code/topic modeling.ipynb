{
 "cells": [
  {
   "cell_type": "code",
   "execution_count": 1,
   "metadata": {
    "ExecuteTime": {
     "end_time": "2021-03-08T05:42:48.571555Z",
     "start_time": "2021-03-08T05:42:40.441165Z"
    }
   },
   "outputs": [
    {
     "data": {
      "text/html": [
       "<div>\n",
       "<style scoped>\n",
       "    .dataframe tbody tr th:only-of-type {\n",
       "        vertical-align: middle;\n",
       "    }\n",
       "\n",
       "    .dataframe tbody tr th {\n",
       "        vertical-align: top;\n",
       "    }\n",
       "\n",
       "    .dataframe thead th {\n",
       "        text-align: right;\n",
       "    }\n",
       "</style>\n",
       "<table border=\"1\" class=\"dataframe\">\n",
       "  <thead>\n",
       "    <tr style=\"text-align: right;\">\n",
       "      <th></th>\n",
       "      <th>id</th>\n",
       "      <th>text</th>\n",
       "      <th>month</th>\n",
       "      <th>year</th>\n",
       "    </tr>\n",
       "  </thead>\n",
       "  <tbody>\n",
       "    <tr>\n",
       "      <th>0</th>\n",
       "      <td>1705816</td>\n",
       "      <td>For those of us who have not known war , the ...</td>\n",
       "      <td>11</td>\n",
       "      <td>10</td>\n",
       "    </tr>\n",
       "    <tr>\n",
       "      <th>1</th>\n",
       "      <td>4512620</td>\n",
       "      <td>Kazi Khaleed Ashraf   ONCE upon a time , Dhak...</td>\n",
       "      <td>3</td>\n",
       "      <td>10</td>\n",
       "    </tr>\n",
       "    <tr>\n",
       "      <th>2</th>\n",
       "      <td>1448476</td>\n",
       "      <td>There is a myth in wide circulation that the ...</td>\n",
       "      <td>4</td>\n",
       "      <td>10</td>\n",
       "    </tr>\n",
       "    <tr>\n",
       "      <th>3</th>\n",
       "      <td>1490802</td>\n",
       "      <td>Please turn on JavaScript . Media requires Ja...</td>\n",
       "      <td>5</td>\n",
       "      <td>10</td>\n",
       "    </tr>\n",
       "    <tr>\n",
       "      <th>4</th>\n",
       "      <td>1647381</td>\n",
       "      <td>Image caption The death of Mono Jojoy could c...</td>\n",
       "      <td>9</td>\n",
       "      <td>10</td>\n",
       "    </tr>\n",
       "    <tr>\n",
       "      <th>...</th>\n",
       "      <td>...</td>\n",
       "      <td>...</td>\n",
       "      <td>...</td>\n",
       "      <td>...</td>\n",
       "    </tr>\n",
       "    <tr>\n",
       "      <th>45425</th>\n",
       "      <td>31034526</td>\n",
       "      <td>Can an academic study also double up as a riv...</td>\n",
       "      <td>6</td>\n",
       "      <td>19</td>\n",
       "    </tr>\n",
       "    <tr>\n",
       "      <th>45426</th>\n",
       "      <td>50673735</td>\n",
       "      <td>Glasgow Southside , where Nicola Sturgeon is ...</td>\n",
       "      <td>5</td>\n",
       "      <td>19</td>\n",
       "    </tr>\n",
       "    <tr>\n",
       "      <th>45427</th>\n",
       "      <td>31262587</td>\n",
       "      <td>Rabbi Joachim Prinz , second from the left , ...</td>\n",
       "      <td>9</td>\n",
       "      <td>19</td>\n",
       "    </tr>\n",
       "    <tr>\n",
       "      <th>45428</th>\n",
       "      <td>50662844</td>\n",
       "      <td>The global rate of species extinction is ten ...</td>\n",
       "      <td>5</td>\n",
       "      <td>19</td>\n",
       "    </tr>\n",
       "    <tr>\n",
       "      <th>45429</th>\n",
       "      <td>30663231</td>\n",
       "      <td>I am very thankful to this story as it is for...</td>\n",
       "      <td>3</td>\n",
       "      <td>19</td>\n",
       "    </tr>\n",
       "  </tbody>\n",
       "</table>\n",
       "<p>45430 rows × 4 columns</p>\n",
       "</div>"
      ],
      "text/plain": [
       "             id                                               text  month  \\\n",
       "0       1705816   For those of us who have not known war , the ...     11   \n",
       "1       4512620   Kazi Khaleed Ashraf   ONCE upon a time , Dhak...      3   \n",
       "2       1448476   There is a myth in wide circulation that the ...      4   \n",
       "3       1490802   Please turn on JavaScript . Media requires Ja...      5   \n",
       "4       1647381   Image caption The death of Mono Jojoy could c...      9   \n",
       "...         ...                                                ...    ...   \n",
       "45425  31034526   Can an academic study also double up as a riv...      6   \n",
       "45426  50673735   Glasgow Southside , where Nicola Sturgeon is ...      5   \n",
       "45427  31262587   Rabbi Joachim Prinz , second from the left , ...      9   \n",
       "45428  50662844   The global rate of species extinction is ten ...      5   \n",
       "45429  30663231   I am very thankful to this story as it is for...      3   \n",
       "\n",
       "       year  \n",
       "0        10  \n",
       "1        10  \n",
       "2        10  \n",
       "3        10  \n",
       "4        10  \n",
       "...     ...  \n",
       "45425    19  \n",
       "45426    19  \n",
       "45427    19  \n",
       "45428    19  \n",
       "45429    19  \n",
       "\n",
       "[45430 rows x 4 columns]"
      ]
     },
     "execution_count": 1,
     "metadata": {},
     "output_type": "execute_result"
    }
   ],
   "source": [
    "#All these packages need to be installed from pip\n",
    "#These are all for the cluster detection\n",
    "import sklearn\n",
    "import sklearn.feature_extraction.text\n",
    "import sklearn.pipeline\n",
    "import sklearn.preprocessing\n",
    "import sklearn.datasets\n",
    "import sklearn.cluster\n",
    "import sklearn.decomposition\n",
    "import sklearn.metrics\n",
    "\n",
    "import scipy #For hierarchical clustering and some visuals\n",
    "#import scipy.cluster.hierarchy\n",
    "import gensim#For topic modeling\n",
    "import requests #For downloading our datasets\n",
    "import numpy as np #for arrays\n",
    "import pandas #gives us DataFrames\n",
    "import matplotlib.pyplot as plt #For graphics\n",
    "import matplotlib.cm #Still for graphics\n",
    "import seaborn as sns #Makes the graphics look nicer\n",
    "\n",
    "#This 'magic' command makes the plots work better\n",
    "#in the notebook, don't use it outside of a notebook.\n",
    "#Also you can ignore the warning, it\n",
    "%matplotlib inline\n",
    "\n",
    "import itertools\n",
    "import json\n",
    "\n",
    "import numpy as np\n",
    "import pandas as pd  \n",
    "import gensim#For topic modeling\n",
    "import lucem_illud\n",
    "\n",
    "#access lda model\n",
    "import logging\n",
    "import pyLDAvis.gensim\n",
    "import warnings\n",
    "warnings.filterwarnings('ignore')  # To ignore all warnings that arise here to enhance clarity\n",
    "\n",
    "from gensim.models.coherencemodel import CoherenceModel\n",
    "from gensim.models.ldamodel import LdaModel\n",
    "from gensim.corpora.dictionary import Dictionary\n",
    "from numpy import array\n",
    "\n",
    "now_df = pd.read_table('data/sample.txt' ,header=0, encoding='gb2312', sep=',') \n",
    "now_df"
   ]
  },
  {
   "cell_type": "code",
   "execution_count": 2,
   "metadata": {
    "ExecuteTime": {
     "end_time": "2021-03-08T05:42:48.602552Z",
     "start_time": "2021-03-08T05:42:48.573557Z"
    }
   },
   "outputs": [],
   "source": [
    "now_df = now_df.dropna(axis = 0)"
   ]
  },
  {
   "cell_type": "code",
   "execution_count": 3,
   "metadata": {
    "ExecuteTime": {
     "end_time": "2021-03-08T05:42:48.609553Z",
     "start_time": "2021-03-08T05:42:48.604553Z"
    }
   },
   "outputs": [],
   "source": [
    "#randomly sample 2 news from each year\n",
    "#now_df = now_df.groupby('year').apply(lambda x: x.sample(400, random_state = 123)).reset_index(drop=True)\n",
    "#now_df"
   ]
  },
  {
   "cell_type": "code",
   "execution_count": 4,
   "metadata": {
    "ExecuteTime": {
     "end_time": "2021-03-08T05:42:48.618553Z",
     "start_time": "2021-03-08T05:42:48.610553Z"
    }
   },
   "outputs": [],
   "source": [
    "#now_df.to_csv(\"data/small_sample.txt\", index=False)"
   ]
  },
  {
   "cell_type": "code",
   "execution_count": 5,
   "metadata": {
    "ExecuteTime": {
     "end_time": "2021-03-08T05:43:17.439244Z",
     "start_time": "2021-03-08T05:42:48.621556Z"
    }
   },
   "outputs": [],
   "source": [
    "#initialize\n",
    "nowTFVectorizer = sklearn.feature_extraction.text.TfidfVectorizer(max_df=0.5, max_features=1000, min_df=3, stop_words='english', norm='l2')\n",
    "#train\n",
    "nowTFVects = nowTFVectorizer.fit_transform(now_df['text'])"
   ]
  },
  {
   "cell_type": "code",
   "execution_count": 6,
   "metadata": {
    "ExecuteTime": {
     "end_time": "2021-03-08T05:53:46.401416Z",
     "start_time": "2021-03-08T05:43:17.441193Z"
    }
   },
   "outputs": [],
   "source": [
    "now_df['tokenized_text'] = now_df['text'].apply(lambda x: lucem_illud.word_tokenize(x))\n",
    "now_df['normalized_tokens'] = now_df['tokenized_text'].apply(lambda x: lucem_illud.normalizeTokens(x))"
   ]
  },
  {
   "cell_type": "code",
   "execution_count": 7,
   "metadata": {
    "ExecuteTime": {
     "end_time": "2021-03-08T05:53:50.859858Z",
     "start_time": "2021-03-08T05:53:46.404349Z"
    }
   },
   "outputs": [],
   "source": [
    "def dropMissing(wordLst, vocab):\n",
    "    return [w for w in wordLst if w in vocab]\n",
    "\n",
    "now_df['reduced_tokens'] = now_df['normalized_tokens'].apply(lambda x: dropMissing(x, nowTFVectorizer.vocabulary_.keys()))"
   ]
  },
  {
   "cell_type": "code",
   "execution_count": 8,
   "metadata": {
    "ExecuteTime": {
     "end_time": "2021-03-08T05:53:58.040202Z",
     "start_time": "2021-03-08T05:53:50.861859Z"
    }
   },
   "outputs": [],
   "source": [
    "dictionary = gensim.corpora.Dictionary(now_df['reduced_tokens'])"
   ]
  },
  {
   "cell_type": "code",
   "execution_count": 9,
   "metadata": {
    "ExecuteTime": {
     "end_time": "2021-03-08T05:54:02.671943Z",
     "start_time": "2021-03-08T05:53:58.040202Z"
    }
   },
   "outputs": [],
   "source": [
    "corpus = [dictionary.doc2bow(text) for text in now_df['reduced_tokens']]"
   ]
  },
  {
   "cell_type": "code",
   "execution_count": 10,
   "metadata": {
    "ExecuteTime": {
     "end_time": "2021-03-08T05:54:08.218767Z",
     "start_time": "2021-03-08T05:54:02.673871Z"
    }
   },
   "outputs": [],
   "source": [
    "gensim.corpora.MmCorpus.serialize('data/now.mm', corpus)\n",
    "nowmm = gensim.corpora.MmCorpus('data/now.mm')"
   ]
  },
  {
   "cell_type": "code",
   "execution_count": 11,
   "metadata": {
    "ExecuteTime": {
     "end_time": "2021-03-08T05:54:52.479496Z",
     "start_time": "2021-03-08T05:54:08.220674Z"
    }
   },
   "outputs": [],
   "source": [
    "nowlda = gensim.models.ldamodel.LdaModel(corpus=nowmm, id2word=dictionary, num_topics=10, alpha='auto', eta='auto')"
   ]
  },
  {
   "cell_type": "code",
   "execution_count": 12,
   "metadata": {
    "ExecuteTime": {
     "end_time": "2021-03-08T05:55:29.618167Z",
     "start_time": "2021-03-08T05:54:52.480427Z"
    }
   },
   "outputs": [],
   "source": [
    "ldaDF = pandas.DataFrame({\n",
    "        'id' : now_df['id'],\n",
    "        'year' : now_df['year'],\n",
    "        'topics' : [nowlda[dictionary.doc2bow(l)] for l in now_df['reduced_tokens']]\n",
    "    })"
   ]
  },
  {
   "cell_type": "code",
   "execution_count": 13,
   "metadata": {
    "ExecuteTime": {
     "end_time": "2021-03-08T05:55:29.644115Z",
     "start_time": "2021-03-08T05:55:29.619117Z"
    }
   },
   "outputs": [
    {
     "data": {
      "text/html": [
       "<div>\n",
       "<style scoped>\n",
       "    .dataframe tbody tr th:only-of-type {\n",
       "        vertical-align: middle;\n",
       "    }\n",
       "\n",
       "    .dataframe tbody tr th {\n",
       "        vertical-align: top;\n",
       "    }\n",
       "\n",
       "    .dataframe thead th {\n",
       "        text-align: right;\n",
       "    }\n",
       "</style>\n",
       "<table border=\"1\" class=\"dataframe\">\n",
       "  <thead>\n",
       "    <tr style=\"text-align: right;\">\n",
       "      <th></th>\n",
       "      <th>id</th>\n",
       "      <th>year</th>\n",
       "      <th>topics</th>\n",
       "    </tr>\n",
       "  </thead>\n",
       "  <tbody>\n",
       "    <tr>\n",
       "      <th>0</th>\n",
       "      <td>1705816</td>\n",
       "      <td>10</td>\n",
       "      <td>[(0, 0.46789294), (3, 0.05461513), (5, 0.10503...</td>\n",
       "    </tr>\n",
       "    <tr>\n",
       "      <th>1</th>\n",
       "      <td>4512620</td>\n",
       "      <td>10</td>\n",
       "      <td>[(5, 0.17833693), (7, 0.3979442), (9, 0.4194473)]</td>\n",
       "    </tr>\n",
       "    <tr>\n",
       "      <th>2</th>\n",
       "      <td>1448476</td>\n",
       "      <td>10</td>\n",
       "      <td>[(0, 0.714647), (9, 0.28103396)]</td>\n",
       "    </tr>\n",
       "    <tr>\n",
       "      <th>3</th>\n",
       "      <td>1490802</td>\n",
       "      <td>10</td>\n",
       "      <td>[(1, 0.108608775), (3, 0.16591899), (5, 0.3892...</td>\n",
       "    </tr>\n",
       "    <tr>\n",
       "      <th>4</th>\n",
       "      <td>1647381</td>\n",
       "      <td>10</td>\n",
       "      <td>[(1, 0.23715556), (3, 0.6763715), (9, 0.081746...</td>\n",
       "    </tr>\n",
       "    <tr>\n",
       "      <th>...</th>\n",
       "      <td>...</td>\n",
       "      <td>...</td>\n",
       "      <td>...</td>\n",
       "    </tr>\n",
       "    <tr>\n",
       "      <th>45425</th>\n",
       "      <td>31034526</td>\n",
       "      <td>19</td>\n",
       "      <td>[(2, 0.16891086), (3, 0.41919085), (4, 0.01667...</td>\n",
       "    </tr>\n",
       "    <tr>\n",
       "      <th>45426</th>\n",
       "      <td>50673735</td>\n",
       "      <td>19</td>\n",
       "      <td>[(1, 0.025462797), (4, 0.15318277), (7, 0.6069...</td>\n",
       "    </tr>\n",
       "    <tr>\n",
       "      <th>45427</th>\n",
       "      <td>31262587</td>\n",
       "      <td>19</td>\n",
       "      <td>[(1, 0.0361597), (3, 0.17191525), (4, 0.446679...</td>\n",
       "    </tr>\n",
       "    <tr>\n",
       "      <th>45428</th>\n",
       "      <td>50662844</td>\n",
       "      <td>19</td>\n",
       "      <td>[(0, 0.18092419), (3, 0.36152542), (5, 0.10246...</td>\n",
       "    </tr>\n",
       "    <tr>\n",
       "      <th>45429</th>\n",
       "      <td>30663231</td>\n",
       "      <td>19</td>\n",
       "      <td>[(2, 0.025887541), (7, 0.05217153), (8, 0.1493...</td>\n",
       "    </tr>\n",
       "  </tbody>\n",
       "</table>\n",
       "<p>45429 rows × 3 columns</p>\n",
       "</div>"
      ],
      "text/plain": [
       "             id  year                                             topics\n",
       "0       1705816    10  [(0, 0.46789294), (3, 0.05461513), (5, 0.10503...\n",
       "1       4512620    10  [(5, 0.17833693), (7, 0.3979442), (9, 0.4194473)]\n",
       "2       1448476    10                   [(0, 0.714647), (9, 0.28103396)]\n",
       "3       1490802    10  [(1, 0.108608775), (3, 0.16591899), (5, 0.3892...\n",
       "4       1647381    10  [(1, 0.23715556), (3, 0.6763715), (9, 0.081746...\n",
       "...         ...   ...                                                ...\n",
       "45425  31034526    19  [(2, 0.16891086), (3, 0.41919085), (4, 0.01667...\n",
       "45426  50673735    19  [(1, 0.025462797), (4, 0.15318277), (7, 0.6069...\n",
       "45427  31262587    19  [(1, 0.0361597), (3, 0.17191525), (4, 0.446679...\n",
       "45428  50662844    19  [(0, 0.18092419), (3, 0.36152542), (5, 0.10246...\n",
       "45429  30663231    19  [(2, 0.025887541), (7, 0.05217153), (8, 0.1493...\n",
       "\n",
       "[45429 rows x 3 columns]"
      ]
     },
     "execution_count": 13,
     "metadata": {},
     "output_type": "execute_result"
    }
   ],
   "source": [
    "ldaDF"
   ]
  },
  {
   "cell_type": "code",
   "execution_count": 14,
   "metadata": {
    "ExecuteTime": {
     "end_time": "2021-03-08T05:55:29.813121Z",
     "start_time": "2021-03-08T05:55:29.647137Z"
    }
   },
   "outputs": [],
   "source": [
    "#Dict to temporally hold the probabilities\n",
    "topicsProbDict = {i : [0] * len(ldaDF) for i in range(nowlda.num_topics)}\n",
    "\n",
    "#Load them into the dict\n",
    "for index, topicTuples in enumerate(ldaDF['topics']):\n",
    "    for topicNum, prob in topicTuples:\n",
    "        topicsProbDict[topicNum][index] = prob\n",
    "\n",
    "#Update the DataFrame\n",
    "for topicNum in range(nowlda.num_topics):\n",
    "    ldaDF['topic_{}'.format(topicNum)] = topicsProbDict[topicNum]"
   ]
  },
  {
   "cell_type": "code",
   "execution_count": 15,
   "metadata": {
    "ExecuteTime": {
     "end_time": "2021-03-08T05:55:29.900137Z",
     "start_time": "2021-03-08T05:55:29.816123Z"
    }
   },
   "outputs": [
    {
     "data": {
      "text/html": [
       "<div>\n",
       "<style scoped>\n",
       "    .dataframe tbody tr th:only-of-type {\n",
       "        vertical-align: middle;\n",
       "    }\n",
       "\n",
       "    .dataframe tbody tr th {\n",
       "        vertical-align: top;\n",
       "    }\n",
       "\n",
       "    .dataframe thead th {\n",
       "        text-align: right;\n",
       "    }\n",
       "</style>\n",
       "<table border=\"1\" class=\"dataframe\">\n",
       "  <thead>\n",
       "    <tr style=\"text-align: right;\">\n",
       "      <th></th>\n",
       "      <th>id</th>\n",
       "      <th>year</th>\n",
       "      <th>topics</th>\n",
       "      <th>topic_0</th>\n",
       "      <th>topic_1</th>\n",
       "      <th>topic_2</th>\n",
       "      <th>topic_3</th>\n",
       "      <th>topic_4</th>\n",
       "      <th>topic_5</th>\n",
       "      <th>topic_6</th>\n",
       "      <th>topic_7</th>\n",
       "      <th>topic_8</th>\n",
       "      <th>topic_9</th>\n",
       "    </tr>\n",
       "  </thead>\n",
       "  <tbody>\n",
       "    <tr>\n",
       "      <th>0</th>\n",
       "      <td>1563224</td>\n",
       "      <td>10</td>\n",
       "      <td>[(0, 0.4312536), (1, 0.3387448), (4, 0.0606277...</td>\n",
       "      <td>0.431254</td>\n",
       "      <td>0.338745</td>\n",
       "      <td>0.000000</td>\n",
       "      <td>0.000000</td>\n",
       "      <td>0.060628</td>\n",
       "      <td>0.043584</td>\n",
       "      <td>0.000000</td>\n",
       "      <td>0.123570</td>\n",
       "      <td>0.000000</td>\n",
       "      <td>0.000000</td>\n",
       "    </tr>\n",
       "    <tr>\n",
       "      <th>1</th>\n",
       "      <td>1451590</td>\n",
       "      <td>10</td>\n",
       "      <td>[(1, 0.17420802), (3, 0.6134578), (8, 0.015268...</td>\n",
       "      <td>0.000000</td>\n",
       "      <td>0.174208</td>\n",
       "      <td>0.000000</td>\n",
       "      <td>0.613458</td>\n",
       "      <td>0.000000</td>\n",
       "      <td>0.000000</td>\n",
       "      <td>0.000000</td>\n",
       "      <td>0.000000</td>\n",
       "      <td>0.015268</td>\n",
       "      <td>0.195263</td>\n",
       "    </tr>\n",
       "    <tr>\n",
       "      <th>2</th>\n",
       "      <td>4111108</td>\n",
       "      <td>11</td>\n",
       "      <td>[(0, 0.077267244), (3, 0.04065723), (9, 0.8798...</td>\n",
       "      <td>0.077267</td>\n",
       "      <td>0.000000</td>\n",
       "      <td>0.000000</td>\n",
       "      <td>0.040657</td>\n",
       "      <td>0.000000</td>\n",
       "      <td>0.000000</td>\n",
       "      <td>0.000000</td>\n",
       "      <td>0.000000</td>\n",
       "      <td>0.000000</td>\n",
       "      <td>0.879876</td>\n",
       "    </tr>\n",
       "    <tr>\n",
       "      <th>3</th>\n",
       "      <td>4244553</td>\n",
       "      <td>11</td>\n",
       "      <td>[(4, 0.02725928), (5, 0.016135849), (8, 0.7298...</td>\n",
       "      <td>0.000000</td>\n",
       "      <td>0.000000</td>\n",
       "      <td>0.000000</td>\n",
       "      <td>0.000000</td>\n",
       "      <td>0.027259</td>\n",
       "      <td>0.016136</td>\n",
       "      <td>0.000000</td>\n",
       "      <td>0.000000</td>\n",
       "      <td>0.729813</td>\n",
       "      <td>0.225441</td>\n",
       "    </tr>\n",
       "    <tr>\n",
       "      <th>4</th>\n",
       "      <td>1237839</td>\n",
       "      <td>12</td>\n",
       "      <td>[(2, 0.28756532), (3, 0.10317103), (4, 0.44643...</td>\n",
       "      <td>0.000000</td>\n",
       "      <td>0.000000</td>\n",
       "      <td>0.287565</td>\n",
       "      <td>0.103171</td>\n",
       "      <td>0.446434</td>\n",
       "      <td>0.000000</td>\n",
       "      <td>0.000000</td>\n",
       "      <td>0.155893</td>\n",
       "      <td>0.000000</td>\n",
       "      <td>0.000000</td>\n",
       "    </tr>\n",
       "    <tr>\n",
       "      <th>5</th>\n",
       "      <td>830162</td>\n",
       "      <td>12</td>\n",
       "      <td>[(1, 0.18145803), (3, 0.16915679), (5, 0.23545...</td>\n",
       "      <td>0.000000</td>\n",
       "      <td>0.181458</td>\n",
       "      <td>0.000000</td>\n",
       "      <td>0.169157</td>\n",
       "      <td>0.000000</td>\n",
       "      <td>0.235459</td>\n",
       "      <td>0.000000</td>\n",
       "      <td>0.082334</td>\n",
       "      <td>0.044218</td>\n",
       "      <td>0.285575</td>\n",
       "    </tr>\n",
       "    <tr>\n",
       "      <th>6</th>\n",
       "      <td>561358</td>\n",
       "      <td>13</td>\n",
       "      <td>[(1, 0.4414811), (4, 0.33261058), (7, 0.216235...</td>\n",
       "      <td>0.000000</td>\n",
       "      <td>0.441481</td>\n",
       "      <td>0.000000</td>\n",
       "      <td>0.000000</td>\n",
       "      <td>0.332611</td>\n",
       "      <td>0.000000</td>\n",
       "      <td>0.000000</td>\n",
       "      <td>0.216236</td>\n",
       "      <td>0.000000</td>\n",
       "      <td>0.000000</td>\n",
       "    </tr>\n",
       "    <tr>\n",
       "      <th>7</th>\n",
       "      <td>2027451</td>\n",
       "      <td>13</td>\n",
       "      <td>[(1, 0.06298716), (3, 0.5324159), (4, 0.225255...</td>\n",
       "      <td>0.000000</td>\n",
       "      <td>0.062987</td>\n",
       "      <td>0.000000</td>\n",
       "      <td>0.532416</td>\n",
       "      <td>0.225256</td>\n",
       "      <td>0.000000</td>\n",
       "      <td>0.000000</td>\n",
       "      <td>0.000000</td>\n",
       "      <td>0.000000</td>\n",
       "      <td>0.176567</td>\n",
       "    </tr>\n",
       "    <tr>\n",
       "      <th>8</th>\n",
       "      <td>4615147</td>\n",
       "      <td>14</td>\n",
       "      <td>[(0, 0.03836064), (3, 0.95892245)]</td>\n",
       "      <td>0.038361</td>\n",
       "      <td>0.000000</td>\n",
       "      <td>0.000000</td>\n",
       "      <td>0.958922</td>\n",
       "      <td>0.000000</td>\n",
       "      <td>0.000000</td>\n",
       "      <td>0.000000</td>\n",
       "      <td>0.000000</td>\n",
       "      <td>0.000000</td>\n",
       "      <td>0.000000</td>\n",
       "    </tr>\n",
       "    <tr>\n",
       "      <th>9</th>\n",
       "      <td>2307789</td>\n",
       "      <td>14</td>\n",
       "      <td>[(1, 0.3021243), (2, 0.043693945), (5, 0.65188...</td>\n",
       "      <td>0.000000</td>\n",
       "      <td>0.302124</td>\n",
       "      <td>0.043694</td>\n",
       "      <td>0.000000</td>\n",
       "      <td>0.000000</td>\n",
       "      <td>0.651888</td>\n",
       "      <td>0.000000</td>\n",
       "      <td>0.000000</td>\n",
       "      <td>0.000000</td>\n",
       "      <td>0.000000</td>\n",
       "    </tr>\n",
       "    <tr>\n",
       "      <th>10</th>\n",
       "      <td>3310162</td>\n",
       "      <td>15</td>\n",
       "      <td>[(4, 0.33396718), (5, 0.049628127), (7, 0.1462...</td>\n",
       "      <td>0.000000</td>\n",
       "      <td>0.000000</td>\n",
       "      <td>0.000000</td>\n",
       "      <td>0.000000</td>\n",
       "      <td>0.333967</td>\n",
       "      <td>0.049628</td>\n",
       "      <td>0.000000</td>\n",
       "      <td>0.146218</td>\n",
       "      <td>0.467331</td>\n",
       "      <td>0.000000</td>\n",
       "    </tr>\n",
       "    <tr>\n",
       "      <th>11</th>\n",
       "      <td>3299980</td>\n",
       "      <td>15</td>\n",
       "      <td>[(0, 0.5941503), (3, 0.014662533), (6, 0.05549...</td>\n",
       "      <td>0.594150</td>\n",
       "      <td>0.000000</td>\n",
       "      <td>0.000000</td>\n",
       "      <td>0.014663</td>\n",
       "      <td>0.000000</td>\n",
       "      <td>0.000000</td>\n",
       "      <td>0.055491</td>\n",
       "      <td>0.000000</td>\n",
       "      <td>0.061397</td>\n",
       "      <td>0.272558</td>\n",
       "    </tr>\n",
       "    <tr>\n",
       "      <th>12</th>\n",
       "      <td>7371072</td>\n",
       "      <td>16</td>\n",
       "      <td>[(2, 0.7037301), (5, 0.2865097)]</td>\n",
       "      <td>0.000000</td>\n",
       "      <td>0.000000</td>\n",
       "      <td>0.703730</td>\n",
       "      <td>0.000000</td>\n",
       "      <td>0.000000</td>\n",
       "      <td>0.286510</td>\n",
       "      <td>0.000000</td>\n",
       "      <td>0.000000</td>\n",
       "      <td>0.000000</td>\n",
       "      <td>0.000000</td>\n",
       "    </tr>\n",
       "    <tr>\n",
       "      <th>13</th>\n",
       "      <td>14237405</td>\n",
       "      <td>16</td>\n",
       "      <td>[(0, 0.6898216), (7, 0.08103056), (9, 0.227044...</td>\n",
       "      <td>0.689822</td>\n",
       "      <td>0.000000</td>\n",
       "      <td>0.000000</td>\n",
       "      <td>0.000000</td>\n",
       "      <td>0.000000</td>\n",
       "      <td>0.000000</td>\n",
       "      <td>0.000000</td>\n",
       "      <td>0.081031</td>\n",
       "      <td>0.000000</td>\n",
       "      <td>0.227045</td>\n",
       "    </tr>\n",
       "    <tr>\n",
       "      <th>14</th>\n",
       "      <td>18504892</td>\n",
       "      <td>17</td>\n",
       "      <td>[(1, 0.38204384), (3, 0.049473833), (5, 0.3070...</td>\n",
       "      <td>0.000000</td>\n",
       "      <td>0.382044</td>\n",
       "      <td>0.000000</td>\n",
       "      <td>0.049474</td>\n",
       "      <td>0.000000</td>\n",
       "      <td>0.307052</td>\n",
       "      <td>0.000000</td>\n",
       "      <td>0.036964</td>\n",
       "      <td>0.000000</td>\n",
       "      <td>0.221500</td>\n",
       "    </tr>\n",
       "    <tr>\n",
       "      <th>15</th>\n",
       "      <td>21841104</td>\n",
       "      <td>17</td>\n",
       "      <td>[(0, 0.026555918), (1, 0.4805876), (2, 0.09602...</td>\n",
       "      <td>0.026556</td>\n",
       "      <td>0.480588</td>\n",
       "      <td>0.096028</td>\n",
       "      <td>0.000000</td>\n",
       "      <td>0.000000</td>\n",
       "      <td>0.116557</td>\n",
       "      <td>0.000000</td>\n",
       "      <td>0.000000</td>\n",
       "      <td>0.000000</td>\n",
       "      <td>0.279522</td>\n",
       "    </tr>\n",
       "    <tr>\n",
       "      <th>16</th>\n",
       "      <td>50138096</td>\n",
       "      <td>18</td>\n",
       "      <td>[(2, 0.14251871), (4, 0.40044498), (5, 0.05530...</td>\n",
       "      <td>0.000000</td>\n",
       "      <td>0.000000</td>\n",
       "      <td>0.142519</td>\n",
       "      <td>0.000000</td>\n",
       "      <td>0.400445</td>\n",
       "      <td>0.055305</td>\n",
       "      <td>0.000000</td>\n",
       "      <td>0.000000</td>\n",
       "      <td>0.022809</td>\n",
       "      <td>0.377724</td>\n",
       "    </tr>\n",
       "    <tr>\n",
       "      <th>17</th>\n",
       "      <td>24252321</td>\n",
       "      <td>18</td>\n",
       "      <td>[(1, 0.04416543), (4, 0.37918663), (7, 0.32410...</td>\n",
       "      <td>0.000000</td>\n",
       "      <td>0.044165</td>\n",
       "      <td>0.000000</td>\n",
       "      <td>0.000000</td>\n",
       "      <td>0.379187</td>\n",
       "      <td>0.000000</td>\n",
       "      <td>0.000000</td>\n",
       "      <td>0.324106</td>\n",
       "      <td>0.251404</td>\n",
       "      <td>0.000000</td>\n",
       "    </tr>\n",
       "    <tr>\n",
       "      <th>18</th>\n",
       "      <td>70725573</td>\n",
       "      <td>19</td>\n",
       "      <td>[(0, 0.24512862), (1, 0.28318027), (4, 0.15922...</td>\n",
       "      <td>0.245129</td>\n",
       "      <td>0.283180</td>\n",
       "      <td>0.000000</td>\n",
       "      <td>0.000000</td>\n",
       "      <td>0.159225</td>\n",
       "      <td>0.000000</td>\n",
       "      <td>0.000000</td>\n",
       "      <td>0.000000</td>\n",
       "      <td>0.000000</td>\n",
       "      <td>0.309845</td>\n",
       "    </tr>\n",
       "    <tr>\n",
       "      <th>19</th>\n",
       "      <td>61262538</td>\n",
       "      <td>19</td>\n",
       "      <td>[(1, 0.19126643), (5, 0.08444346), (6, 0.26864...</td>\n",
       "      <td>0.000000</td>\n",
       "      <td>0.191266</td>\n",
       "      <td>0.000000</td>\n",
       "      <td>0.000000</td>\n",
       "      <td>0.000000</td>\n",
       "      <td>0.084443</td>\n",
       "      <td>0.268649</td>\n",
       "      <td>0.181658</td>\n",
       "      <td>0.000000</td>\n",
       "      <td>0.267698</td>\n",
       "    </tr>\n",
       "  </tbody>\n",
       "</table>\n",
       "</div>"
      ],
      "text/plain": [
       "          id  year                                             topics  \\\n",
       "0    1563224    10  [(0, 0.4312536), (1, 0.3387448), (4, 0.0606277...   \n",
       "1    1451590    10  [(1, 0.17420802), (3, 0.6134578), (8, 0.015268...   \n",
       "2    4111108    11  [(0, 0.077267244), (3, 0.04065723), (9, 0.8798...   \n",
       "3    4244553    11  [(4, 0.02725928), (5, 0.016135849), (8, 0.7298...   \n",
       "4    1237839    12  [(2, 0.28756532), (3, 0.10317103), (4, 0.44643...   \n",
       "5     830162    12  [(1, 0.18145803), (3, 0.16915679), (5, 0.23545...   \n",
       "6     561358    13  [(1, 0.4414811), (4, 0.33261058), (7, 0.216235...   \n",
       "7    2027451    13  [(1, 0.06298716), (3, 0.5324159), (4, 0.225255...   \n",
       "8    4615147    14                 [(0, 0.03836064), (3, 0.95892245)]   \n",
       "9    2307789    14  [(1, 0.3021243), (2, 0.043693945), (5, 0.65188...   \n",
       "10   3310162    15  [(4, 0.33396718), (5, 0.049628127), (7, 0.1462...   \n",
       "11   3299980    15  [(0, 0.5941503), (3, 0.014662533), (6, 0.05549...   \n",
       "12   7371072    16                   [(2, 0.7037301), (5, 0.2865097)]   \n",
       "13  14237405    16  [(0, 0.6898216), (7, 0.08103056), (9, 0.227044...   \n",
       "14  18504892    17  [(1, 0.38204384), (3, 0.049473833), (5, 0.3070...   \n",
       "15  21841104    17  [(0, 0.026555918), (1, 0.4805876), (2, 0.09602...   \n",
       "16  50138096    18  [(2, 0.14251871), (4, 0.40044498), (5, 0.05530...   \n",
       "17  24252321    18  [(1, 0.04416543), (4, 0.37918663), (7, 0.32410...   \n",
       "18  70725573    19  [(0, 0.24512862), (1, 0.28318027), (4, 0.15922...   \n",
       "19  61262538    19  [(1, 0.19126643), (5, 0.08444346), (6, 0.26864...   \n",
       "\n",
       "     topic_0   topic_1   topic_2   topic_3   topic_4   topic_5   topic_6  \\\n",
       "0   0.431254  0.338745  0.000000  0.000000  0.060628  0.043584  0.000000   \n",
       "1   0.000000  0.174208  0.000000  0.613458  0.000000  0.000000  0.000000   \n",
       "2   0.077267  0.000000  0.000000  0.040657  0.000000  0.000000  0.000000   \n",
       "3   0.000000  0.000000  0.000000  0.000000  0.027259  0.016136  0.000000   \n",
       "4   0.000000  0.000000  0.287565  0.103171  0.446434  0.000000  0.000000   \n",
       "5   0.000000  0.181458  0.000000  0.169157  0.000000  0.235459  0.000000   \n",
       "6   0.000000  0.441481  0.000000  0.000000  0.332611  0.000000  0.000000   \n",
       "7   0.000000  0.062987  0.000000  0.532416  0.225256  0.000000  0.000000   \n",
       "8   0.038361  0.000000  0.000000  0.958922  0.000000  0.000000  0.000000   \n",
       "9   0.000000  0.302124  0.043694  0.000000  0.000000  0.651888  0.000000   \n",
       "10  0.000000  0.000000  0.000000  0.000000  0.333967  0.049628  0.000000   \n",
       "11  0.594150  0.000000  0.000000  0.014663  0.000000  0.000000  0.055491   \n",
       "12  0.000000  0.000000  0.703730  0.000000  0.000000  0.286510  0.000000   \n",
       "13  0.689822  0.000000  0.000000  0.000000  0.000000  0.000000  0.000000   \n",
       "14  0.000000  0.382044  0.000000  0.049474  0.000000  0.307052  0.000000   \n",
       "15  0.026556  0.480588  0.096028  0.000000  0.000000  0.116557  0.000000   \n",
       "16  0.000000  0.000000  0.142519  0.000000  0.400445  0.055305  0.000000   \n",
       "17  0.000000  0.044165  0.000000  0.000000  0.379187  0.000000  0.000000   \n",
       "18  0.245129  0.283180  0.000000  0.000000  0.159225  0.000000  0.000000   \n",
       "19  0.000000  0.191266  0.000000  0.000000  0.000000  0.084443  0.268649   \n",
       "\n",
       "     topic_7   topic_8   topic_9  \n",
       "0   0.123570  0.000000  0.000000  \n",
       "1   0.000000  0.015268  0.195263  \n",
       "2   0.000000  0.000000  0.879876  \n",
       "3   0.000000  0.729813  0.225441  \n",
       "4   0.155893  0.000000  0.000000  \n",
       "5   0.082334  0.044218  0.285575  \n",
       "6   0.216236  0.000000  0.000000  \n",
       "7   0.000000  0.000000  0.176567  \n",
       "8   0.000000  0.000000  0.000000  \n",
       "9   0.000000  0.000000  0.000000  \n",
       "10  0.146218  0.467331  0.000000  \n",
       "11  0.000000  0.061397  0.272558  \n",
       "12  0.000000  0.000000  0.000000  \n",
       "13  0.081031  0.000000  0.227045  \n",
       "14  0.036964  0.000000  0.221500  \n",
       "15  0.000000  0.000000  0.279522  \n",
       "16  0.000000  0.022809  0.377724  \n",
       "17  0.324106  0.251404  0.000000  \n",
       "18  0.000000  0.000000  0.309845  \n",
       "19  0.181658  0.000000  0.267698  "
      ]
     },
     "execution_count": 15,
     "metadata": {},
     "output_type": "execute_result"
    }
   ],
   "source": [
    "#randomly sample 2 news from each year\n",
    "df = ldaDF.groupby('year').apply(lambda x: x.sample(2, random_state = 123)).reset_index(drop=True)\n",
    "df"
   ]
  },
  {
   "cell_type": "code",
   "execution_count": 16,
   "metadata": {
    "ExecuteTime": {
     "end_time": "2021-03-08T05:55:29.923115Z",
     "start_time": "2021-03-08T05:55:29.902116Z"
    }
   },
   "outputs": [
    {
     "data": {
      "text/html": [
       "<div>\n",
       "<style scoped>\n",
       "    .dataframe tbody tr th:only-of-type {\n",
       "        vertical-align: middle;\n",
       "    }\n",
       "\n",
       "    .dataframe tbody tr th {\n",
       "        vertical-align: top;\n",
       "    }\n",
       "\n",
       "    .dataframe thead th {\n",
       "        text-align: right;\n",
       "    }\n",
       "</style>\n",
       "<table border=\"1\" class=\"dataframe\">\n",
       "  <thead>\n",
       "    <tr style=\"text-align: right;\">\n",
       "      <th></th>\n",
       "      <th>topic_0</th>\n",
       "      <th>topic_1</th>\n",
       "      <th>topic_2</th>\n",
       "      <th>topic_3</th>\n",
       "      <th>topic_4</th>\n",
       "      <th>topic_5</th>\n",
       "      <th>topic_6</th>\n",
       "      <th>topic_7</th>\n",
       "      <th>topic_8</th>\n",
       "      <th>topic_9</th>\n",
       "    </tr>\n",
       "  </thead>\n",
       "  <tbody>\n",
       "    <tr>\n",
       "      <th>0</th>\n",
       "      <td>0.431254</td>\n",
       "      <td>0.338745</td>\n",
       "      <td>0.000000</td>\n",
       "      <td>0.000000</td>\n",
       "      <td>0.060628</td>\n",
       "      <td>0.043584</td>\n",
       "      <td>0.000000</td>\n",
       "      <td>0.123570</td>\n",
       "      <td>0.000000</td>\n",
       "      <td>0.000000</td>\n",
       "    </tr>\n",
       "    <tr>\n",
       "      <th>1</th>\n",
       "      <td>0.000000</td>\n",
       "      <td>0.174208</td>\n",
       "      <td>0.000000</td>\n",
       "      <td>0.613458</td>\n",
       "      <td>0.000000</td>\n",
       "      <td>0.000000</td>\n",
       "      <td>0.000000</td>\n",
       "      <td>0.000000</td>\n",
       "      <td>0.015268</td>\n",
       "      <td>0.195263</td>\n",
       "    </tr>\n",
       "    <tr>\n",
       "      <th>2</th>\n",
       "      <td>0.077267</td>\n",
       "      <td>0.000000</td>\n",
       "      <td>0.000000</td>\n",
       "      <td>0.040657</td>\n",
       "      <td>0.000000</td>\n",
       "      <td>0.000000</td>\n",
       "      <td>0.000000</td>\n",
       "      <td>0.000000</td>\n",
       "      <td>0.000000</td>\n",
       "      <td>0.879876</td>\n",
       "    </tr>\n",
       "    <tr>\n",
       "      <th>3</th>\n",
       "      <td>0.000000</td>\n",
       "      <td>0.000000</td>\n",
       "      <td>0.000000</td>\n",
       "      <td>0.000000</td>\n",
       "      <td>0.027259</td>\n",
       "      <td>0.016136</td>\n",
       "      <td>0.000000</td>\n",
       "      <td>0.000000</td>\n",
       "      <td>0.729813</td>\n",
       "      <td>0.225441</td>\n",
       "    </tr>\n",
       "    <tr>\n",
       "      <th>4</th>\n",
       "      <td>0.000000</td>\n",
       "      <td>0.000000</td>\n",
       "      <td>0.287565</td>\n",
       "      <td>0.103171</td>\n",
       "      <td>0.446434</td>\n",
       "      <td>0.000000</td>\n",
       "      <td>0.000000</td>\n",
       "      <td>0.155893</td>\n",
       "      <td>0.000000</td>\n",
       "      <td>0.000000</td>\n",
       "    </tr>\n",
       "    <tr>\n",
       "      <th>5</th>\n",
       "      <td>0.000000</td>\n",
       "      <td>0.181458</td>\n",
       "      <td>0.000000</td>\n",
       "      <td>0.169157</td>\n",
       "      <td>0.000000</td>\n",
       "      <td>0.235459</td>\n",
       "      <td>0.000000</td>\n",
       "      <td>0.082334</td>\n",
       "      <td>0.044218</td>\n",
       "      <td>0.285575</td>\n",
       "    </tr>\n",
       "    <tr>\n",
       "      <th>6</th>\n",
       "      <td>0.000000</td>\n",
       "      <td>0.441481</td>\n",
       "      <td>0.000000</td>\n",
       "      <td>0.000000</td>\n",
       "      <td>0.332611</td>\n",
       "      <td>0.000000</td>\n",
       "      <td>0.000000</td>\n",
       "      <td>0.216236</td>\n",
       "      <td>0.000000</td>\n",
       "      <td>0.000000</td>\n",
       "    </tr>\n",
       "    <tr>\n",
       "      <th>7</th>\n",
       "      <td>0.000000</td>\n",
       "      <td>0.062987</td>\n",
       "      <td>0.000000</td>\n",
       "      <td>0.532416</td>\n",
       "      <td>0.225256</td>\n",
       "      <td>0.000000</td>\n",
       "      <td>0.000000</td>\n",
       "      <td>0.000000</td>\n",
       "      <td>0.000000</td>\n",
       "      <td>0.176567</td>\n",
       "    </tr>\n",
       "    <tr>\n",
       "      <th>8</th>\n",
       "      <td>0.038361</td>\n",
       "      <td>0.000000</td>\n",
       "      <td>0.000000</td>\n",
       "      <td>0.958922</td>\n",
       "      <td>0.000000</td>\n",
       "      <td>0.000000</td>\n",
       "      <td>0.000000</td>\n",
       "      <td>0.000000</td>\n",
       "      <td>0.000000</td>\n",
       "      <td>0.000000</td>\n",
       "    </tr>\n",
       "    <tr>\n",
       "      <th>9</th>\n",
       "      <td>0.000000</td>\n",
       "      <td>0.302124</td>\n",
       "      <td>0.043694</td>\n",
       "      <td>0.000000</td>\n",
       "      <td>0.000000</td>\n",
       "      <td>0.651888</td>\n",
       "      <td>0.000000</td>\n",
       "      <td>0.000000</td>\n",
       "      <td>0.000000</td>\n",
       "      <td>0.000000</td>\n",
       "    </tr>\n",
       "    <tr>\n",
       "      <th>10</th>\n",
       "      <td>0.000000</td>\n",
       "      <td>0.000000</td>\n",
       "      <td>0.000000</td>\n",
       "      <td>0.000000</td>\n",
       "      <td>0.333967</td>\n",
       "      <td>0.049628</td>\n",
       "      <td>0.000000</td>\n",
       "      <td>0.146218</td>\n",
       "      <td>0.467331</td>\n",
       "      <td>0.000000</td>\n",
       "    </tr>\n",
       "    <tr>\n",
       "      <th>11</th>\n",
       "      <td>0.594150</td>\n",
       "      <td>0.000000</td>\n",
       "      <td>0.000000</td>\n",
       "      <td>0.014663</td>\n",
       "      <td>0.000000</td>\n",
       "      <td>0.000000</td>\n",
       "      <td>0.055491</td>\n",
       "      <td>0.000000</td>\n",
       "      <td>0.061397</td>\n",
       "      <td>0.272558</td>\n",
       "    </tr>\n",
       "    <tr>\n",
       "      <th>12</th>\n",
       "      <td>0.000000</td>\n",
       "      <td>0.000000</td>\n",
       "      <td>0.703730</td>\n",
       "      <td>0.000000</td>\n",
       "      <td>0.000000</td>\n",
       "      <td>0.286510</td>\n",
       "      <td>0.000000</td>\n",
       "      <td>0.000000</td>\n",
       "      <td>0.000000</td>\n",
       "      <td>0.000000</td>\n",
       "    </tr>\n",
       "    <tr>\n",
       "      <th>13</th>\n",
       "      <td>0.689822</td>\n",
       "      <td>0.000000</td>\n",
       "      <td>0.000000</td>\n",
       "      <td>0.000000</td>\n",
       "      <td>0.000000</td>\n",
       "      <td>0.000000</td>\n",
       "      <td>0.000000</td>\n",
       "      <td>0.081031</td>\n",
       "      <td>0.000000</td>\n",
       "      <td>0.227045</td>\n",
       "    </tr>\n",
       "    <tr>\n",
       "      <th>14</th>\n",
       "      <td>0.000000</td>\n",
       "      <td>0.382044</td>\n",
       "      <td>0.000000</td>\n",
       "      <td>0.049474</td>\n",
       "      <td>0.000000</td>\n",
       "      <td>0.307052</td>\n",
       "      <td>0.000000</td>\n",
       "      <td>0.036964</td>\n",
       "      <td>0.000000</td>\n",
       "      <td>0.221500</td>\n",
       "    </tr>\n",
       "    <tr>\n",
       "      <th>15</th>\n",
       "      <td>0.026556</td>\n",
       "      <td>0.480588</td>\n",
       "      <td>0.096028</td>\n",
       "      <td>0.000000</td>\n",
       "      <td>0.000000</td>\n",
       "      <td>0.116557</td>\n",
       "      <td>0.000000</td>\n",
       "      <td>0.000000</td>\n",
       "      <td>0.000000</td>\n",
       "      <td>0.279522</td>\n",
       "    </tr>\n",
       "    <tr>\n",
       "      <th>16</th>\n",
       "      <td>0.000000</td>\n",
       "      <td>0.000000</td>\n",
       "      <td>0.142519</td>\n",
       "      <td>0.000000</td>\n",
       "      <td>0.400445</td>\n",
       "      <td>0.055305</td>\n",
       "      <td>0.000000</td>\n",
       "      <td>0.000000</td>\n",
       "      <td>0.022809</td>\n",
       "      <td>0.377724</td>\n",
       "    </tr>\n",
       "    <tr>\n",
       "      <th>17</th>\n",
       "      <td>0.000000</td>\n",
       "      <td>0.044165</td>\n",
       "      <td>0.000000</td>\n",
       "      <td>0.000000</td>\n",
       "      <td>0.379187</td>\n",
       "      <td>0.000000</td>\n",
       "      <td>0.000000</td>\n",
       "      <td>0.324106</td>\n",
       "      <td>0.251404</td>\n",
       "      <td>0.000000</td>\n",
       "    </tr>\n",
       "    <tr>\n",
       "      <th>18</th>\n",
       "      <td>0.245129</td>\n",
       "      <td>0.283180</td>\n",
       "      <td>0.000000</td>\n",
       "      <td>0.000000</td>\n",
       "      <td>0.159225</td>\n",
       "      <td>0.000000</td>\n",
       "      <td>0.000000</td>\n",
       "      <td>0.000000</td>\n",
       "      <td>0.000000</td>\n",
       "      <td>0.309845</td>\n",
       "    </tr>\n",
       "    <tr>\n",
       "      <th>19</th>\n",
       "      <td>0.000000</td>\n",
       "      <td>0.191266</td>\n",
       "      <td>0.000000</td>\n",
       "      <td>0.000000</td>\n",
       "      <td>0.000000</td>\n",
       "      <td>0.084443</td>\n",
       "      <td>0.268649</td>\n",
       "      <td>0.181658</td>\n",
       "      <td>0.000000</td>\n",
       "      <td>0.267698</td>\n",
       "    </tr>\n",
       "  </tbody>\n",
       "</table>\n",
       "</div>"
      ],
      "text/plain": [
       "     topic_0   topic_1   topic_2   topic_3   topic_4   topic_5   topic_6  \\\n",
       "0   0.431254  0.338745  0.000000  0.000000  0.060628  0.043584  0.000000   \n",
       "1   0.000000  0.174208  0.000000  0.613458  0.000000  0.000000  0.000000   \n",
       "2   0.077267  0.000000  0.000000  0.040657  0.000000  0.000000  0.000000   \n",
       "3   0.000000  0.000000  0.000000  0.000000  0.027259  0.016136  0.000000   \n",
       "4   0.000000  0.000000  0.287565  0.103171  0.446434  0.000000  0.000000   \n",
       "5   0.000000  0.181458  0.000000  0.169157  0.000000  0.235459  0.000000   \n",
       "6   0.000000  0.441481  0.000000  0.000000  0.332611  0.000000  0.000000   \n",
       "7   0.000000  0.062987  0.000000  0.532416  0.225256  0.000000  0.000000   \n",
       "8   0.038361  0.000000  0.000000  0.958922  0.000000  0.000000  0.000000   \n",
       "9   0.000000  0.302124  0.043694  0.000000  0.000000  0.651888  0.000000   \n",
       "10  0.000000  0.000000  0.000000  0.000000  0.333967  0.049628  0.000000   \n",
       "11  0.594150  0.000000  0.000000  0.014663  0.000000  0.000000  0.055491   \n",
       "12  0.000000  0.000000  0.703730  0.000000  0.000000  0.286510  0.000000   \n",
       "13  0.689822  0.000000  0.000000  0.000000  0.000000  0.000000  0.000000   \n",
       "14  0.000000  0.382044  0.000000  0.049474  0.000000  0.307052  0.000000   \n",
       "15  0.026556  0.480588  0.096028  0.000000  0.000000  0.116557  0.000000   \n",
       "16  0.000000  0.000000  0.142519  0.000000  0.400445  0.055305  0.000000   \n",
       "17  0.000000  0.044165  0.000000  0.000000  0.379187  0.000000  0.000000   \n",
       "18  0.245129  0.283180  0.000000  0.000000  0.159225  0.000000  0.000000   \n",
       "19  0.000000  0.191266  0.000000  0.000000  0.000000  0.084443  0.268649   \n",
       "\n",
       "     topic_7   topic_8   topic_9  \n",
       "0   0.123570  0.000000  0.000000  \n",
       "1   0.000000  0.015268  0.195263  \n",
       "2   0.000000  0.000000  0.879876  \n",
       "3   0.000000  0.729813  0.225441  \n",
       "4   0.155893  0.000000  0.000000  \n",
       "5   0.082334  0.044218  0.285575  \n",
       "6   0.216236  0.000000  0.000000  \n",
       "7   0.000000  0.000000  0.176567  \n",
       "8   0.000000  0.000000  0.000000  \n",
       "9   0.000000  0.000000  0.000000  \n",
       "10  0.146218  0.467331  0.000000  \n",
       "11  0.000000  0.061397  0.272558  \n",
       "12  0.000000  0.000000  0.000000  \n",
       "13  0.081031  0.000000  0.227045  \n",
       "14  0.036964  0.000000  0.221500  \n",
       "15  0.000000  0.000000  0.279522  \n",
       "16  0.000000  0.022809  0.377724  \n",
       "17  0.324106  0.251404  0.000000  \n",
       "18  0.000000  0.000000  0.309845  \n",
       "19  0.181658  0.000000  0.267698  "
      ]
     },
     "execution_count": 16,
     "metadata": {},
     "output_type": "execute_result"
    }
   ],
   "source": [
    "ldaDFV = df[['topic_%d' %x for x in range(10)]]\n",
    "ldaDFVisN = df[['year']]\n",
    "ldaDFVis = ldaDFV.values\n",
    "ldaDFVisNames = ldaDFVisN.values\n",
    "ldaDFV"
   ]
  },
  {
   "cell_type": "code",
   "execution_count": 17,
   "metadata": {
    "ExecuteTime": {
     "end_time": "2021-03-08T05:55:30.815285Z",
     "start_time": "2021-03-08T05:55:29.925117Z"
    }
   },
   "outputs": [
    {
     "data": {
      "image/png": "[encoded data removed]",
      "text/plain": [
       "<Figure size 576x432 with 1 Axes>"
      ]
     },
     "metadata": {
      "needs_background": "light"
     },
     "output_type": "display_data"
    }
   ],
   "source": [
    "N = 20\n",
    "ind = np.arange(N)\n",
    "K = nowlda.num_topics  # N documents, K topics\n",
    "ind = np.arange(N)  # the x-axis locations for the novels\n",
    "width = 0.5  # the width of the bars\n",
    "plots = []\n",
    "height_cumulative = np.zeros(N)\n",
    "plt.rc('font', size=16)\n",
    "plt.figure(figsize = (8, 6))\n",
    "\n",
    "for k in range(K):\n",
    "    color = plt.cm.Accent(k/K, 1)\n",
    "    if k == 0:\n",
    "        p = plt.bar(ind, ldaDFVis[:, k], width, color=color)\n",
    "    else:\n",
    "        p = plt.bar(ind, ldaDFVis[:, k], width, bottom=height_cumulative)\n",
    "    height_cumulative += ldaDFVis[:, k]\n",
    "    plots.append(p)\n",
    "    \n",
    "\n",
    "plt.ylim((0, 1))  # proportions sum to 1, so the height of the stacked bars is 1\n",
    "plt.ylabel('Topics')\n",
    "\n",
    "plt.title('Topics in inequality news of NOW ($\\eta$ = 0.8)')\n",
    "plt.xticks(ind+width/2, ldaDFVisNames, rotation='vertical')\n",
    "\n",
    "plt.yticks(np.arange(0, 1, 10))\n",
    "topic_labels = ['Topic #{}'.format(k) for k in range(K)]\n",
    "plt.legend([p[0] for p in plots], topic_labels, loc='center left', frameon=True,  bbox_to_anchor = (1, .5))\n",
    "\n",
    "plt.show()"
   ]
  },
  {
   "cell_type": "code",
   "execution_count": 18,
   "metadata": {
    "ExecuteTime": {
     "end_time": "2021-03-08T05:55:32.381509Z",
     "start_time": "2021-03-08T05:55:30.816286Z"
    }
   },
   "outputs": [
    {
     "data": {
      "image/png": "[encoded data removed]",
      "text/plain": [
       "<Figure size 576x576 with 2 Axes>"
      ]
     },
     "metadata": {
      "needs_background": "light"
     },
     "output_type": "display_data"
    }
   ],
   "source": [
    "plt.figure(figsize = (8,8))\n",
    "plt.pcolor(ldaDFVis, norm=None, cmap='YlGnBu')\n",
    "plt.yticks(np.arange(ldaDFVis.shape[0])+0.5, ldaDFVisNames);\n",
    "plt.xticks(np.arange(ldaDFVis.shape[1])+0.5, topic_labels);\n",
    "plt.title('Topics in inequality news of NOW ($\\eta$ = 0.8)')\n",
    "# flip the y-axis so the texts are in the order we anticipate (Austen first, then Brontë)\n",
    "plt.gca().invert_yaxis()\n",
    "\n",
    "# rotate the ticks on the x-axis\n",
    "plt.xticks(rotation=90)\n",
    "\n",
    "# add a legend\n",
    "plt.colorbar(cmap='YlGnBu')\n",
    "plt.tight_layout()  # fixes margins\n",
    "plt.show()"
   ]
  },
  {
   "cell_type": "code",
   "execution_count": 19,
   "metadata": {
    "ExecuteTime": {
     "end_time": "2021-03-08T05:55:32.399468Z",
     "start_time": "2021-03-08T05:55:32.383468Z"
    }
   },
   "outputs": [
    {
     "data": {
      "text/html": [
       "<div>\n",
       "<style scoped>\n",
       "    .dataframe tbody tr th:only-of-type {\n",
       "        vertical-align: middle;\n",
       "    }\n",
       "\n",
       "    .dataframe tbody tr th {\n",
       "        vertical-align: top;\n",
       "    }\n",
       "\n",
       "    .dataframe thead th {\n",
       "        text-align: right;\n",
       "    }\n",
       "</style>\n",
       "<table border=\"1\" class=\"dataframe\">\n",
       "  <thead>\n",
       "    <tr style=\"text-align: right;\">\n",
       "      <th></th>\n",
       "      <th>Topic_0</th>\n",
       "      <th>Topic_1</th>\n",
       "      <th>Topic_2</th>\n",
       "      <th>Topic_3</th>\n",
       "      <th>Topic_4</th>\n",
       "      <th>Topic_5</th>\n",
       "      <th>Topic_6</th>\n",
       "      <th>Topic_7</th>\n",
       "      <th>Topic_8</th>\n",
       "      <th>Topic_9</th>\n",
       "    </tr>\n",
       "  </thead>\n",
       "  <tbody>\n",
       "    <tr>\n",
       "      <th>0</th>\n",
       "      <td>tax</td>\n",
       "      <td>say</td>\n",
       "      <td>woman</td>\n",
       "      <td>state</td>\n",
       "      <td>pay</td>\n",
       "      <td>change</td>\n",
       "      <td>south</td>\n",
       "      <td>say</td>\n",
       "      <td>school</td>\n",
       "      <td>think</td>\n",
       "    </tr>\n",
       "    <tr>\n",
       "      <th>1</th>\n",
       "      <td>economy</td>\n",
       "      <td>party</td>\n",
       "      <td>gender</td>\n",
       "      <td>right</td>\n",
       "      <td>work</td>\n",
       "      <td>need</td>\n",
       "      <td>africa</td>\n",
       "      <td>city</td>\n",
       "      <td>education</td>\n",
       "      <td>know</td>\n",
       "    </tr>\n",
       "    <tr>\n",
       "      <th>2</th>\n",
       "      <td>business</td>\n",
       "      <td>president</td>\n",
       "      <td>man</td>\n",
       "      <td>india</td>\n",
       "      <td>wage</td>\n",
       "      <td>say</td>\n",
       "      <td>african</td>\n",
       "      <td>income</td>\n",
       "      <td>student</td>\n",
       "      <td>come</td>\n",
       "    </tr>\n",
       "    <tr>\n",
       "      <th>3</th>\n",
       "      <td>economic</td>\n",
       "      <td>trump</td>\n",
       "      <td>say</td>\n",
       "      <td>political</td>\n",
       "      <td>job</td>\n",
       "      <td>work</td>\n",
       "      <td>anc</td>\n",
       "      <td>house</td>\n",
       "      <td>university</td>\n",
       "      <td>work</td>\n",
       "    </tr>\n",
       "    <tr>\n",
       "      <th>4</th>\n",
       "      <td>growth</td>\n",
       "      <td>election</td>\n",
       "      <td>work</td>\n",
       "      <td>development</td>\n",
       "      <td>income</td>\n",
       "      <td>community</td>\n",
       "      <td>land</td>\n",
       "      <td>cent</td>\n",
       "      <td>child</td>\n",
       "      <td>thing</td>\n",
       "    </tr>\n",
       "    <tr>\n",
       "      <th>5</th>\n",
       "      <td>market</td>\n",
       "      <td>vote</td>\n",
       "      <td>female</td>\n",
       "      <td>social</td>\n",
       "      <td>labour</td>\n",
       "      <td>use</td>\n",
       "      <td>black</td>\n",
       "      <td>report</td>\n",
       "      <td>say</td>\n",
       "      <td>say</td>\n",
       "    </tr>\n",
       "    <tr>\n",
       "      <th>6</th>\n",
       "      <td>policy</td>\n",
       "      <td>state</td>\n",
       "      <td>equality</td>\n",
       "      <td>economic</td>\n",
       "      <td>low</td>\n",
       "      <td>think</td>\n",
       "      <td>africans</td>\n",
       "      <td>high</td>\n",
       "      <td>high</td>\n",
       "      <td>way</td>\n",
       "    </tr>\n",
       "    <tr>\n",
       "      <th>7</th>\n",
       "      <td>bank</td>\n",
       "      <td>campaign</td>\n",
       "      <td>violence</td>\n",
       "      <td>human</td>\n",
       "      <td>union</td>\n",
       "      <td>information</td>\n",
       "      <td>national</td>\n",
       "      <td>poverty</td>\n",
       "      <td>work</td>\n",
       "      <td>want</td>\n",
       "    </tr>\n",
       "    <tr>\n",
       "      <th>8</th>\n",
       "      <td>company</td>\n",
       "      <td>political</td>\n",
       "      <td>child</td>\n",
       "      <td>power</td>\n",
       "      <td>increase</td>\n",
       "      <td>way</td>\n",
       "      <td>economic</td>\n",
       "      <td>percent</td>\n",
       "      <td>college</td>\n",
       "      <td>live</td>\n",
       "    </tr>\n",
       "    <tr>\n",
       "      <th>9</th>\n",
       "      <td>investment</td>\n",
       "      <td>mr</td>\n",
       "      <td>sexual</td>\n",
       "      <td>nation</td>\n",
       "      <td>minimum</td>\n",
       "      <td>comment</td>\n",
       "      <td>need</td>\n",
       "      <td>health</td>\n",
       "      <td>study</td>\n",
       "      <td>day</td>\n",
       "    </tr>\n",
       "  </tbody>\n",
       "</table>\n",
       "</div>"
      ],
      "text/plain": [
       "      Topic_0    Topic_1   Topic_2      Topic_3   Topic_4      Topic_5  \\\n",
       "0         tax        say     woman        state       pay       change   \n",
       "1     economy      party    gender        right      work         need   \n",
       "2    business  president       man        india      wage          say   \n",
       "3    economic      trump       say    political       job         work   \n",
       "4      growth   election      work  development    income    community   \n",
       "5      market       vote    female       social    labour          use   \n",
       "6      policy      state  equality     economic       low        think   \n",
       "7        bank   campaign  violence        human     union  information   \n",
       "8     company  political     child        power  increase          way   \n",
       "9  investment         mr    sexual       nation   minimum      comment   \n",
       "\n",
       "    Topic_6  Topic_7     Topic_8 Topic_9  \n",
       "0     south      say      school   think  \n",
       "1    africa     city   education    know  \n",
       "2   african   income     student    come  \n",
       "3       anc    house  university    work  \n",
       "4      land     cent       child   thing  \n",
       "5     black   report         say     say  \n",
       "6  africans     high        high     way  \n",
       "7  national  poverty        work    want  \n",
       "8  economic  percent     college    live  \n",
       "9      need   health       study     day  "
      ]
     },
     "execution_count": 19,
     "metadata": {},
     "output_type": "execute_result"
    }
   ],
   "source": [
    "topicsDict = {}\n",
    "for topicNum in range(nowlda.num_topics):\n",
    "    topicWords = [w for w, p in nowlda.show_topic(topicNum)]\n",
    "    topicsDict['Topic_{}'.format(topicNum)] = topicWords\n",
    "\n",
    "wordRanksDF = pandas.DataFrame(topicsDict)\n",
    "wordRanksDF"
   ]
  },
  {
   "cell_type": "code",
   "execution_count": 20,
   "metadata": {
    "ExecuteTime": {
     "end_time": "2021-03-08T05:55:32.655472Z",
     "start_time": "2021-03-08T05:55:32.400508Z"
    }
   },
   "outputs": [
    {
     "data": {
      "text/plain": [
       "<Figure size 432x288 with 0 Axes>"
      ]
     },
     "metadata": {},
     "output_type": "display_data"
    },
    {
     "data": {
      "image/png": "[encoded data removed]",
      "text/plain": [
       "<Figure size 432x288 with 1 Axes>"
      ]
     },
     "metadata": {
      "needs_background": "light"
     },
     "output_type": "display_data"
    }
   ],
   "source": [
    "topic1_df = pandas.DataFrame(nowlda.show_topic(1, topn=25))\n",
    "plt.figure()\n",
    "topic1_df.plot.bar(legend = False)\n",
    "plt.title('Probability Distribution of Words, Topic 1')\n",
    "plt.show()"
   ]
  },
  {
   "cell_type": "code",
   "execution_count": 21,
   "metadata": {
    "ExecuteTime": {
     "end_time": "2021-03-08T05:55:32.908515Z",
     "start_time": "2021-03-08T05:55:32.658467Z"
    }
   },
   "outputs": [
    {
     "data": {
      "text/plain": [
       "<Figure size 432x288 with 0 Axes>"
      ]
     },
     "metadata": {},
     "output_type": "display_data"
    },
    {
     "data": {
      "image/png": "[encoded data removed]",
      "text/plain": [
       "<Figure size 432x288 with 1 Axes>"
      ]
     },
     "metadata": {
      "needs_background": "light"
     },
     "output_type": "display_data"
    }
   ],
   "source": [
    "topic_df = pandas.DataFrame(nowlda.show_topic(2, topn=25))\n",
    "plt.figure()\n",
    "topic_df.plot.bar(legend = False)\n",
    "plt.title('Probability Distribution of Words, Topic 2')\n",
    "plt.show()"
   ]
  },
  {
   "cell_type": "markdown",
   "metadata": {},
   "source": [
    "𝛼  controls the sparsity of document-topic loadings, and 𝜂 controls the sparsity of topic-word loadings."
   ]
  },
  {
   "cell_type": "code",
   "execution_count": null,
   "metadata": {
    "ExecuteTime": {
     "end_time": "2021-03-09T13:14:53.323484Z",
     "start_time": "2021-03-09T02:02:25.024Z"
    }
   },
   "outputs": [],
   "source": [
    "um = []\n",
    "cv = []\n",
    "p = []\n",
    "for num_topics in range(2,16):\n",
    "    print(num_topics)\n",
    "    nowlda1 = gensim.models.ldamodel.LdaModel(corpus=nowmm, id2word=dictionary, num_topics=num_topics, alpha = 0.5, eta = 0.01)\n",
    "    cm_u_mass = CoherenceModel(model=nowlda1, corpus=corpus, dictionary=dictionary, coherence='u_mass')\n",
    "    #pyLDAvis.enable_notebook()\n",
    "    #pyLDAvis.gensim.prepare(nowlda1, corpus, dictionary)\n",
    "    um.append(cm_u_mass.get_coherence())\n",
    "    cm_c_v = CoherenceModel(model=nowlda1, texts=now_df[\"reduced_tokens\"], dictionary=dictionary, coherence='c_v')\n",
    "    cv.append(cm_c_v.get_coherence())\n",
    "    p.append(nowlda1.log_perplexity(corpus))"
   ]
  },
  {
   "cell_type": "code",
   "execution_count": null,
   "metadata": {
    "ExecuteTime": {
     "end_time": "2021-03-09T13:14:53.328484Z",
     "start_time": "2021-03-09T02:02:30.006Z"
    }
   },
   "outputs": [],
   "source": [
    "access_df = pandas.DataFrame(range(2, 16), columns=['num_topics'])"
   ]
  },
  {
   "cell_type": "code",
   "execution_count": null,
   "metadata": {
    "ExecuteTime": {
     "end_time": "2021-03-09T13:14:53.334485Z",
     "start_time": "2021-03-09T02:02:30.578Z"
    }
   },
   "outputs": [],
   "source": [
    "access_df = pandas.concat([access_df, pandas.DataFrame(um, columns=['u_mass'])],axis=1)"
   ]
  },
  {
   "cell_type": "code",
   "execution_count": null,
   "metadata": {
    "ExecuteTime": {
     "end_time": "2021-03-09T13:14:53.339484Z",
     "start_time": "2021-03-09T02:02:31.152Z"
    }
   },
   "outputs": [],
   "source": [
    "access_df = pandas.concat([access_df, pandas.DataFrame(cv, columns=['c_v'])],axis=1)"
   ]
  },
  {
   "cell_type": "code",
   "execution_count": null,
   "metadata": {
    "ExecuteTime": {
     "end_time": "2021-03-09T13:14:53.345484Z",
     "start_time": "2021-03-09T02:02:31.689Z"
    }
   },
   "outputs": [],
   "source": [
    "access_df = pandas.concat([access_df, pandas.DataFrame(p, columns=['perplexity'])],axis=1)"
   ]
  },
  {
   "cell_type": "code",
   "execution_count": null,
   "metadata": {
    "ExecuteTime": {
     "end_time": "2021-03-09T13:14:53.351486Z",
     "start_time": "2021-03-09T02:02:32.488Z"
    }
   },
   "outputs": [],
   "source": [
    "access_df"
   ]
  },
  {
   "cell_type": "code",
   "execution_count": 28,
   "metadata": {
    "ExecuteTime": {
     "end_time": "2021-03-08T06:51:32.796372Z",
     "start_time": "2021-03-08T06:50:37.563548Z"
    }
   },
   "outputs": [
    {
     "data": {
      "text/plain": [
       "-6.054358504114042"
      ]
     },
     "execution_count": 28,
     "metadata": {},
     "output_type": "execute_result"
    }
   ],
   "source": [
    "nowlda.log_perplexity(nowmm)"
   ]
  },
  {
   "cell_type": "markdown",
   "metadata": {},
   "source": [
    "# Hyperparameter Tuning"
   ]
  },
  {
   "cell_type": "code",
   "execution_count": 29,
   "metadata": {
    "ExecuteTime": {
     "end_time": "2021-03-08T06:51:32.803359Z",
     "start_time": "2021-03-08T06:51:32.797319Z"
    }
   },
   "outputs": [],
   "source": [
    "# supporting function\n",
    "def compute_coherence_values(corpus, dictionary, k, a, b): \n",
    "    #nowlda1 = gensim.models.ldamodel.LdaModel(corpus=nowmm, id2word=dictionary, num_topics=num_topics, alpha = 0.5, eta = 0.01)\n",
    "    lda_model = gensim.models.LdaMulticore(corpus=corpus,\n",
    "                                           id2word=dictionary,\n",
    "                                           num_topics=k, \n",
    "                                           #random_state=100,\n",
    "                                           #chunksize=100,\n",
    "                                           #passes=10,\n",
    "                                           alpha=a,\n",
    "                                           eta=b)\n",
    "    \n",
    "    coherence_model_lda = CoherenceModel(model=lda_model, texts=now_df[\"reduced_tokens\"], dictionary=dictionary, coherence='c_v')\n",
    "    \n",
    "    return coherence_model_lda.get_coherence()"
   ]
  },
  {
   "cell_type": "code",
   "execution_count": 30,
   "metadata": {
    "ExecuteTime": {
     "end_time": "2021-03-09T13:11:37.570627Z",
     "start_time": "2021-03-08T06:51:32.805321Z"
    },
    "code_folding": []
   },
   "outputs": [
    {
     "name": "stderr",
     "output_type": "stream",
     "text": [
      "840it [30:20:04, 130.01s/it]                                                                                           \n"
     ]
    }
   ],
   "source": [
    "import tqdm\n",
    "grid = {}\n",
    "grid['Validation_Set'] = {}\n",
    "# Topics range\n",
    "min_topics = 2\n",
    "max_topics = 16\n",
    "step_size = 1\n",
    "topics_range = range(min_topics, max_topics, step_size)\n",
    "# Alpha parameter\n",
    "alpha = list(np.arange(0.01, 1, 0.3))\n",
    "alpha.append('symmetric')\n",
    "alpha.append('asymmetric')\n",
    "# Beta parameter\n",
    "beta = list(np.arange(0.01, 1, 0.3))\n",
    "beta.append('symmetric')\n",
    "# Validation sets\n",
    "num_of_docs = len(corpus)\n",
    "corpus_sets = [# gensim.utils.ClippedCorpus(corpus, num_of_docs*0.25), \n",
    "               # gensim.utils.ClippedCorpus(corpus, num_of_docs*0.5), \n",
    "               gensim.utils.ClippedCorpus(nowmm, int(num_of_docs*0.75)), \n",
    "               nowmm]\n",
    "corpus_title = ['75% Corpus', '100% Corpus']\n",
    "model_results = {'Validation_Set': [],\n",
    "                 'Topics': [],\n",
    "                 'Alpha': [],\n",
    "                 'Beta': [],\n",
    "                 'Coherence': []\n",
    "                }\n",
    "# Can take a long time to run\n",
    "if 1 == 1:\n",
    "    pbar = tqdm.tqdm(total=840)\n",
    "    \n",
    "    # iterate through validation corpuses\n",
    "    for i in range(len(corpus_sets)):\n",
    "        # iterate through number of topics\n",
    "        for k in topics_range:\n",
    "            # iterate through alpha values\n",
    "            for a in alpha:\n",
    "                # iterare through beta values\n",
    "                for b in beta:\n",
    "                    # get the coherence score for the given parameters\n",
    "                    cv = compute_coherence_values(corpus=corpus_sets[i], dictionary=dictionary, \n",
    "                                                  k=k, a=a, b=b)\n",
    "                    # Save the model results\n",
    "                    model_results['Validation_Set'].append(corpus_title[i])\n",
    "                    model_results['Topics'].append(k)\n",
    "                    model_results['Alpha'].append(a)\n",
    "                    model_results['Beta'].append(b)\n",
    "                    model_results['Coherence'].append(cv)\n",
    "                    \n",
    "                    pbar.update(1)\n",
    "    pd.DataFrame(model_results).to_csv('lda_tuning_results.csv', index=False)\n",
    "    pbar.close()"
   ]
  },
  {
   "cell_type": "code",
   "execution_count": 31,
   "metadata": {
    "ExecuteTime": {
     "end_time": "2021-03-09T13:11:37.580630Z",
     "start_time": "2021-03-09T13:11:37.574630Z"
    }
   },
   "outputs": [
    {
     "data": {
      "text/plain": [
       "[-0.7910421907975892,\n",
       " -0.8724999085011503,\n",
       " -0.8616420912865195,\n",
       " -0.9157395316264848,\n",
       " -0.95696638252219,\n",
       " -0.9073375749098085,\n",
       " -0.9855011218236502,\n",
       " -1.0230714449433984,\n",
       " -1.0368869385938564,\n",
       " -1.0674393652951546,\n",
       " -1.0520664930523667,\n",
       " -1.0377891426365269,\n",
       " -1.1258629424200808,\n",
       " -1.0330468969570403]"
      ]
     },
     "execution_count": 31,
     "metadata": {},
     "output_type": "execute_result"
    }
   ],
   "source": [
    "um"
   ]
  },
  {
   "cell_type": "code",
   "execution_count": 32,
   "metadata": {
    "ExecuteTime": {
     "end_time": "2021-03-09T13:11:37.597633Z",
     "start_time": "2021-03-09T13:11:37.582631Z"
    }
   },
   "outputs": [
    {
     "data": {
      "text/plain": [
       "0.28862364099364846"
      ]
     },
     "execution_count": 32,
     "metadata": {},
     "output_type": "execute_result"
    }
   ],
   "source": [
    "cv"
   ]
  },
  {
   "cell_type": "code",
   "execution_count": 33,
   "metadata": {
    "ExecuteTime": {
     "end_time": "2021-03-09T13:11:37.608630Z",
     "start_time": "2021-03-09T13:11:37.600632Z"
    }
   },
   "outputs": [],
   "source": [
    "#topic11_df = pandas.DataFrame(nowlda1.show_topic(1, topn=50))\n",
    "#topic21_df = pandas.DataFrame(nowlda2.show_topic(1, topn=50))\n",
    "\n",
    "#fig, (ax1, ax2) = plt.subplots(1, 2)\n",
    "#fig.set_size_inches(18, 7)\n",
    "#topic11_df.plot.bar(legend = False, ax = ax1, title = '$\\eta$  = 0.01')\n",
    "#topic21_df.plot.bar(legend = False, ax = ax2, title = '$\\eta$  = 0.9')\n",
    "#plt.show()"
   ]
  },
  {
   "cell_type": "markdown",
   "metadata": {},
   "source": [
    "# evaluate lda model"
   ]
  },
  {
   "cell_type": "code",
   "execution_count": 34,
   "metadata": {
    "ExecuteTime": {
     "end_time": "2021-03-09T13:11:37.618636Z",
     "start_time": "2021-03-09T13:11:37.610632Z"
    }
   },
   "outputs": [],
   "source": [
    "#logger = logging.getLogger()\n",
    "#logger.setLevel(logging.DEBUG)\n",
    "#logging.debug(\"test\")"
   ]
  },
  {
   "cell_type": "code",
   "execution_count": 71,
   "metadata": {
    "ExecuteTime": {
     "end_time": "2021-03-10T03:45:03.926788Z",
     "start_time": "2021-03-10T03:44:03.747972Z"
    }
   },
   "outputs": [],
   "source": [
    "nowlda1 = gensim.models.ldamodel.LdaModel(corpus=nowmm, id2word=dictionary, num_topics=7, alpha = \"asymmetric\", eta = .31)"
   ]
  },
  {
   "cell_type": "code",
   "execution_count": 72,
   "metadata": {
    "ExecuteTime": {
     "end_time": "2021-03-10T03:45:19.424796Z",
     "start_time": "2021-03-10T03:45:19.395792Z"
    }
   },
   "outputs": [],
   "source": [
    "cm = CoherenceModel(model=nowlda1, corpus=corpus, dictionary=dictionary, coherence='u_mass')"
   ]
  },
  {
   "cell_type": "code",
   "execution_count": 73,
   "metadata": {
    "ExecuteTime": {
     "end_time": "2021-03-10T03:45:32.930044Z",
     "start_time": "2021-03-10T03:45:32.927043Z"
    }
   },
   "outputs": [],
   "source": [
    "#print(cm)"
   ]
  },
  {
   "cell_type": "code",
   "execution_count": 74,
   "metadata": {
    "ExecuteTime": {
     "end_time": "2021-03-10T03:45:47.250033Z",
     "start_time": "2021-03-10T03:45:47.247035Z"
    }
   },
   "outputs": [],
   "source": [
    "pyLDAvis.enable_notebook()"
   ]
  },
  {
   "cell_type": "code",
   "execution_count": 75,
   "metadata": {
    "ExecuteTime": {
     "end_time": "2021-03-10T03:46:47.050143Z",
     "start_time": "2021-03-10T03:46:01.403495Z"
    }
   },
   "outputs": [
    {
     "data": {
      "text/html": [
       "\n",
       "<link rel=\"stylesheet\" type=\"text/css\" href=\"https://cdn.jsdelivr.net/gh/bmabey/pyLDAvis@3.2.2/pyLDAvis/js/ldavis.v1.0.0.css\">\n",
       "\n",
       "\n",
       "<div id=\"ldavis_el3321222660500154084019141519\"></div>\n",
       "<script type=\"text/javascript\">\n",
       "\n",
       "var ldavis_el3321222660500154084019141519_data = {\"mdsDat\": {\"x\": [0.1478318164234731, -0.02757807064476799, 0.07432858179581221, -0.0810887169973507, -0.06883464934602551, 0.03356213610380229, -0.07822109733494362], \"y\": [0.06643828997647472, 0.08911251342157073, -0.07846276431726247, 0.055247156229518785, -0.0035212619651698142, -0.0659360684881875, -0.0628778648569445], \"topics\": [1, 2, 3, 4, 5, 6, 7], \"cluster\": [1, 1, 1, 1, 1, 1, 1], \"Freq\": [17.570420487691234, 17.31669585076787, 14.610292296523408, 14.380229165512812, 14.303541479195268, 12.425372278481278, 9.393448441828129]}, \"tinfo\": {\"Term\": [\"woman\", \"party\", \"tax\", \"south\", \"income\", \"say\", \"city\", \"black\", \"trump\", \"gender\", \"election\", \"africa\", \"man\", \"white\", \"india\", \"president\", \"child\", \"vote\", \"development\", \"rate\", \"growth\", \"police\", \"land\", \"school\", \"education\", \"political\", \"think\", \"cent\", \"african\", \"state\", \"inflation\", \"tax\", \"income\", \"gdp\", \"fiscal\", \"household\", \"debt\", \"rate\", \"productivity\", \"wage\", \"cent\", \"revenue\", \"average\", \"bank\", \"minimum\", \"wealth\", \"net\", \"price\", \"growth\", \"budget\", \"percent\", \"low\", \"increase\", \"wealthy\", \"financial\", \"rich\", \"credit\", \"investment\", \"lower\", \"capital\", \"total\", \"economy\", \"cost\", \"market\", \"high\", \"pay\", \"poor\", \"economic\", \"rise\", \"report\", \"policy\", \"say\", \"poverty\", \"house\", \"job\", \"making\", \"bit\", \"maybe\", \"yes\", \"internet\", \"gt\", \"game\", \"thing\", \"lot\", \"think\", \"actually\", \"probably\", \"digital\", \"following\", \"sure\", \"wo\", \"company\", \"book\", \"buy\", \"kind\", \"online\", \"facebook\", \"simple\", \"second\", \"bad\", \"technology\", \"idea\", \"easy\", \"know\", \"let\", \"happen\", \"want\", \"look\", \"money\", \"big\", \"good\", \"way\", \"try\", \"team\", \"work\", \"start\", \"job\", \"come\", \"business\", \"mean\", \"need\", \"make\", \"talk\", \"use\", \"change\", \"long\", \"live\", \"day\", \"pay\", \"help\", \"problem\", \"say\", \"programme\", \"youth\", \"sustainable\", \"education\", \"africa\", \"transformation\", \"nigeria\", \"development\", \"inclusive\", \"educational\", \"anc\", \"ensure\", \"training\", \"governance\", \"infrastructure\", \"quality\", \"department\", \"zuma\", \"access\", \"service\", \"develop\", \"school\", \"sector\", \"capacity\", \"management\", \"goal\", \"organisation\", \"south\", \"student\", \"commitment\", \"health\", \"improve\", \"african\", \"fund\", \"community\", \"provide\", \"challenge\", \"public\", \"opportunity\", \"university\", \"address\", \"plan\", \"need\", \"national\", \"support\", \"business\", \"state\", \"social\", \"say\", \"work\", \"include\", \"economic\", \"policy\", \"female\", \"woman\", \"male\", \"sexual\", \"sex\", \"film\", \"gender\", \"marriage\", \"given\", \"mother\", \"man\", \"toronto\", \"church\", \"equality\", \"star\", \"child\", \"father\", \"abuse\", \"career\", \"diversity\", \"love\", \"violence\", \"equal\", \"discrimination\", \"young\", \"canadian\", \"god\", \"ms\", \"age\", \"family\", \"life\", \"canada\", \"story\", \"experience\", \"feel\", \"say\", \"work\", \"school\", \"day\", \"study\", \"old\", \"live\", \"know\", \"come\", \"right\", \"help\", \"student\", \"need\", \"way\", \"social\", \"think\", \"change\", \"issue\", \"clinton\", \"republican\", \"trump\", \"candidate\", \"election\", \"presidential\", \"brexit\", \"donald\", \"obama\", \"vote\", \"party\", \"left\", \"conservative\", \"opposition\", \"liberal\", \"democratic\", \"coalition\", \"eu\", \"campaign\", \"best\", \"congress\", \"mr\", \"parliament\", \"britain\", \"prime\", \"union\", \"immigration\", \"progressive\", \"president\", \"win\", \"leader\", \"political\", \"minister\", \"leave\", \"say\", \"labour\", \"state\", \"right\", \"support\", \"policy\", \"national\", \"issue\", \"run\", \"come\", \"want\", \"member\", \"change\", \"power\", \"work\", \"pakistan\", \"india\", \"asia\", \"china\", \"indian\", \"peace\", \"chinese\", \"conflict\", \"climate\", \"religious\", \"constitution\", \"religion\", \"human\", \"environmental\", \"writing\", \"understanding\", \"global\", \"capitalism\", \"military\", \"court\", \"section\", \"singapore\", \"international\", \"europe\", \"region\", \"protection\", \"western\", \"democracy\", \"natural\", \"law\", \"foreign\", \"war\", \"nation\", \"right\", \"power\", \"state\", \"society\", \"political\", \"trade\", \"economic\", \"social\", \"security\", \"change\", \"justice\", \"development\", \"policy\", \"rule\", \"include\", \"need\", \"lead\", \"group\", \"black\", \"racial\", \"police\", \"racism\", \"apartheid\", \"white\", \"protest\", \"cape\", \"city\", \"crime\", \"land\", \"town\", \"africans\", \"race\", \"african\", \"zuma\", \"building\", \"south\", \"street\", \"anc\", \"com\", \"march\", \"york\", \"living\", \"photo\", \"water\", \"calling\", \"urban\", \"north\", \"tuesday\", \"official\", \"americans\", \"africa\", \"say\", \"american\", \"president\", \"house\", \"state\", \"community\", \"day\", \"group\", \"live\", \"national\", \"report\", \"right\", \"come\", \"tell\"], \"Freq\": [101438.0, 52354.0, 48532.0, 50247.0, 49108.0, 199179.0, 42759.0, 27294.0, 31333.0, 30385.0, 31010.0, 34345.0, 40068.0, 24808.0, 24309.0, 49104.0, 46029.0, 26774.0, 39497.0, 36013.0, 40016.0, 18474.0, 26644.0, 47399.0, 38803.0, 50335.0, 58175.0, 29972.0, 20149.0, 84875.0, 5859.963300315509, 44905.34923062986, 44624.889903219955, 8705.132923462044, 5364.584779434565, 11310.83848614024, 10181.349960841188, 30310.810903790618, 4904.393453144075, 19547.999088988134, 24724.835651389563, 7563.992946030069, 11286.78267477096, 22146.347346511142, 7288.515306241782, 18677.424724329358, 4387.441614974427, 14873.170256146392, 29272.230424265126, 12208.562356502032, 19774.37124957624, 26365.930756125865, 28949.583488436176, 5977.8314321976195, 15989.192336523261, 12268.739577993141, 5825.950793487186, 14066.012808309706, 808.105917550393, 11786.423852218471, 5764.754904907469, 26395.190119377276, 14557.53709371441, 20267.081673801684, 29913.13854047643, 24023.752222196916, 15622.013188025421, 24696.63360254956, 14208.922019728765, 19434.053421806464, 19981.961765538614, 33772.84380571035, 14491.919665129952, 15812.617012798752, 12390.68667237666, 29.35658614521587, 429.9270761957572, 3735.6493128490665, 6578.656633845635, 4630.037061460583, 272.59686137687873, 8696.17376418904, 23312.340599830746, 12545.622670731798, 35162.69830127531, 7679.140784067295, 3967.608777555776, 6136.887301905626, 19.043270930176835, 5587.689859425143, 3423.797905762041, 21388.294229050007, 10732.377424156837, 6090.60793680063, 7821.223518207125, 4470.412116978617, 3941.66812526992, 2886.763626737117, 406.27019116101656, 4319.070876487726, 10204.552746781845, 10451.739677683547, 4575.276492609956, 24939.55800616472, 7491.518368427029, 9842.589303757668, 20978.053381737245, 17774.45312494186, 12629.843149399458, 14908.271794054503, 16984.08544051096, 23765.781226789968, 9828.386249980054, 7924.525294589921, 35066.574230258084, 12159.59341237751, 15364.183048895715, 20001.309881307334, 15620.076897548253, 13060.527102258766, 19721.578752754955, 11487.608021302254, 9121.179128867365, 11078.923660150396, 15818.15786566726, 12276.45025524797, 13119.130922285543, 12339.974640588247, 11845.75407621338, 11467.768700719635, 10660.37089459591, 14493.479047636745, 11588.616228880715, 8255.974943427263, 7436.759008404109, 25872.73189073783, 22840.361285006034, 3412.298101450305, 8682.386636407677, 24982.047950542692, 3579.261368207309, 2635.952416121038, 7811.566116888811, 11428.194885655268, 69.38171071350372, 3642.9202472423694, 5978.511129103044, 6568.0626600652995, 6605.208280331275, 2292.434777602866, 12057.92475345062, 21772.768878395604, 3143.516057539852, 24379.964047664926, 14202.557645207507, 3183.989175692854, 4791.989734581463, 6289.130101108868, 6037.832398218126, 24396.298820885942, 14101.225872186205, 3750.814177775464, 17086.99801817947, 8618.822579358428, 8960.860955223472, 13112.816568388283, 17947.0294620408, 14126.530249822375, 11378.020169096228, 19374.796238722993, 10079.52313445985, 12176.18165582217, 10874.915343106451, 11547.215124849836, 21333.118607914977, 15506.338525898422, 14860.720619426089, 14343.859067344176, 17521.861960472535, 14147.711656426949, 21054.18009778789, 16590.07209431114, 12960.920475502224, 13336.352853650684, 11957.5324719038, 12416.439944894366, 98502.64059451509, 7563.304997822793, 8877.554938373998, 5855.1557335195785, 9149.340285958591, 28197.05171332076, 4241.560316652838, 31.303503072610006, 7121.3331120810235, 30568.39505710989, 4425.042116763658, 3628.8056033597263, 10471.783641092914, 5994.0224348338, 29900.910193168762, 3865.5348358280244, 4553.047916362112, 5616.973460556391, 4051.7618320364186, 6505.527052798375, 10369.414770967855, 5460.163407793585, 4282.658206167665, 13862.145338290964, 3309.9504908804747, 2171.789455344886, 2516.4648357851297, 9492.385925870638, 16182.360088133062, 13656.76249648278, 6709.50371378901, 8567.922591390126, 9550.946464643992, 9174.7226111851, 41943.03191148278, 26698.822869581607, 14112.485354540337, 12033.651050639966, 8240.459356183288, 8438.648456524968, 11695.130493569839, 10633.79238455942, 11301.168690248041, 11769.214862451723, 9530.842101075354, 8429.388203287717, 9997.961232662301, 9269.895396859789, 9160.479612257228, 9127.855904892254, 8641.639892799505, 8593.485326374397, 3958.881023769545, 4096.581466340872, 29846.430612472057, 14068.157311944362, 28190.176887328063, 7951.214664512788, 7078.489232563902, 6793.952053428085, 6539.430796713991, 23759.179172651468, 45461.679987753814, 12.221746972874906, 6823.848344077429, 5670.30441672245, 7370.4482425653505, 15275.339775787737, 4650.356163852759, 7575.092372153764, 16278.564050659652, 41.064422147105006, 6402.659830867673, 14071.764909028305, 7298.598487636195, 4570.660817461657, 7900.962328646465, 11366.13234976489, 3272.4016754276836, 4891.422730322689, 26858.67836807051, 11217.860420346698, 15362.211086447343, 23207.5493019158, 13884.514773045958, 14706.863576377998, 41287.76162996302, 8659.736943745138, 15361.56321048524, 13418.772746581379, 11410.87540946426, 11620.279174568032, 10885.906333715875, 10364.46251110421, 8696.32562218048, 10299.35253057219, 9477.622860503696, 8551.433678746836, 9244.265551884982, 8392.923134004275, 8608.146907151307, 8028.467404567183, 21390.625270436623, 6325.26119789885, 15212.851963956999, 6632.057228572415, 5442.145419109084, 5586.004097645388, 5217.122410917352, 15567.104440665995, 3878.8076463179423, 5600.955536960004, 3129.2091788602556, 16608.4388525369, 4057.28319875935, 168.7039701414427, 60.86463794118446, 18782.92851676356, 4139.104808695174, 4143.41998195286, 7968.778392163454, 4216.823815484528, 5058.187450302702, 12818.809091654357, 4833.117204308477, 5912.624821786417, 3319.1483337279597, 3347.0820708190045, 7114.034649789288, 2846.536144268093, 13576.797667660456, 5782.785648204126, 7774.936045158372, 11055.581183487599, 22212.45776098854, 12994.263786626372, 24773.64417432752, 12119.968992626324, 15565.742642302712, 8904.863605952394, 18405.858831799203, 15596.233968985849, 6819.618972323248, 13841.84222918818, 6247.64139049473, 9008.509418052612, 9546.477806563806, 6743.153791777195, 7683.297407625989, 8136.305234225732, 6761.1230518453285, 6663.772014340106, 24863.516758643942, 8519.220590286772, 15208.34659076416, 5506.048765997782, 4443.271586889744, 19246.711009756356, 10639.09736624851, 4517.0117946162545, 27553.497990678734, 7084.543662802748, 16030.062983706675, 5789.157025377633, 4472.749712311614, 7474.3153728584775, 10672.262935693592, 2024.3632775147396, 1118.826022164242, 22040.442672908015, 4438.882671431568, 5207.545886965956, 100.97737105165962, 5290.056783354209, 5084.37617572408, 2.111397881481593, 3938.4552454531927, 5578.476329359083, 1.7373672591786204, 2858.6121591143165, 3534.478356218667, 1833.3406169896116, 4378.779068400751, 2975.398990459067, 10332.253864314707, 42225.90714094353, 5304.970321142057, 10424.661374787947, 8709.930522092167, 12394.644163399347, 8261.983617750466, 7279.178773677679, 6595.799689964606, 7377.490888069661, 7117.738311427316, 6228.520470160595, 6524.694974189385, 6054.842264796118, 5511.430965007866], \"Total\": [101438.0, 52354.0, 48532.0, 50247.0, 49108.0, 199179.0, 42759.0, 27294.0, 31333.0, 30385.0, 31010.0, 34345.0, 40068.0, 24808.0, 24309.0, 49104.0, 46029.0, 26774.0, 39497.0, 36013.0, 40016.0, 18474.0, 26644.0, 47399.0, 38803.0, 50335.0, 58175.0, 29972.0, 20149.0, 84875.0, 5986.724907356733, 48532.25107912314, 49108.15524960063, 9610.788993969742, 5964.720059787247, 12831.016006428346, 11748.44312406492, 36013.22143822306, 5836.4608901391175, 23677.110797379184, 29972.456722114068, 9225.736464291245, 14129.326773195577, 28384.172401483804, 9377.730878653001, 24310.985675202817, 5801.084858952498, 20008.018644444943, 40016.0006141374, 16762.940687785056, 27236.122256602244, 36646.44234019651, 43731.75910417402, 9076.896359294746, 25184.94401299208, 19565.41539887568, 9557.586664025272, 23481.919844135904, 1353.482489373243, 19804.612641668275, 9817.884303181878, 46256.33340260107, 25441.689144826403, 36828.3846538045, 62637.87655397958, 47875.60705312891, 29981.815453706626, 66416.38849723828, 28077.45474516291, 49659.71736884427, 58440.43154278801, 199179.1807396583, 32215.30584105392, 43668.853024734985, 40096.35906188248, 36.376201245896034, 554.4559708986749, 5005.353423419063, 9334.548522944293, 6661.109139551959, 411.6866326274397, 13197.026645377367, 37304.073621637945, 20623.413620840554, 58175.55777888488, 12775.20467745938, 6691.6743801984285, 10823.47320573659, 33.73320467967151, 9932.609440588754, 6252.35873358173, 39213.51623188388, 19760.136018005476, 11214.040003034941, 14484.809363028708, 8356.025031803909, 7406.937075607714, 5506.559956168557, 779.7846029091706, 8508.634264791815, 20229.407521882342, 21325.879884398186, 9362.428500602433, 51038.13106550151, 15487.478574288925, 20559.917239461207, 45472.719199459614, 38615.07687431778, 27014.847897579093, 32645.894414193368, 38794.42497693714, 56494.33390703586, 21702.609383405765, 17051.91161442293, 107039.54447153329, 29429.136078254305, 40096.35906188248, 60227.03146845104, 47427.465042048054, 38250.9935247265, 80304.23815882052, 32373.04515297969, 21982.662106155658, 31342.397743182428, 64670.871825737115, 42999.13069122927, 52969.97612366662, 47262.31463746638, 47875.60705312891, 42759.540901117085, 31909.959980595973, 199179.1807396583, 14910.81334821326, 11710.429780210736, 10586.418556505389, 38803.89690107104, 34345.853851945765, 5139.888812411132, 13123.805872726258, 39497.37628557959, 5722.944562943836, 4359.8831039068455, 13083.008614857314, 19810.679658587294, 122.45602977932356, 6441.717874930384, 11026.106982211988, 12325.261963724588, 12402.55093746501, 4329.927662498099, 23089.897099258425, 42226.2372721506, 6107.535914519675, 47399.42051167671, 27669.285673284063, 6233.8353387495445, 9774.31818032151, 12853.156057151804, 12376.896365557173, 50247.54470245384, 29049.962277169485, 7784.0820771697045, 37148.85996412374, 18431.30897107268, 20149.375506092794, 31398.28348725794, 45513.51470616975, 34897.182141454396, 27568.852030204238, 55170.38394791727, 24377.821017253005, 31484.482880299052, 27674.950116147946, 30447.521790513445, 80304.23815882052, 48812.51652241278, 48476.033235140436, 47427.465042048054, 84875.13386631748, 59916.44503861174, 199179.1807396583, 107039.54447153329, 52642.432366565365, 66416.38849723828, 58440.43154278801, 12734.91448413784, 101438.43456145958, 7819.112227333675, 9247.266698379415, 6153.972909957626, 9694.244794562408, 30385.414724003174, 4889.344358133143, 36.13214027113065, 8422.463384988232, 40068.47859544973, 6144.164017008744, 5508.045949512115, 15901.458714356648, 9129.49860277622, 46029.896317379884, 6180.75120618408, 7494.905752826158, 9255.070041398309, 6724.278801342171, 11298.615020260117, 18384.643007218117, 10175.677210823615, 8300.5871889771, 27580.12030453748, 6672.470999204238, 4505.053916579572, 5439.698106331247, 20781.28443442529, 36129.201190492175, 33326.356342180756, 15988.479785970138, 21640.355555151455, 24929.16817944244, 24481.86821268684, 199179.1807396583, 107039.54447153329, 47399.42051167671, 47262.31463746638, 23654.927969453514, 25973.85444892678, 52969.97612366662, 51038.13106550151, 60227.03146845104, 68977.98034278955, 42759.540901117085, 29049.962277169485, 80304.23815882052, 56494.33390703586, 59916.44503861174, 58175.55777888488, 64670.871825737115, 49450.01441048122, 4085.96056864565, 4282.158369244312, 31333.368848061156, 15444.498845055552, 31010.96877070795, 8837.899131110074, 7889.617055815454, 7593.874659998004, 7340.60503019657, 26774.482390761706, 52354.74446980566, 14.292384459274807, 8226.361789904018, 7210.881777558076, 9387.932513582977, 19736.55504472269, 6303.024620169593, 10339.89895658145, 22277.488178561623, 58.50965954543975, 9483.124682136047, 21026.044041500092, 11363.42298451787, 7204.1138104952015, 12556.783043784048, 18645.740348209627, 5624.751942595362, 8522.226713920454, 49104.27653220045, 20754.79707999854, 31413.73024600502, 50335.57825233828, 29257.558729004697, 38131.17595809199, 199179.1807396583, 23389.075487223072, 84875.13386631748, 68977.98034278955, 48476.033235140436, 58440.43154278801, 48812.51652241278, 49450.01441048122, 24769.470650890456, 60227.03146845104, 45472.719199459614, 28409.967521118226, 64670.871825737115, 36864.604927964996, 107039.54447153329, 8265.915922667904, 24309.795811736625, 7650.501988737544, 19027.63527942339, 8320.826286583564, 7534.174359788413, 7788.405231504303, 7484.9905732384605, 23003.524781889857, 5965.9533273865945, 8993.391547075575, 5123.446753188341, 28757.953205867445, 7391.753413417963, 325.3623096256866, 117.50016754346092, 36432.474233044486, 8075.229256413133, 8331.954929946394, 16356.470930937397, 8727.577562598637, 10687.49727458661, 27358.762813988873, 10408.787570545757, 12899.82547173009, 7283.941028285429, 7346.754554781401, 15621.45089121992, 6253.93385718554, 31127.56559683849, 13340.011455085685, 18865.17112376529, 28254.510268450184, 68977.98034278955, 36864.604927964996, 84875.13386631748, 35340.69016111955, 50335.57825233828, 23737.991388555907, 66416.38849723828, 59916.44503861174, 17284.219835627988, 64670.871825737115, 15859.363752492874, 39497.37628557959, 58440.43154278801, 19506.051225002804, 52642.432366565365, 80304.23815882052, 39213.83915243796, 38286.16475905973, 27294.91158046254, 9547.182807412722, 18474.444370225374, 6920.727736635099, 5585.831707029506, 24808.53475401288, 14269.227838217234, 6797.957360007442, 42759.95615517875, 11139.559868123833, 26644.945294534307, 10275.910451868269, 8096.3768778839, 13860.69120009665, 20149.375506092794, 4329.927662498099, 2431.86835393621, 50247.54470245384, 11149.643873772126, 13083.008614857314, 254.1499973532406, 13360.523778894698, 13377.961495635802, 5.64089506269657, 10591.195691653706, 15493.570199577174, 4.907512744992929, 8119.965017533947, 10655.362865589525, 5538.285258821674, 13559.109309268693, 9165.027451098647, 34345.853851945765, 199179.1807396583, 18860.710610298604, 49104.27653220045, 43668.853024734985, 84875.13386631748, 45513.51470616975, 47262.31463746638, 38286.16475905973, 52969.97612366662, 48812.51652241278, 49659.71736884427, 68977.98034278955, 60227.03146845104, 33889.97188294443], \"Category\": [\"Default\", \"Default\", \"Default\", \"Default\", \"Default\", \"Default\", \"Default\", \"Default\", \"Default\", \"Default\", \"Default\", \"Default\", \"Default\", \"Default\", \"Default\", \"Default\", \"Default\", \"Default\", \"Default\", \"Default\", \"Default\", \"Default\", \"Default\", \"Default\", \"Default\", \"Default\", \"Default\", \"Default\", \"Default\", \"Default\", \"Topic1\", \"Topic1\", \"Topic1\", \"Topic1\", \"Topic1\", \"Topic1\", \"Topic1\", \"Topic1\", \"Topic1\", \"Topic1\", \"Topic1\", \"Topic1\", \"Topic1\", \"Topic1\", \"Topic1\", \"Topic1\", \"Topic1\", \"Topic1\", \"Topic1\", \"Topic1\", \"Topic1\", \"Topic1\", \"Topic1\", \"Topic1\", \"Topic1\", \"Topic1\", \"Topic1\", \"Topic1\", \"Topic1\", \"Topic1\", \"Topic1\", \"Topic1\", \"Topic1\", \"Topic1\", \"Topic1\", \"Topic1\", \"Topic1\", \"Topic1\", \"Topic1\", \"Topic1\", \"Topic1\", \"Topic1\", \"Topic1\", \"Topic1\", \"Topic1\", \"Topic2\", \"Topic2\", \"Topic2\", \"Topic2\", \"Topic2\", \"Topic2\", \"Topic2\", \"Topic2\", \"Topic2\", \"Topic2\", \"Topic2\", \"Topic2\", \"Topic2\", \"Topic2\", \"Topic2\", \"Topic2\", \"Topic2\", \"Topic2\", \"Topic2\", \"Topic2\", \"Topic2\", \"Topic2\", \"Topic2\", \"Topic2\", \"Topic2\", \"Topic2\", \"Topic2\", \"Topic2\", \"Topic2\", \"Topic2\", \"Topic2\", \"Topic2\", \"Topic2\", \"Topic2\", \"Topic2\", \"Topic2\", \"Topic2\", \"Topic2\", \"Topic2\", \"Topic2\", \"Topic2\", \"Topic2\", \"Topic2\", \"Topic2\", \"Topic2\", \"Topic2\", \"Topic2\", \"Topic2\", \"Topic2\", \"Topic2\", \"Topic2\", \"Topic2\", \"Topic2\", \"Topic2\", \"Topic2\", \"Topic2\", \"Topic2\", \"Topic3\", \"Topic3\", \"Topic3\", \"Topic3\", \"Topic3\", \"Topic3\", \"Topic3\", \"Topic3\", \"Topic3\", \"Topic3\", \"Topic3\", \"Topic3\", \"Topic3\", \"Topic3\", \"Topic3\", \"Topic3\", \"Topic3\", \"Topic3\", \"Topic3\", \"Topic3\", \"Topic3\", \"Topic3\", \"Topic3\", \"Topic3\", \"Topic3\", \"Topic3\", \"Topic3\", \"Topic3\", \"Topic3\", \"Topic3\", \"Topic3\", \"Topic3\", \"Topic3\", \"Topic3\", \"Topic3\", \"Topic3\", \"Topic3\", \"Topic3\", \"Topic3\", \"Topic3\", \"Topic3\", \"Topic3\", \"Topic3\", \"Topic3\", \"Topic3\", \"Topic3\", \"Topic3\", \"Topic3\", \"Topic3\", \"Topic3\", \"Topic3\", \"Topic3\", \"Topic3\", \"Topic4\", \"Topic4\", \"Topic4\", \"Topic4\", \"Topic4\", \"Topic4\", \"Topic4\", \"Topic4\", \"Topic4\", \"Topic4\", \"Topic4\", \"Topic4\", \"Topic4\", \"Topic4\", \"Topic4\", \"Topic4\", \"Topic4\", \"Topic4\", \"Topic4\", \"Topic4\", \"Topic4\", \"Topic4\", \"Topic4\", \"Topic4\", \"Topic4\", \"Topic4\", \"Topic4\", \"Topic4\", \"Topic4\", \"Topic4\", \"Topic4\", \"Topic4\", \"Topic4\", \"Topic4\", \"Topic4\", \"Topic4\", \"Topic4\", \"Topic4\", \"Topic4\", \"Topic4\", \"Topic4\", \"Topic4\", \"Topic4\", \"Topic4\", \"Topic4\", \"Topic4\", \"Topic4\", \"Topic4\", \"Topic4\", \"Topic4\", \"Topic4\", \"Topic4\", \"Topic4\", \"Topic5\", \"Topic5\", \"Topic5\", \"Topic5\", \"Topic5\", \"Topic5\", \"Topic5\", \"Topic5\", \"Topic5\", \"Topic5\", \"Topic5\", \"Topic5\", \"Topic5\", \"Topic5\", \"Topic5\", \"Topic5\", \"Topic5\", \"Topic5\", \"Topic5\", \"Topic5\", \"Topic5\", \"Topic5\", \"Topic5\", \"Topic5\", \"Topic5\", \"Topic5\", \"Topic5\", \"Topic5\", \"Topic5\", \"Topic5\", \"Topic5\", \"Topic5\", \"Topic5\", \"Topic5\", \"Topic5\", \"Topic5\", \"Topic5\", \"Topic5\", \"Topic5\", \"Topic5\", \"Topic5\", \"Topic5\", \"Topic5\", \"Topic5\", \"Topic5\", \"Topic5\", \"Topic5\", \"Topic5\", \"Topic5\", \"Topic6\", \"Topic6\", \"Topic6\", \"Topic6\", \"Topic6\", \"Topic6\", \"Topic6\", \"Topic6\", \"Topic6\", \"Topic6\", \"Topic6\", \"Topic6\", \"Topic6\", \"Topic6\", \"Topic6\", \"Topic6\", \"Topic6\", \"Topic6\", \"Topic6\", \"Topic6\", \"Topic6\", \"Topic6\", \"Topic6\", \"Topic6\", \"Topic6\", \"Topic6\", \"Topic6\", \"Topic6\", \"Topic6\", \"Topic6\", \"Topic6\", \"Topic6\", \"Topic6\", \"Topic6\", \"Topic6\", \"Topic6\", \"Topic6\", \"Topic6\", \"Topic6\", \"Topic6\", \"Topic6\", \"Topic6\", \"Topic6\", \"Topic6\", \"Topic6\", \"Topic6\", \"Topic6\", \"Topic6\", \"Topic6\", \"Topic6\", \"Topic6\", \"Topic7\", \"Topic7\", \"Topic7\", \"Topic7\", \"Topic7\", \"Topic7\", \"Topic7\", \"Topic7\", \"Topic7\", \"Topic7\", \"Topic7\", \"Topic7\", \"Topic7\", \"Topic7\", \"Topic7\", \"Topic7\", \"Topic7\", \"Topic7\", \"Topic7\", \"Topic7\", \"Topic7\", \"Topic7\", \"Topic7\", \"Topic7\", \"Topic7\", \"Topic7\", \"Topic7\", \"Topic7\", \"Topic7\", \"Topic7\", \"Topic7\", \"Topic7\", \"Topic7\", \"Topic7\", \"Topic7\", \"Topic7\", \"Topic7\", \"Topic7\", \"Topic7\", \"Topic7\", \"Topic7\", \"Topic7\", \"Topic7\", \"Topic7\", \"Topic7\", \"Topic7\", \"Topic7\"], \"logprob\": [30.0, 29.0, 28.0, 27.0, 26.0, 25.0, 24.0, 23.0, 22.0, 21.0, 20.0, 19.0, 18.0, 17.0, 16.0, 15.0, 14.0, 13.0, 12.0, 11.0, 10.0, 9.0, 8.0, 7.0, 6.0, 5.0, 4.0, 3.0, 2.0, 1.0, -5.8571, -3.8207, -3.8269, -5.4613, -5.9454, -5.1995, -5.3047, -4.2137, -6.0351, -4.6524, -4.4174, -5.6018, -5.2016, -4.5276, -5.6389, -4.6979, -6.1465, -4.9257, -4.2486, -5.1231, -4.6408, -4.3532, -4.2597, -5.8372, -4.8533, -5.1182, -5.8629, -4.9815, -7.8383, -5.1583, -5.8735, -4.352, -4.9471, -4.6162, -4.2269, -4.4462, -4.8765, -4.4186, -4.9714, -4.6582, -4.6304, -4.1056, -4.9516, -4.8644, -5.1083, -11.1389, -8.4548, -6.2928, -5.7269, -6.0781, -8.9104, -5.4478, -4.4617, -5.0813, -4.0507, -5.5722, -6.2325, -5.7964, -11.5717, -5.8901, -6.3799, -4.5478, -5.2374, -5.8039, -5.5538, -6.1132, -6.2391, -6.5505, -8.5114, -6.1476, -5.2878, -5.2639, -6.09, -4.3942, -5.5969, -5.324, -4.5672, -4.7329, -5.0746, -4.9088, -4.7784, -4.4424, -5.3254, -5.5407, -4.0534, -5.1126, -4.8786, -4.6149, -4.8621, -5.0411, -4.629, -5.1694, -5.4001, -5.2056, -4.8495, -5.103, -5.0366, -5.0978, -5.1387, -5.1711, -5.2441, -4.937, -4.9907, -5.3298, -5.4343, -4.1875, -4.3122, -6.2134, -5.2794, -4.2226, -6.1656, -6.4715, -5.3851, -5.0047, -10.1089, -6.148, -5.6526, -5.5585, -5.5529, -6.6111, -4.951, -4.3601, -6.2954, -4.247, -4.7873, -6.2826, -5.8738, -5.6019, -5.6427, -4.2463, -4.7945, -6.1188, -4.6024, -5.2868, -5.2479, -4.8671, -4.5533, -4.7927, -5.0091, -4.4768, -5.1302, -4.9413, -5.0543, -4.9943, -4.3805, -4.6995, -4.742, -4.7774, -4.5773, -4.7912, -4.3936, -4.6319, -4.8788, -4.8502, -4.9594, -4.9058, -2.8348, -5.4016, -5.2413, -5.6575, -5.2112, -4.0856, -5.9799, -10.8889, -5.4618, -4.0049, -5.9376, -6.136, -5.0762, -5.6341, -4.027, -6.0728, -5.9091, -5.6991, -6.0257, -5.5522, -5.086, -5.7274, -5.9703, -4.7957, -6.2279, -6.6493, -6.502, -5.1744, -4.6409, -4.8106, -5.5213, -5.2768, -5.1682, -5.2084, -3.6886, -4.1402, -4.7778, -4.9372, -5.3158, -5.292, -4.9657, -5.0608, -5.0, -4.9594, -5.1703, -5.2931, -5.1225, -5.1981, -5.21, -5.2135, -5.2683, -5.2739, -6.0436, -6.0094, -4.0235, -4.7756, -4.0805, -5.3462, -5.4625, -5.5035, -5.5417, -4.2515, -3.6026, -11.8241, -5.4991, -5.6843, -5.422, -4.6933, -5.8826, -5.3947, -4.6297, -10.6121, -5.5628, -4.7753, -5.4318, -5.8999, -5.3525, -4.9889, -6.234, -5.832, -4.1289, -5.002, -4.6876, -4.275, -4.7887, -4.7312, -3.699, -5.2608, -4.6876, -4.8229, -4.985, -4.9668, -5.032, -5.0811, -5.2566, -5.0874, -5.1706, -5.2734, -5.1955, -5.2921, -5.2668, -5.1958, -4.2158, -5.4342, -4.5566, -5.3868, -5.5846, -5.5585, -5.6268, -4.5336, -5.9232, -5.5558, -6.138, -4.4688, -5.8782, -9.0584, -10.0779, -4.3458, -5.8583, -5.8572, -5.2032, -5.8397, -5.6577, -4.7278, -5.7033, -5.5017, -6.079, -6.0707, -5.3167, -6.2326, -4.6704, -5.5239, -5.2278, -4.8758, -4.1781, -4.7142, -4.069, -4.7839, -4.5337, -5.0922, -4.3661, -4.5317, -5.3589, -4.6511, -5.4465, -5.0806, -5.0226, -5.3702, -5.2397, -5.1824, -5.3676, -5.3821, -3.7856, -4.8567, -4.2772, -5.2932, -5.5076, -4.0417, -4.6345, -5.4912, -3.6829, -5.0411, -4.2246, -5.243, -5.501, -4.9876, -4.6314, -6.2938, -6.8867, -3.9061, -5.5086, -5.3489, -9.2919, -5.3332, -5.3729, -13.1594, -5.6282, -5.2801, -13.3544, -5.9487, -5.7365, -6.3929, -5.5223, -5.9086, -4.6638, -3.256, -5.3304, -4.6548, -4.8346, -4.4818, -4.8874, -5.014, -5.1126, -5.0006, -5.0364, -5.1699, -5.1234, -5.1982, -5.2922], \"loglift\": [30.0, 29.0, 28.0, 27.0, 26.0, 25.0, 24.0, 23.0, 22.0, 21.0, 20.0, 19.0, 18.0, 17.0, 16.0, 15.0, 14.0, 13.0, 12.0, 11.0, 10.0, 9.0, 8.0, 7.0, 6.0, 5.0, 4.0, 3.0, 2.0, 1.0, 1.7176, 1.6613, 1.6432, 1.64, 1.6329, 1.6128, 1.5958, 1.5666, 1.565, 1.5473, 1.5465, 1.5404, 1.5143, 1.4908, 1.4869, 1.4753, 1.4597, 1.4424, 1.4263, 1.4219, 1.4188, 1.4097, 1.3264, 1.3213, 1.2846, 1.2722, 1.2439, 1.2265, 1.2232, 1.22, 1.2065, 1.1779, 1.1807, 1.1417, 0.9999, 1.0494, 1.087, 0.7497, 1.0579, 0.8008, 0.6658, -0.0356, 0.9401, 0.7231, 0.5646, 1.5391, 1.4991, 1.4609, 1.4036, 1.3898, 1.3412, 1.3364, 1.2834, 1.2564, 1.25, 1.2445, 1.2308, 1.1861, 1.1817, 1.1782, 1.1513, 1.1473, 1.1431, 1.1431, 1.1372, 1.128, 1.1227, 1.1077, 1.1015, 1.0755, 1.0692, 1.0403, 1.0375, 1.0374, 1.0272, 1.0169, 0.9799, 0.9776, 0.9932, 0.9697, 0.9275, 0.8876, 0.9613, 0.9872, 0.6375, 0.8696, 0.7943, 0.6512, 0.6429, 0.6789, 0.3494, 0.7174, 0.8738, 0.7136, 0.3453, 0.5, 0.3578, 0.4106, 0.3569, 0.4374, 0.6571, -0.867, 1.6714, 1.5739, 1.5703, 1.5181, 1.5155, 1.5138, 1.5103, 1.4654, 1.4541, 1.4202, 1.4077, 1.3733, 1.3553, 1.3534, 1.3113, 1.294, 1.2934, 1.2875, 1.2738, 1.2611, 1.2593, 1.2586, 1.2565, 1.2516, 1.2106, 1.2087, 1.2057, 1.2009, 1.2007, 1.1933, 1.1468, 1.1633, 1.1131, 1.0503, 0.9929, 1.0191, 1.0384, 0.877, 1.0403, 0.9734, 0.9894, 0.9539, 0.5979, 0.7767, 0.7411, 0.7276, 0.3457, 0.48, -0.3237, 0.0591, 0.5219, 0.318, 0.3368, 1.914, 1.9099, 1.9061, 1.8985, 1.8895, 1.8815, 1.8646, 1.7972, 1.7959, 1.7715, 1.6687, 1.6111, 1.522, 1.5216, 1.5186, 1.5079, 1.47, 1.4409, 1.4399, 1.4327, 1.3873, 1.3667, 1.3168, 1.2776, 1.2514, 1.2383, 1.2097, 1.1684, 1.1558, 1.1361, 1.0472, 1.071, 1.0128, 0.9799, 0.9578, 0.3814, 0.5507, 0.7278, 0.5713, 0.8848, 0.815, 0.4288, 0.3708, 0.2661, 0.171, 0.4383, 0.702, -0.1441, 0.1319, 0.0613, 0.0872, -0.0734, 0.1894, 1.9131, 1.9004, 1.896, 1.8513, 1.8493, 1.8389, 1.8362, 1.8334, 1.8291, 1.8252, 1.8035, 1.7882, 1.7577, 1.7043, 1.7027, 1.6884, 1.6406, 1.6335, 1.6309, 1.5906, 1.5519, 1.5431, 1.5019, 1.4897, 1.4814, 1.4497, 1.403, 1.3895, 1.3413, 1.3294, 1.2293, 1.1704, 1.1993, 0.9919, 0.371, 0.9511, 0.2354, 0.3075, 0.4982, 0.3294, 0.4441, 0.3821, 0.898, 0.1786, 0.3765, 0.744, -0.0006, 0.4648, -0.5758, 2.0563, 1.9575, 1.8952, 1.8617, 1.8586, 1.7602, 1.7531, 1.7245, 1.6949, 1.6549, 1.6119, 1.5924, 1.5364, 1.4856, 1.4286, 1.4276, 1.4229, 1.4171, 1.3869, 1.3663, 1.358, 1.3374, 1.3273, 1.3183, 1.3053, 1.2995, 1.2993, 1.2989, 1.2983, 1.2557, 1.2495, 1.199, 1.1471, 0.9523, 1.0427, 0.854, 1.0152, 0.9118, 1.105, 0.8022, 0.7395, 1.1554, 0.5438, 1.1539, 0.6074, 0.2736, 1.0232, 0.161, -0.2041, 0.3276, 0.337, 2.2719, 2.2512, 2.1706, 2.1365, 2.1363, 2.1113, 2.0716, 1.9564, 1.9257, 1.9126, 1.857, 1.7913, 1.7717, 1.7476, 1.7296, 1.6049, 1.5888, 1.5411, 1.4442, 1.444, 1.4421, 1.4387, 1.3977, 1.3825, 1.3759, 1.3436, 1.3268, 1.3212, 1.2617, 1.2596, 1.2349, 1.2401, 1.1639, 0.814, 1.0967, 0.8154, 0.753, 0.4412, 0.6588, 0.4945, 0.6065, 0.3939, 0.4398, 0.2891, 0.007, 0.0679, 0.5489]}, \"token.table\": {\"Topic\": [1, 2, 3, 4, 5, 6, 7, 1, 2, 3, 4, 5, 6, 7, 1, 2, 3, 4, 5, 6, 7, 1, 2, 3, 4, 5, 6, 7, 1, 2, 3, 4, 5, 6, 7, 1, 2, 3, 4, 5, 6, 7, 1, 2, 3, 4, 5, 6, 7, 1, 2, 3, 4, 5, 6, 7, 1, 2, 3, 4, 5, 6, 7, 1, 2, 3, 4, 5, 6, 7, 1, 2, 3, 4, 5, 6, 7, 1, 2, 3, 4, 5, 6, 7, 1, 2, 3, 4, 5, 6, 7, 1, 2, 3, 4, 5, 6, 7, 1, 2, 3, 4, 5, 6, 7, 1, 2, 3, 4, 5, 6, 7, 2, 4, 5, 6, 7, 1, 2, 3, 4, 5, 6, 7, 1, 2, 3, 4, 5, 6, 7, 1, 2, 3, 4, 5, 6, 7, 1, 2, 3, 4, 5, 6, 7, 1, 2, 5, 6, 1, 2, 3, 4, 5, 6, 7, 1, 2, 3, 4, 5, 6, 7, 1, 2, 3, 4, 5, 6, 7, 1, 2, 3, 4, 5, 6, 7, 1, 2, 3, 4, 5, 6, 7, 2, 4, 7, 1, 2, 3, 4, 5, 6, 7, 1, 2, 3, 4, 5, 6, 7, 1, 2, 3, 4, 5, 6, 7, 1, 2, 3, 4, 5, 6, 7, 1, 2, 3, 4, 5, 6, 7, 1, 2, 3, 4, 5, 6, 7, 1, 2, 3, 4, 5, 6, 7, 1, 2, 3, 4, 5, 6, 7, 1, 2, 3, 4, 5, 6, 7, 1, 2, 3, 4, 5, 6, 7, 1, 2, 3, 4, 5, 6, 7, 1, 2, 3, 4, 5, 6, 7, 1, 2, 3, 4, 5, 6, 7, 1, 2, 3, 4, 5, 6, 7, 1, 2, 3, 4, 5, 6, 7, 1, 2, 3, 4, 5, 6, 7, 1, 2, 3, 4, 5, 6, 7, 1, 2, 3, 4, 5, 6, 7, 1, 2, 3, 4, 5, 6, 7, 1, 2, 3, 4, 5, 6, 7, 1, 2, 3, 4, 5, 6, 7, 1, 2, 3, 4, 5, 6, 7, 1, 2, 3, 4, 5, 6, 7, 1, 2, 3, 4, 5, 6, 7, 1, 2, 3, 4, 5, 6, 7, 1, 2, 3, 4, 5, 6, 7, 1, 2, 3, 4, 5, 6, 7, 1, 2, 3, 4, 5, 6, 7, 1, 2, 3, 4, 5, 6, 7, 1, 2, 3, 4, 5, 6, 7, 1, 2, 3, 4, 5, 6, 7, 1, 2, 3, 4, 5, 6, 7, 1, 2, 3, 4, 5, 6, 7, 1, 2, 3, 4, 5, 6, 7, 1, 2, 3, 4, 5, 6, 7, 1, 2, 3, 4, 5, 6, 7, 1, 2, 3, 4, 5, 6, 7, 1, 2, 3, 4, 5, 6, 7, 1, 2, 3, 4, 5, 6, 7, 1, 2, 3, 4, 5, 6, 7, 1, 2, 3, 4, 5, 6, 7, 1, 2, 3, 4, 5, 6, 7, 1, 2, 3, 4, 5, 6, 7, 1, 2, 3, 4, 5, 6, 7, 1, 2, 3, 4, 5, 6, 7, 1, 2, 3, 4, 5, 6, 7, 1, 2, 3, 4, 5, 6, 7, 1, 2, 3, 4, 5, 6, 7, 1, 2, 3, 4, 5, 6, 7, 1, 2, 3, 4, 5, 6, 7, 1, 2, 3, 4, 5, 6, 7, 1, 2, 3, 4, 5, 6, 7, 1, 2, 3, 4, 5, 6, 7, 1, 2, 3, 4, 5, 6, 7, 1, 2, 3, 4, 5, 6, 7, 1, 2, 3, 4, 5, 6, 7, 1, 2, 3, 4, 5, 6, 7, 1, 2, 3, 4, 5, 6, 7, 1, 2, 3, 4, 5, 6, 7, 1, 2, 3, 4, 5, 6, 7, 1, 2, 3, 4, 5, 6, 7, 1, 2, 3, 4, 5, 6, 7, 1, 2, 3, 4, 5, 6, 7, 1, 2, 3, 4, 5, 6, 7, 1, 2, 3, 4, 5, 6, 7, 2, 5, 6, 7, 1, 2, 3, 4, 5, 6, 7, 1, 2, 3, 4, 5, 6, 7, 1, 2, 3, 4, 5, 6, 7, 1, 2, 3, 4, 5, 6, 7, 1, 2, 3, 4, 5, 6, 7, 1, 2, 3, 4, 5, 7, 1, 2, 3, 4, 5, 6, 7, 1, 2, 3, 4, 5, 6, 7, 1, 2, 3, 4, 5, 6, 7, 1, 2, 3, 4, 5, 6, 7, 1, 2, 3, 4, 5, 6, 7, 1, 2, 3, 4, 5, 6, 7, 1, 2, 3, 4, 5, 6, 7, 1, 2, 4, 5, 6, 7, 1, 2, 3, 4, 5, 6, 7, 1, 2, 3, 4, 5, 6, 7, 1, 2, 3, 4, 5, 6, 7, 1, 2, 3, 4, 5, 6, 7, 1, 2, 3, 4, 5, 6, 7, 1, 2, 3, 4, 5, 6, 7, 1, 2, 3, 4, 5, 6, 7, 1, 2, 3, 4, 5, 6, 7, 1, 2, 3, 4, 5, 6, 7, 1, 2, 3, 4, 5, 6, 7, 1, 2, 3, 4, 5, 6, 7, 1, 2, 3, 4, 5, 6, 7, 1, 2, 3, 4, 5, 6, 7, 1, 2, 3, 4, 5, 6, 7, 1, 2, 3, 4, 5, 6, 7, 1, 2, 3, 4, 5, 6, 7, 1, 2, 3, 4, 5, 6, 7, 1, 2, 3, 4, 5, 6, 7, 1, 2, 3, 4, 5, 6, 7, 1, 2, 3, 4, 5, 6, 7, 1, 2, 3, 4, 5, 6, 7, 1, 2, 3, 4, 5, 6, 7, 1, 2, 3, 4, 5, 6, 7, 1, 2, 3, 4, 5, 6, 7, 1, 2, 3, 4, 5, 6, 7, 1, 2, 3, 4, 5, 6, 7, 1, 2, 3, 4, 5, 6, 7, 1, 2, 3, 4, 5, 6, 7, 1, 2, 3, 4, 5, 6, 7, 1, 2, 3, 4, 5, 6, 7, 1, 2, 3, 4, 5, 6, 7, 1, 2, 3, 4, 5, 6, 7, 2, 5, 1, 2, 3, 4, 5, 6, 7, 1, 2, 3, 4, 5, 6, 7, 1, 2, 3, 4, 5, 6, 7, 1, 2, 3, 4, 5, 6, 7, 1, 2, 7, 1, 2, 3, 4, 5, 6, 7, 1, 2, 3, 4, 5, 6, 7, 1, 2, 3, 4, 5, 6, 7, 1, 2, 3, 4, 5, 6, 7, 1, 2, 3, 4, 5, 6, 7, 1, 2, 3, 4, 5, 6, 7, 1, 2, 3, 4, 5, 6, 7, 2, 4, 5, 7, 1, 2, 3, 4, 5, 6, 7, 1, 2, 3, 4, 5, 6, 7, 1, 2, 3, 4, 5, 6, 7, 1, 2, 3, 4, 5, 6, 7, 1, 2, 3, 4, 5, 6, 7, 1, 2, 3, 4, 5, 6, 7, 1, 2, 3, 4, 5, 6, 7, 1, 2, 3, 4, 5, 6, 7, 1, 2, 3, 4, 5, 6, 7, 1, 2, 3, 4, 5, 6, 7, 1, 2, 3, 4, 5, 6, 7, 1, 2, 3, 4, 5, 6, 7, 1, 2, 3, 4, 5, 6, 7, 1, 2, 3, 4, 5, 6, 7, 1, 2, 3, 4, 5, 6, 7, 1, 2, 3, 4, 5, 6, 7, 1, 2, 3, 4, 5, 6, 7, 1, 2, 3, 4, 5, 6, 7, 1, 2, 3, 4, 5, 6, 7, 1, 2, 3, 4, 5, 6, 7, 1, 2, 3, 4, 5, 6, 7, 1, 2, 3, 4, 5, 6, 7, 1, 2, 3, 4, 5, 6, 7, 1, 2, 3, 4, 5, 6, 7, 1, 2, 3, 4, 5, 6, 7, 1, 2, 3, 4, 5, 6, 7, 1, 2, 3, 4, 5, 6, 7, 1, 2, 3, 4, 5, 6, 7, 1, 2, 3, 4, 5, 6, 7, 1, 2, 3, 4, 5, 6, 7, 1, 2, 3, 4, 5, 6, 7, 1, 2, 3, 4, 5, 6, 7, 1, 2, 3, 4, 5, 6, 7, 1, 2, 3, 4, 5, 6, 7, 1, 2, 3, 4, 5, 6, 7, 1, 2, 3, 4, 5, 6, 7, 1, 2, 3, 4, 5, 6, 7, 1, 2, 3, 4, 5, 6, 7, 1, 2, 3, 4, 5, 6, 7, 1, 2, 3, 4, 5, 6, 7, 1, 2, 3, 4, 5, 6, 7, 1, 2, 3, 4, 5, 6, 7, 1, 2, 3, 4, 5, 6, 7, 1, 2, 3, 4, 5, 6, 7, 1, 2, 3, 4, 5, 6, 7, 1, 2, 3, 4, 5, 6, 7, 1, 2, 3, 4, 5, 6, 7, 1, 2, 3, 4, 5, 6, 7, 1, 2, 3, 4, 5, 6, 7, 1, 2, 3, 4, 5, 6, 7, 1, 2, 3, 4, 5, 6, 7, 1, 2, 3, 4, 5, 6, 7, 1, 2, 3, 4, 5, 6, 7, 1, 2, 3, 4, 5, 6, 7, 1, 2, 3, 4, 5, 6, 7, 1, 2, 3, 4, 5, 6, 7, 1, 2, 3, 4, 5, 6, 7, 1, 2, 3, 4, 5, 6, 7, 1, 2, 3, 4, 5, 6, 7, 1, 2, 3, 4, 5, 6, 7, 1, 2, 3, 4, 5, 6, 7, 1, 2, 3, 4, 5, 6, 7, 1, 2, 3, 4, 5, 6, 7, 1, 2, 3, 4, 5, 6, 7, 1, 2, 3, 4, 5, 6, 7, 1, 2, 3, 4, 5, 6, 7, 1, 2, 3, 4, 5, 6, 7, 1, 2, 3, 4, 5, 6, 7, 1, 2, 3, 4, 5, 6, 7, 1, 2, 3, 4, 5, 6, 7, 1, 2, 3, 4, 5, 6, 7, 1, 2, 3, 4, 5, 6, 7, 1, 2, 3, 4, 5, 6, 7, 1, 2, 3, 4, 5, 6, 7, 1, 2, 3, 4, 5, 6, 7, 1, 2, 3, 4, 5, 6, 7, 1, 2, 3, 4, 5, 6, 7, 1, 2, 3, 4, 5, 6, 7, 1, 2, 3, 4, 5, 6, 7, 1, 2, 3, 4, 5, 6, 7, 1, 2, 3, 4, 5, 6, 7, 1, 2, 3, 4, 5, 6, 7, 1, 2, 3, 4, 5, 6, 7, 1, 2, 3, 4, 5, 6, 7, 1, 2, 3, 4, 5, 6, 7, 1, 2, 3, 4, 5, 6, 7, 1, 2, 3, 4, 5, 6, 7, 1, 2, 3, 4, 5, 6, 7, 1, 2, 3, 4, 5, 6, 7, 1, 2, 3, 4, 5, 6, 7, 1, 2, 3, 4, 5, 6, 7, 1, 2, 3, 4, 5, 6, 7, 1, 2, 3, 4, 5, 6, 7, 1, 2, 3, 4, 5, 6, 7, 1, 2, 3, 4, 5, 6, 7, 1, 2, 3, 4, 5, 6, 7, 1, 2, 3, 4, 5, 6, 7, 1, 2, 3, 4, 5, 6, 7, 1, 2, 3, 4, 5, 6, 7, 1, 2, 3, 4, 5, 6, 7, 1, 2, 3, 4, 5, 6, 7, 1, 2, 3, 4, 5, 6, 7, 1, 2, 3, 4, 5, 6, 7, 1, 2, 3, 4, 5, 6, 7, 1, 2, 3, 4, 5, 6, 7, 1, 2, 3, 4, 5, 6, 7, 1, 2, 3, 4, 5, 6, 7, 1, 2, 3, 4, 5, 6, 7, 2, 3, 4, 5, 6, 7, 1, 2, 3, 4, 5, 6, 7, 1, 2, 3, 4, 5, 6, 7, 1, 2, 3, 4, 5, 6, 7, 1, 2, 3, 4, 5, 6, 7, 2, 3, 4, 5, 6, 7, 1, 2, 3, 4, 5, 6, 7, 1, 2, 3, 4, 5, 6, 7, 1, 2, 3, 4, 5, 6, 7, 1, 2, 3, 4, 5, 6, 7, 1, 2, 3, 4, 5, 6, 7, 1, 2, 3, 4, 5, 6, 7, 1, 2, 3, 4, 5, 6, 7, 1, 2, 3, 4, 5, 6, 7, 1, 2, 3, 4, 5, 6, 7, 1, 2, 3, 4, 5, 6, 7, 1, 2, 3, 4, 5, 6, 7, 1, 2, 3, 4, 5, 6, 7, 1, 2, 3, 4, 5, 6, 7, 1, 2, 3, 4, 5, 6, 7, 1, 2, 3, 4, 5, 6, 7, 1, 2, 3, 4, 5, 6, 7, 1, 2, 3, 4, 5, 6, 7, 1, 2, 3, 4, 5, 6, 7, 1, 2, 3, 4, 5, 6, 7, 1, 2, 3, 4, 5, 6, 7, 1, 2, 3, 4, 5, 6, 7, 1, 2, 3, 4, 5, 6, 7, 1, 2, 3, 4, 5, 6, 7, 1, 2, 3, 4, 5, 6, 7, 1, 3, 4, 5, 6, 7], \"Freq\": [0.01214158029481371, 0.04349621072647549, 0.06284268482260723, 0.6074792866185366, 0.0552375191434382, 0.12808700091232045, 0.09072829231289366, 0.1316160044774562, 0.09363402490301426, 0.5222197374100582, 0.08960628932670513, 0.017063739968449405, 0.11294983207542145, 0.03291482836553693, 0.10410792105324598, 0.6010862599758465, 0.009236642619761674, 0.11029177501054406, 0.12062429048349779, 0.02043020104879489, 0.034050335081324816, 0.12303545212221467, 0.04726295781963489, 0.39295463783526713, 0.09264696012962068, 0.12046995517634765, 0.1296840639255884, 0.09394777548245467, 0.005357269637062059, 0.0017469357512158888, 0.6650002092961816, 0.002212785284873459, 0.0013102018134119166, 0.0235254014497073, 0.30082233635937605, 0.002084431846897686, 0.002431837154713967, 0.4447284233345277, 0.008685132695407025, 0.005459226265684416, 0.00694810615632562, 0.5296442064307644, 0.00024702407387472403, 0.00024702407387472403, 0.44649601352856366, 0.00024702407387472403, 0.00012351203693736202, 0.00024702407387472403, 0.5524693412208203, 0.23304623038493788, 0.1336779739850005, 0.05177735781420466, 0.4567571378925935, 0.05336532510776298, 0.05067059273081553, 0.020691695037275096, 0.053232352732870046, 0.1918273428162588, 0.001749668964327402, 0.06436660977858988, 0.337580069571896, 0.06998675857309608, 0.28127254108354144, 0.18679704006721506, 0.1300596213552105, 0.0003273312618000264, 0.01003815869520081, 0.33682386839222717, 0.011238373321800907, 0.3246035012850262, 7.643501807866892e-05, 7.643501807866892e-05, 0.5971103612305616, 7.643501807866892e-05, 0.004586101084720135, 7.643501807866892e-05, 0.39807357415370775, 0.00017902436959236475, 0.00017902436959236475, 0.20104436705222561, 0.0003580487391847295, 0.0016112193263312828, 0.0010741462175541884, 0.7954052740988766, 0.09633354792730625, 0.01294032733351875, 0.026795627306781252, 0.026795627306781252, 0.00431344244450625, 0.8267431351970314, 0.006012677346887501, 0.7988349467160962, 0.07495049247562204, 0.015641226475082596, 0.06171560853516753, 0.01549967691422212, 0.014721154329489502, 0.01868454203358283, 0.1156472319032126, 0.5076020270223326, 0.007991881879490303, 0.13985793289108028, 0.14209095871034963, 0.03925424334926119, 0.04759870825284665, 0.7802235586351745, 0.053903280263335004, 0.04474324570878134, 0.006588178698852056, 0.0433340096234654, 0.043580625938395685, 0.027585796370059677, 0.13672955990774555, 0.05127358496540457, 0.7007389945271959, 0.05127358496540457, 0.05127358496540457, 0.1950628130816781, 0.4566577288664663, 0.033511105136833516, 0.07948932159971021, 0.15815158667410553, 0.02995782525029541, 0.04717285366610934, 0.0036071394393288876, 0.7755349794557108, 0.007214278878657775, 0.07574992822590663, 0.06312494018825553, 0.032464254953959985, 0.04328567327194665, 0.002271485650987749, 0.01586376269157573, 0.022641582779200465, 0.031251246133750805, 0.015973673287591268, 0.0010991059601553623, 0.9109390197767644, 0.01978731318669669, 0.5431136703826825, 0.008552572707293454, 0.25374319262940465, 0.04033373045983955, 0.10187176840107529, 0.032590868778088665, 0.08428799462577555, 0.00012674886409891058, 0.8971284600920891, 0.018251836430243126, 0.14436196142333177, 0.054829783425207744, 0.001526905361208317, 0.06787788378462427, 0.6344985823712015, 0.0800931266742908, 0.016795958973291485, 0.7283328281950281, 0.039491877489156245, 0.1571919897038168, 0.005130364749346582, 0.06013264729466691, 0.0052496755574709215, 0.0044741553046627166, 0.03371893049526106, 0.3153953620715273, 0.16242655543448928, 0.018504291125448144, 0.0032896517556352256, 0.006168097041816048, 0.4601400393194772, 0.2570240679992624, 0.3293450321696865, 0.3024407901051206, 0.023193312124625814, 0.04345583298986709, 0.029750694007133656, 0.014780465272147904, 0.2891018757845159, 0.5431583977185338, 0.008917392837276864, 0.04298183347567448, 0.03397526671002485, 0.011235914974968848, 0.07071492519960552, 0.20376921099599524, 0.20376921099599524, 0.4075384219919905, 0.012703407032770437, 0.027426790448843594, 0.05781621292653118, 0.1253732008569888, 0.7307376787507772, 0.015172267056807095, 0.030793417754348126, 0.18719728454898835, 0.019764230510350925, 0.025455828537065905, 0.4196771731786541, 0.06636028028950104, 0.27807521787664624, 0.0034399768293332305, 0.13458282547906103, 0.026377034837766974, 0.017384863870346413, 0.49606809836936755, 0.09636609886752366, 0.21925910208893798, 0.009891388064162615, 0.005827317603692455, 0.013208586568369563, 0.03321571034104699, 0.017352456864328642, 0.910874489430505, 0.0027194148817231453, 0.016769725103959396, 0.12560485759591195, 0.0750741677584761, 0.510761004579034, 0.024222648144294638, 0.034489201000154616, 0.21287055687072176, 0.01684356327914528, 0.0002942060230865894, 0.0013239271038896524, 0.3320114970532162, 0.001618133126976242, 0.0002942060230865894, 0.0001471030115432947, 0.6644643031410622, 0.5951138865095816, 0.07892100836708604, 0.08457625656741467, 0.0056552482003286225, 0.03458790193950988, 0.11870971891939815, 0.0824050452047885, 0.085817996987471, 0.2724380856745111, 0.0027243808567451113, 0.002352874376279869, 0.1164053638791093, 0.5125551075485462, 0.007677800596281677, 0.01231757290761424, 0.23543852075167918, 0.05953493572013549, 0.6069105879128875, 0.07779519731124783, 0.0017287821624721738, 0.006266835338961631, 0.8249240370662567, 0.005371598380896556, 0.007106524566030847, 0.08971570215050209, 0.03613317420193149, 0.034331520086599725, 0.0024022054871090186, 0.06971635953119378, 0.09463578668932598, 0.4127121429479307, 0.09597788101953107, 0.10413926545996739, 0.1921371261377385, 0.030686805496040546, 0.11193601996747923, 0.24459234201486207, 0.11482758451146578, 0.1336304855033783, 0.142939158527335, 0.21403762790300424, 0.03803876351982303, 0.12409326235747513, 0.01666308337328141, 0.16947681016293129, 0.6495995514269719, 0.010927680491213234, 0.013230531648407274, 0.016011333045773665, 0.11782861964063993, 0.03862802651020087, 0.0018919849719282059, 0.0032058634246561264, 0.012665788284297156, 0.7995213160539942, 0.02633012419266753, 0.07357090225380158, 0.07100298245436698, 0.0005135839598869221, 0.010528471177681903, 0.01438035087683382, 0.7172199999820867, 0.11260328320520767, 0.001452420708419946, 0.017792153678144337, 0.006898998364994744, 0.658854343856998, 0.09985392370387129, 0.0564628550398254, 0.1584954098063266, 0.03702061794112199, 0.15584674539459062, 0.11216101304208533, 0.02298879812768346, 0.021094502452869257, 0.006524796213248916, 0.644364552199453, 0.019518747855262916, 0.09972384761686666, 0.06372936382141522, 0.006259910225295902, 0.1273717844452569, 0.676722378313759, 0.006694626213163673, 0.002936885904402541, 0.020558201330817788, 0.0002447404920335451, 0.003671107380503176, 0.968927607960805, 0.0002447404920335451, 0.0034263668884696313, 0.11153375440584662, 0.03395195368826625, 0.05521158824073204, 0.009995201319442868, 0.7377410497684023, 0.03284137576388371, 0.018562516736108186, 0.11804052847698163, 0.14951800273751006, 0.17706079271547243, 0.11804052847698163, 0.01967342141283027, 0.01967342141283027, 0.39740311253917143, 0.09469170007137784, 0.332093405773738, 0.048616043803085096, 0.18763999693260405, 0.1710029491557286, 0.06541912998092735, 0.10053625178540992, 0.059608826756964335, 0.03340149775174726, 0.48188083871847676, 0.08183366949178078, 0.11600597103779912, 0.2055476784722908, 0.021710973538635717, 0.019225058878640858, 0.08773218297418622, 0.39432243622282, 0.1764530832621311, 0.03739548595593913, 0.10335391653157325, 0.18152849880609231, 0.26442413219677385, 0.5454241816399459, 0.07428561067501227, 0.039527187279872644, 0.01685643276902956, 0.023996827890554944, 0.03549796431844047, 0.008283243565018285, 0.037408196745243864, 0.058784309171097504, 0.07227798013991761, 0.07615240051710359, 0.6969948657854902, 0.05010026349809447, 0.04913992124113197, 0.015184868366358377, 0.0790878560747832, 0.002741712343925818, 0.6751993899291159, 0.0734989809121652, 0.10513412334207849, 0.04923197038295168, 0.045342036920595005, 0.001944966731178338, 0.04011493883055322, 0.8295283108475612, 0.02577080918811298, 0.00814454818680929, 0.0002223855137998912, 0.0006671565413996736, 0.12220083983304021, 0.0030022044362985312, 0.08183786907835996, 0.6227906313965953, 0.16934656875861714, 0.5722104345009806, 0.21889269884159648, 0.10592850123506958, 0.014228615008198586, 0.028496535582718162, 0.04264653945827477, 0.017608893711803776, 0.00305689413144908, 0.016935193488227904, 0.019686398206532073, 0.08473710532376849, 0.12545493515467024, 0.48720778667035436, 0.26295403318724986, 0.6095681059245894, 0.13727314709458657, 0.03473680246600819, 0.06685788185475672, 0.06602085047003363, 0.02950535631148888, 0.05608110277644695, 0.009964487045635406, 0.03043208205829192, 0.042730593096598685, 0.10323567659892538, 0.03976817802897734, 0.1378869558747386, 0.6360215380029447, 0.05270584014150892, 0.2610959724392694, 0.06768606287141189, 0.2546214693949893, 0.1633859885880096, 0.046485239177396664, 0.1540127701284799, 0.8665829074105788, 0.055156244376982126, 0.005958236275291279, 0.0022981768490409216, 0.04570818399759167, 0.017959826486949427, 0.006298706919593638, 0.004673061453019697, 0.02246910369876594, 0.0746409541674105, 0.0025605816180929845, 0.40117912501471836, 0.45539944077783734, 0.03911288421637034, 0.0031413790228086453, 0.005624081798899349, 0.06520894842507624, 0.0010640154754674445, 0.7739445898935816, 0.11065760944861422, 0.0403819206641692, 0.06861491674501746, 0.05015097322608797, 0.5325517333734905, 0.05023160180040644, 0.05321485905018981, 0.033138344044890924, 0.21205315045757456, 0.041260502357572865, 0.13900859722848952, 0.5147738865563852, 0.10216886298065661, 0.01571828661240871, 0.1733923491931336, 0.01375350078585762, 0.08666398434292281, 0.016355516764688324, 0.6324977086926373, 0.015444063818049346, 0.005215536305767484, 0.2280910998964042, 0.015747881466929008, 0.06375033105217005, 0.5670083792277792, 0.2313490274704838, 0.06319598034736858, 0.019217491099784597, 0.051739399114804685, 0.0036956713653431917, 0.00192757447584521, 0.002288994690066187, 0.03168450544670564, 0.5159875925028147, 0.010119765998187353, 0.23383887860097205, 0.2044433678443326, 0.003420441162464766, 0.03836842695286564, 0.1320587718377701, 0.6025925039264014, 0.020373932141637956, 0.10930540236572187, 0.09398777455120574, 0.01725074561607716, 0.05306908765861905, 0.00013168508103875693, 0.004213922593240222, 0.8946684405773146, 0.0036871822690851945, 0.026995441612945172, 0.12080199062959199, 0.4886552671356174, 0.04785083271623095, 0.15017471160495696, 0.09004074102630065, 0.062270168467773765, 0.04026733020986399, 0.3718509927866215, 0.031633758587872686, 0.20079381462535464, 0.00694105792908582, 0.07867034203790327, 0.2771303953205067, 0.03298884581914757, 0.5706245622683912, 0.07434657585304025, 0.15593540320674013, 0.0007782718030559608, 0.05850009719637305, 0.12322636881719379, 0.016581513137331163, 0.12934267949416875, 0.032342112525439684, 0.6667629301758574, 0.11679239359784276, 0.021441145514873163, 0.020590715464403435, 0.01273068014945594, 0.08257102115361942, 0.030046677142011508, 0.6046033660026132, 0.20115218208812286, 0.007798374220064056, 0.04724897321568222, 0.026606217927277367, 0.02673247669653742, 0.009835229665191693, 0.028667275974935787, 0.0011931262216789923, 0.9090331943008322, 0.012576195309589379, 0.011963508871429895, 0.11973339839311439, 0.03806027925312321, 0.576860572022138, 0.06264297951342958, 0.04209850516857395, 0.1475971572097245, 0.012972800753385498, 0.06480194525029608, 0.1301450340934965, 0.16207250607485324, 0.006358437216626129, 0.047891207972035096, 0.5488548891032384, 0.039909339976695914, 0.09188577631034363, 0.043731733110270496, 0.09070649361972959, 0.5365736242293864, 0.03164408553147663, 0.15379811756758052, 0.05169189127191524, 0.026412671160841526, 0.005911407355045485, 0.053391328132272514, 0.658555934276982, 0.023582742107894218, 0.21218179165876025, 0.01993527799520658, 0.05773750812332682, 0.0025145313420544347, 0.001547403902802729, 0.0021276803663537523, 0.7325990352331669, 0.2032901877307085, 0.00019342548785034112, 0.10126059282663757, 0.10625637159986827, 0.003938979417354972, 0.01931060641191096, 0.2944627296144631, 0.4643192079043068, 0.010375848221325291, 0.08159117004462729, 0.20506099374047923, 0.14525153723283946, 0.38312549906402915, 0.046892860266553246, 0.08082901063909735, 0.05724218272059152, 0.019306225844812827, 0.5322037921695956, 0.04806305175352005, 0.12893318658598776, 0.07492975764944838, 0.007560480051115513, 0.18901200127788784, 0.2385881701217478, 0.10063881514648201, 0.041628376782263186, 0.447892548597462, 0.05087297641343068, 0.02189364762950145, 0.09845221822773283, 0.005015571564987651, 0.09659020078379445, 0.0048537789338590175, 0.6254903119432987, 0.13558222488579522, 0.03009342938992591, 0.10225294287329664, 0.030308144523688164, 0.36141032715039473, 0.009476400983147781, 0.37476715094991764, 0.12319321278092116, 0.017604865619554714, 0.08324528105023785, 0.0022772041411131087, 0.0011778642109205736, 0.00934438940663655, 0.9749574695193227, 0.005261126808778562, 0.004161786878586027, 0.0027483498254813384, 0.00041261594737566736, 0.02486011082938396, 0.0007220779079074179, 0.9437558256349953, 0.01702040782924628, 0.0007220779079074179, 0.012584786394957855, 0.6348634323646621, 0.09735975584202586, 0.11475109885132738, 0.015922211293903903, 0.040500387829880254, 0.08374050777766417, 0.012825122812795414, 0.8994554557840158, 0.0035207016908600803, 0.04191311536738191, 0.00016765246146952764, 0.030177443064514975, 0.02263308229838623, 0.002179481999103859, 0.5632432548411235, 0.059288763667486685, 0.08893314550123003, 0.2667994365036901, 0.1964765929043323, 0.04025483799680521, 0.05382304223781404, 0.004197897444732014, 0.20067449034906434, 0.43350787362295073, 0.07106440674296338, 0.3631727194458757, 0.09003676908475758, 0.4176342953690931, 0.03618032178290931, 0.05347426080414148, 0.024300691479189965, 0.01522376215865374, 0.006440844766330275, 0.658936306917742, 0.006516619410640042, 0.16147576702411548, 0.042964223323638424, 0.007274365853737722, 0.11638985365980355, 0.9057528997319496, 0.002705292980244766, 0.02549218385230645, 0.0004161989200376563, 0.001248596760112969, 0.06295008665569551, 0.001456696220131797, 0.001349331591239127, 0.0005594789524650039, 0.04304696881318971, 0.9279781189797478, 0.0010202263250832424, 0.025834763393236943, 0.0002632842129247077, 0.02767619057426813, 0.02767619057426813, 0.02767619057426813, 0.857961907802312, 0.02767619057426813, 0.02767619057426813, 0.24832241538496205, 0.05475883924980649, 0.13358960933774847, 0.0262952220557968, 0.015206214007214433, 0.5155565301399074, 0.006285601096844956, 0.0579624176884917, 0.1373203586848159, 0.4892961675743951, 0.07017731644969062, 0.04372466945091589, 0.19022565268236538, 0.01128127592594805, 0.0008878917043099386, 0.22952000556411914, 0.0008878917043099386, 0.4821251954402967, 0.06193044637561822, 0.16159629018440883, 0.06281833807992816, 0.15775462591953027, 0.4377948638263566, 0.07949595855160643, 0.10197341505517349, 0.10380357493103733, 0.09411146065885703, 0.025055146469572454, 0.030892380551849393, 0.008538095127395562, 0.5655323736200369, 0.0012419047458029908, 0.030271428178947898, 0.3508380906893449, 0.01257428555125528, 0.1554086192086409, 0.0889355207404071, 0.0990697298585504, 0.18366948071851477, 0.12657313759413005, 0.1740576535136778, 0.1722815550084362, 0.731507385814523, 0.019767092859363476, 0.15301379213385913, 0.0010245901482097378, 0.007796881127839956, 0.0830417820122185, 0.0038484605566902344, 0.1724612712024882, 0.663125732933511, 0.13116772739344174, 0.021861287898906956, 0.007287095966302318, 0.004858063977534879, 0.05481539574667734, 0.47874706329595834, 0.031177168299574246, 0.13866787335738873, 0.15243252020415865, 0.039883429025976413, 0.10432921373258465, 0.21731487878218728, 0.04309688107646251, 0.45996027917146465, 0.19752961482765888, 0.05292221623755484, 0.024415284907152713, 0.004737695858499313, 0.15916915515391314, 0.26819745390906197, 0.1621392525245489, 0.22289762235849928, 0.08384093758841883, 0.056455236635548973, 0.047287691995476396, 0.4775545028928592, 0.10017900262938159, 0.15908904560984663, 0.09344186492267259, 0.03743741213799201, 0.06298106221082238, 0.06931908038514341, 0.36211164032733295, 0.17133493283558496, 0.04369246883858542, 0.04273068493333354, 0.1746324776535914, 0.006045498833011819, 0.1994556622558066, 0.8815358031143584, 0.008495040450841223, 0.03834458625517322, 0.05478911410037963, 0.0010131699620269349, 0.004208552149958036, 0.011612486487847176, 0.014256925625581318, 0.16075552967576204, 0.07045007638397012, 0.12869483351286942, 0.01081439968184339, 0.5775098068040354, 0.037520055487810344, 0.046469360484629116, 0.4901087343948976, 0.048579472716524484, 0.11188283967338554, 0.1660423869587, 0.11230486211976462, 0.0246179760387793, 0.10116001662065352, 0.1281834305509511, 0.005333568538874526, 0.022934344717160462, 0.5817145419732483, 0.14098399504424997, 0.019734203593835747, 0.2587445095454037, 0.11241740905390574, 0.4676282088009718, 0.06201404370106865, 0.023329867709063448, 0.05940977939866157, 0.016493673915244856, 0.1690651362388914, 0.08546337617289577, 0.24620822817890692, 0.15103785373431747, 0.10250286237584921, 0.14594690356442727, 0.0997674264636694, 0.09348334482639133, 0.007164144182957092, 0.6253773666049618, 0.07880558601252802, 0.017124051949507196, 0.16949316725532632, 0.008562025974753598, 0.9087085387994269, 0.03679633231620313, 0.008389645220960536, 0.006271870699164672, 0.02331588295631023, 0.008837635985186583, 0.007697295858065735, 0.6619902924791524, 0.047516954327173705, 0.12123912023227863, 0.02714274532548373, 0.027897345658879656, 0.09144384040152438, 0.022775210062495194, 0.052653671380572586, 0.004031296715075089, 0.004401517841969739, 0.052365721615210074, 0.004977417372694752, 0.8799333472670532, 0.0016865629114089656, 0.03677519388830314, 0.006249379353567854, 0.005888838237015862, 0.09530303514190977, 0.018147236199783576, 0.7970362283242693, 0.04062096579819105, 0.978832348351098, 0.008184775609079147, 0.0010022174215198955, 0.0001670362369199826, 0.006848485713719286, 0.002839616027639704, 0.002004434843039791, 0.30409645085153547, 0.05106063281521458, 0.5422584788670834, 0.0004534692079503959, 0.02974758004154597, 0.05577671257789869, 0.01659697301098449, 0.09481422890488513, 0.024854925079152615, 0.20348142340535677, 0.1357883039250764, 0.04020649645157041, 0.4685518891024373, 0.0323114026028984, 0.031226030927034253, 0.6950794384238875, 0.13241038114252027, 0.04849042302611569, 0.014412014274015809, 0.0663553157199478, 0.012010011895013176, 0.5990140539344646, 0.04454490974089649, 0.27902318223934397, 0.0008091331597294773, 0.011200106368886976, 0.0575762122081186, 0.007835815862643359, 0.08946407908553222, 0.14192109109906537, 0.16137507936314358, 0.1737714357102121, 0.20958537876185712, 0.13278054775669182, 0.09108187436736825, 0.3090305526463493, 0.383176935748407, 0.140037652579231, 0.06519295170830096, 0.07269986772367915, 0.008828731792172355, 0.021049292747439177, 0.008449267075984498, 0.01614188336904501, 0.07503453597329517, 0.14288088950881248, 0.10334588610103426, 0.3939628409757548, 0.26022481509394046, 0.03217163500884084, 0.5399449729702666, 0.01760465005848587, 0.1705925109588964, 0.11978065824107052, 0.06786420002937886, 0.05205453389842488, 0.028782401889181818, 0.4886542567162659, 0.025980575156606598, 0.2083540242951392, 0.1296089778740216, 0.029370197707204594, 0.08928618475765933, 0.3994172409723217, 0.049681313852476754, 0.12514389470413034, 0.013296806031084569, 0.3702583287112295, 0.04104480318276909, 0.0011543850895153805, 0.07145820638598079, 0.04691321322609032, 0.11356750657771945, 0.0075061141161744515, 0.012234966009364356, 0.14670700040062967, 0.6016150464113823, 0.03996457725323526, 0.08291686004067542, 0.04915257491756427, 0.1487427593910605, 0.10315615559496658, 0.4361728821279543, 0.13990814625228262, 0.12799052856032242, 0.11399036913023335, 0.16659934709794508, 0.143061738438615, 0.18411867228641718, 0.1724136209596214, 0.09185532653402696, 0.017349101674077987, 0.03511203513120738, 0.18214965097077843, 0.05284313537425589, 0.4890218347104331, 0.13471816199027165, 0.08881466728564695, 0.08441911163552461, 0.2135522914097785, 0.0345648925553344, 0.14741218592832678, 0.3856948974289098, 0.06440923832769446, 0.0699427681677366, 0.06996733140291832, 0.8396079768350199, 0.043260753955926726, 0.4837456248325418, 0.04151741013979236, 0.15735292147849764, 0.15903169700514555, 0.05223574619454436, 0.06295408224929636, 0.041116614274923045, 0.05901192825986364, 0.002236914248117575, 0.021516984672369056, 0.785050381363168, 0.0802093537539302, 0.010758492336184528, 0.04918029391426563, 0.2580240069364064, 0.07186504205287747, 0.40979577424473806, 0.042038799129887824, 0.0996208516140097, 0.06949454588495375, 0.1708326237277077, 0.24766860323613626, 0.09141027341027302, 0.22078544971770817, 0.04472344851485684, 0.08529360084006887, 0.1392675726864073, 0.17727683087264534, 0.3545536617452907, 0.3545536617452907, 0.1742593368644167, 0.28549414378053906, 0.07132702337690724, 0.13111892983338866, 0.1437470921071613, 0.10893243478885997, 0.08509474357225419, 0.10402672544390652, 0.4602865367289008, 0.04757209226797517, 0.16806906849164882, 0.12704882126656844, 0.0326038454901365, 0.0603909195258128, 0.06429585442926086, 0.6083376995999297, 0.013964710464273854, 0.1625822020371883, 0.09741355320391032, 0.0061095608281198106, 0.047324852128928056, 0.001770128459473749, 0.30242644730109, 0.005221878955447559, 0.5758227878668105, 0.06673384292216034, 0.008231097336552933, 0.03973938391518566, 0.7194695669292797, 0.09698076465397329, 0.040849804357624656, 0.04158657437609885, 0.040440487680694547, 0.03610173090523541, 0.024559000615806403, 0.5969785396885042, 0.13963978217961298, 0.035464071664663616, 0.046546594059870994, 0.09604852742513063, 0.06132329058681417, 0.023642714443109076, 0.12556742749379102, 0.3548631259652328, 0.09186655088967638, 0.18014987383611053, 0.10505653650833537, 0.09844609875097467, 0.044048991785029766, 0.7972245316097096, 0.08247150326996995, 0.027490501089989985, 0.027490501089989985, 0.004604103247700287, 0.00869663946787832, 0.003325185678894652, 0.967245357287702, 0.006010912573386486, 0.0029415104082529614, 0.0072898301421921215, 0.006663592164198646, 0.062368227784016544, 0.0031695738009484197, 0.7628939523416638, 0.06443968152794347, 0.022935734827335418, 0.0775172931161086, 0.19060153001267652, 0.1420047899396645, 0.4902643756418389, 0.05831608808761439, 0.015141721117485843, 0.0761178412933072, 0.027418792293825715, 0.06623991803360385, 0.0345794826344915, 0.050821360841601146, 0.20418361174652125, 0.19797128045071435, 0.050297429286533094, 0.3959425609014287, 0.550309229973418, 0.24269324011952484, 0.05699408268190676, 0.01026382241722761, 0.03152459742434195, 0.09527976947632721, 0.012951966383644367, 0.0032724224002314175, 0.01022632000072318, 0.0006135792000433908, 0.8676009888613546, 0.04826823040341341, 0.06790276480480191, 0.0022497904001590996, 0.014983956906836942, 0.7464008400525709, 0.0011987165525469553, 0.12146994399142481, 0.09110245799356861, 0.00259721919718507, 0.022376042314209834, 0.15897626282750207, 0.3414551831590206, 0.07476929973469099, 0.13821863206199694, 0.10339600715059541, 0.12080731960629618, 0.06237746474369675, 0.04016196073268478, 0.04934887725435938, 0.2582544311092973, 0.13262950748532537, 0.30098591255494084, 0.09588184139862693, 0.12270341377225165, 0.0019203176366801278, 0.02748454617498433, 0.007441230842135495, 0.011521905820080768, 0.27472544189755077, 0.4972422480478606, 0.17966971888188446, 0.7772669203583477, 0.08509521229880113, 0.07688427076119751, 0.003199068131533877, 0.04713293713793246, 0.007144585493758992, 0.003518974944687265, 0.11022792536695389, 0.0064940483161926325, 0.25791625575784, 0.02676231490304648, 0.47457821510702475, 0.10472507389902223, 0.01931124894025704, 0.33959102915482703, 0.46752067780962125, 0.02935422783080203, 0.04586366744308161, 0.0685919094205248, 0.00899505342104022, 0.04005204856611324, 0.013653962593054441, 0.03941839635560065, 0.012941581936025513, 0.845477109783832, 0.02232126058690639, 0.009142218431871234, 0.056990452562314185, 0.1102917883850562, 0.03210304319099307, 0.09488232765337952, 0.02986772018362022, 0.669265220420229, 0.01441069938795689, 0.04922466622618938, 0.07371732624891028, 0.019118708054580224, 0.07132748774208776, 0.4625256679358062, 0.34983559065255926, 0.0045958432823510155, 0.018751040591992143, 0.08770281192121768, 0.05188552149980029, 0.16181487332679872, 0.04109078476212014, 0.13884508925219408, 0.3913003585960382, 0.12737789350462567, 0.12664784445525298, 0.03540075626313122, 0.31766442512506515, 0.036035839274796186, 0.2230165698382213, 0.1154212157329174, 0.1458232540977824, 0.08698524999188535, 0.23073477157774, 0.07291410661084508, 0.08842434420130993, 0.02542399769983414, 0.4552334682479735, 0.0404545372204908, 0.14662986997911825, 0.24559102299177668, 0.2656522306806395, 0.12450152357122925, 0.08982091313455456, 0.10131470251805573, 0.02648677141788404, 0.7562378601012503, 0.13893952934616086, 0.01930673360641441, 0.011549563853837194, 0.03120106056036615, 0.030339152810079793, 0.01223909005406628, 0.0038860678445410118, 0.000533381861015433, 0.6615459024765699, 0.012115387985921978, 0.0006857766784484138, 0.0771879750298048, 0.24398410271020235, 0.052649544372786766, 0.08784309007652123, 0.10135741162675527, 0.07029324195225897, 0.13739560242737936, 0.21876308009441345, 0.3316639747119936, 0.008718627379722428, 0.04590902229635092, 0.0010898284224653036, 0.002860799608971422, 0.8907985068125776, 0.002997028161779585, 0.047679993482857036, 0.10457914068372381, 0.038940610917493776, 0.11003672630473621, 0.03009047207260883, 0.25613776840237856, 0.13732465440979813, 0.32295631668125996, 0.0811200356937035, 0.23354254224869742, 0.018518622291728234, 0.32490364557150636, 0.15950655333602926, 0.03341822068444929, 0.14899598392721053, 0.03877441711421663, 0.5349433472239146, 0.06641914042713033, 0.20560015000686468, 0.06821425233056629, 0.035184193307344715, 0.050741829803789655, 0.11128968409768529, 0.15374630888246388, 0.41349060659958264, 0.14722398681407758, 0.04483583660846665, 0.09648114153990262, 0.03293977749002627, 0.02842925543974486, 0.012481136534522133, 0.02510095236387229, 0.009152833458649564, 0.7863116016748944, 0.07405474343816466, 0.06448587209503102, 0.05469868858916662, 0.05429471009146229, 0.48784443382775194, 0.22711671140937573, 0.0482350326258973, 0.1169921729351747, 0.01082662373847611, 0.0033874044040557733, 0.00012097872871627762, 0.00459719169121855, 0.019961490238185806, 0.0006048936435813882, 0.9712172341342767, 0.00012097872871627762, 0.0223524197194862, 0.0028160528780455055, 0.1819874172436908, 0.027984525475577213, 0.642324061151692, 0.10595398953646215, 0.016632312310956267, 0.012396202227179147, 0.022786855557819296, 0.037112204818812146, 0.008232300708650558, 0.8683453708043426, 0.030637146952843378, 0.020475699210379113, 0.5018004257019633, 0.24743289389216852, 0.021848286933243987, 0.155862253437731, 0.04904376454995878, 0.006140914300548501, 0.0178796688478555, 0.00026545708985372714, 0.003981856347805907, 0.06185150193591842, 0.062249687570699014, 0.07419525661411673, 0.7223087414919915, 0.07512435642860478, 0.7260211205435689, 0.01758693823912054, 0.014686378487783331, 0.034219261876535165, 0.10041811291021853, 0.01868841662570429, 0.08833856660401673, 0.09923336614658446, 0.1122630564684005, 0.04409322739339195, 0.20686993837028217, 0.13615082205839657, 0.029552848338611735, 0.3718182644008084, 0.1906887542423561, 0.12470637269345954, 0.3792426877775552, 0.03773706142343561, 0.16264049448986348, 0.03304045586769036, 0.07195987952893595, 0.003626631397260401, 0.02051482536659242, 0.018890960561848955, 0.0626270526362729, 0.04595537397424001, 0.02516990447352368, 0.8231911983512863, 0.34192081530694873, 0.04508864719916975, 0.20461861222302538, 0.01675210079999514, 0.1988349451439668, 0.16334581638074933, 0.029431678627162037, 0.037766527494132666, 0.04183919353111173, 0.07579132161500059, 0.02236986320799231, 0.4610655287132199, 0.30924448552007844, 0.05195132530097681, 0.521049168090609, 0.06573984831049738, 0.15539419242953187, 0.0413917563436465, 0.031485751803708543, 0.09662523620269453, 0.08832020209345362, 0.4498482824127643, 0.01328561032795081, 0.33425105610134187, 0.03101010448042724, 0.014527256152992942, 0.10373950868227011, 0.053297647039933504, 0.044812632692743576, 0.16281199843937466, 0.06960606264502421, 0.07462442647562807, 0.2276709601635574, 0.352479024945224, 0.06800561147742623, 0.022910428163263417, 0.012952028721631585, 0.16149306251971457, 0.010060223566801892, 0.5469788355885263, 0.033316853755643513, 0.2123033009795743, 0.011654353424043074, 0.006336347492683613, 0.041073109640074136, 0.0013577887484322027, 0.8996481948987036, 0.0037339190581885573, 0.03620769995819207, 0.7433519662442619, 0.18082750042840984, 0.0073470543291808315, 0.0036485371838789163, 0.017692906343741592, 0.017992786112279585, 0.02913831750960833, 0.10775052776513266, 0.02890867818088925, 0.03161637806560064, 0.04141188058970361, 0.629221670267785, 0.1548167228199689, 0.006291420320358817, 0.08787038438988778, 0.5929756552025081, 0.004632622306269594, 0.09295132498386088, 0.1584057949885732, 0.01628889778656083, 0.04677454135039945, 0.14550315960356414, 0.33406497552745934, 0.0974303948325395, 0.11338152734130842, 0.08683809073044932, 0.13688516070393456, 0.08583526904031061, 0.8402352199918722, 0.09063711895915588, 0.04608957466921159, 0.0008566835440373901, 0.0017133670880747803, 0.02004639493047493, 0.00034267341761495606, 0.059017571976075274, 0.026021384007633187, 0.7772211836712913, 0.06787020777248656, 0.028502804647536354, 0.036416524526146445, 0.00496284127980633, 0.15653186013240006, 0.030039097596622502, 0.05010427606936644, 0.054680544843851896, 0.5739110404104714, 0.12144713286134488, 0.013259445423509151, 0.10324081387806262, 0.04681531586757893, 0.2095019707153239, 0.08841367571472383, 0.059171264337027914, 0.4556599218900131, 0.03720513372467416, 0.004975742261949234, 0.013175204862626142, 0.01632884432442495, 0.03504043846443123, 0.15466849538199945, 0.03027493883326858, 0.7455904496461676, 0.16651774279210663, 0.13184445613259035, 0.4048177856520548, 0.08089478366926811, 0.03504580957403999, 0.15090043599091957, 0.03003107803237442, 0.1694024824772462, 0.08950454295662762, 0.3511847954201418, 0.06191727799510732, 0.13907824181980635, 0.10239189209436805, 0.08651380792466254, 0.1812537540033676, 0.14920575363124128, 0.532889282137027, 0.05298061833670503, 0.01955333693590492, 0.05111453223908755, 0.012981468505165093, 0.009379041645419063, 0.0704149588148385, 0.021138916939290656, 0.09198675459930235, 0.23757833952588442, 0.030301519162123126, 0.5392227481374006, 0.0013616582254931168, 0.0041897176169018975, 0.02126281690577713, 0.02733790745028488, 0.035822085624511224, 0.01770155693141052, 0.8923051094596817, 0.00014449347497178184, 0.014160360547234619, 0.009103088923222256, 0.08568463065826662, 0.07889343733459288, 0.01647225614678313, 0.7955810731946308, 0.8416631111991848, 0.033376630914896246, 0.04270653772638139, 0.02790641769506716, 0.00949651229026166, 0.014689049712129879, 0.030155591658550186, 0.1862040696026448, 0.015271524442848055, 0.23465433750508152, 0.015349044871491952, 0.02046539316198927, 0.45837829457137336, 0.06976838577950888, 0.0007807244210180938, 0.01873738610443425, 0.002146992157799758, 0.283012602619059, 0.06792302462857416, 0.6107216783414039, 0.01659039394663449, 0.0008380890237688578, 0.015253220232593212, 0.010559921699487608, 0.21471840788958138, 0.08514984481491596, 0.6501894646398799, 0.023298874860774248, 0.3913433468751996, 0.0446035563100014, 0.15046400575545393, 0.13987191969718724, 0.03260187705006423, 0.11568732776566955, 0.12543365790293395, 0.012376935981784602, 0.020083330083650486, 0.0002335270939959359, 0.0009341083759837436, 0.9567605041013494, 0.0014011625639756154, 0.008173448289857756, 0.8198803455178788, 0.07153900423609202, 0.06265082492191089, 0.0018426713212326732, 0.008237824730216657, 0.025363828774614443, 0.010514065774092312, 0.627075875971692, 0.18813809596966324, 0.007819920859374756, 0.01896203031913748, 0.05254169047998202, 0.06521711775530842, 0.04022403736162048, 0.02006437406723337, 0.1344921952469104, 0.06365799604712553, 0.17061966647201557, 0.1945403436475467, 0.32201580692296794, 0.09459540519414578, 0.5060643897021285, 0.12479763681583912, 0.01901881793940014, 0.04170605956374076, 0.10812945929591541, 0.15015606073503932, 0.05011137985156554, 0.06285229059731559, 0.09192019334501375, 0.049369295142915916, 0.03860340523636104, 0.28965370462873824, 0.34568759828523576, 0.1219108866561309, 0.07824147828247308, 0.32116148593244237, 0.035971701315626166, 0.09588416456185427, 0.3510773452757409, 0.023819645091155375, 0.09378480601144736, 0.1695608942389605, 0.07276362894043333, 0.10570381865120286, 0.21057923746971605, 0.20729074116419036, 0.022100703415151277, 0.21200006869790503, 0.052511190498348854, 0.04903013528250813, 0.5143522797708899, 0.2977251588239048, 0.018839892774216764, 0.0020886331295044344, 0.06544383805780561, 0.010259243347655378, 0.5206565998935104, 0.010259243347655378, 0.28469400289743674, 0.0512962167382769, 0.0012824054184569222, 0.1205461093349507, 0.025551190854567637, 0.05052948505320326, 0.24428313408940897, 0.04216519387659592, 0.04285266986371433, 0.48318103961305703, 0.11148568924436911, 0.3853370168603463, 0.027105867815162235, 0.5133128541049989, 0.005927149762248809, 0.012035005309932033, 0.05215168967637214, 0.00412009190790466, 0.13202794350579308, 0.0631211596690711, 0.15407117158454292, 0.013249079343920514, 0.11791102053672492, 0.39457956823379, 0.12508519450461203, 0.20494366912743034, 0.12281463694185969, 0.5156272830958564, 0.04625086501107828, 0.03651758005482986, 0.04426158049447276, 0.029626130122303602, 0.00032499330583074846, 0.004549906281630479, 0.0012999732233229938, 0.9514179028195162, 0.020149584961506407, 0.018199625126521915, 0.004062416322884356, 0.0001081400626387525, 0.001946521127497545, 0.0046500226934663574, 0.9600674761068447, 0.008110504697906439, 0.023141973404693036, 0.0018383810648587926, 0.1267579043097654, 0.5242837675391014, 0.021792189852681734, 0.1490948989087642, 0.07354864075280086, 0.07972309454439401, 0.025061018330583995, 0.32739189635352123, 0.056514634294806174, 0.015064331326926812, 0.060912296234964934, 0.06362574721931821, 0.47326327858134043, 0.0031812873609659105, 0.14091289953132413, 0.08415051989067111, 0.23612882891971737, 0.1528795641012589, 0.080361910605629, 0.26029581678201247, 0.045263032515569235, 0.06154378961146747, 0.10715693391201256, 0.19597806291909137, 0.2094752526407787, 0.04946139965096328, 0.342947462110798, 0.033445866354369906, 0.012975758394980035, 0.007403346814313763, 0.48551626043547996, 0.004716648373635381, 0.013154871624358595, 0.03759387669956639, 0.4386283972781595, 0.020702122671066112, 0.13582345032868773, 0.0018620956899900736, 0.6565530332823825, 0.09606223059537027, 0.0026288409741036336, 0.08642314702365694, 0.10353684837698925, 0.41319595545263843, 0.08189163261849167, 0.19881657363103514, 0.09086233428292394, 0.033402271727791415, 0.07825578004995282, 0.09400868825217193, 0.05200580899173918, 0.2064444461153724, 0.02863029357723747, 0.18099529626893912, 0.29188761032200866, 0.1460380612715467, 0.03405674172597216, 0.36635257585279146, 0.01922334404071156, 0.39592695130004, 0.061043359321586464, 0.03650586969269743, 0.0868285179146563, 0.04888048498858616, 0.23937984299914947, 0.010852364557098945, 0.1279861506031421, 0.16610395999791114, 0.008610140475053709, 0.3981293080079522, 0.04306373922499608, 0.019793485255293963, 0.4854051053650437, 0.29015528211630054, 0.014561120457372775, 0.003545615619643962, 0.1434425270587999, 0.26577971440532966, 0.08581721333590253, 0.10796904574379068, 0.34834179206297383, 0.009046740716198593, 0.1236528812844901, 0.059395657505883284, 0.110693875754466, 0.07187056711303756, 0.3065638627631605, 0.16131682974281106, 0.23539467317074386, 0.07479984969916022, 0.03935965615719738, 0.05104398829256168, 0.5625913344750191, 0.033223897705217664, 0.14920550423979567, 0.14618514990295772, 0.016007877985241236, 0.041781568326258574, 0.07301808405496957, 0.014735861723900713, 0.7025038694913437, 0.0016058310852968727, 0.0014169097811442995, 0.20601868217838112, 0.0008501458686865797, 0.02210833235997876, 0.4149179001139224, 0.020106754944672043, 0.1922879030568523, 0.23568574065236617, 0.03561897991329911, 0.07928975988362753, 0.925261017190207, 0.03212296906356826, 0.0007417747827379457, 0.0002678631159887026, 0.03799535276024366, 0.002967099130951783, 0.0006387505073576755, 0.010556001231425076, 0.4647572764391318, 0.08949143266197036, 0.24102869478420588, 0.08081205387168752, 0.003987822687427251, 0.10943054609910662, 0.07340798282864495, 0.5044636126372537, 0.2845362620617376, 0.025161389400525442, 0.002817680148978291, 0.10637978387019793, 0.0032131440295366477, 0.040306908625305095, 0.2910595510102558, 0.021186208193974418, 0.2477133952484892, 0.2232223746342848, 0.013868409263465149, 0.16261447542756688, 0.03297227033367605, 0.6249183463566309, 0.015655126727533993, 0.16290446082743848, 0.10904975261576762, 0.016807815853020228, 0.03766344700716654, 0.03370831453741136, 0.6044290994793451, 0.011344970726512749, 0.15690438301758844, 0.1404197967649737, 0.02212269291669986, 0.03107834405081068, 0.08479591341600387, 0.05045438226288138, 0.03287672650678077, 0.7201956177846778, 0.0452461879647775, 0.003580633579946421, 0.06282384372087811, 0.5871937193364176, 0.06671498459069446, 0.09737332102092199, 0.04247350927377037, 0.042677219150383174, 0.11030889818583527, 0.05337198767255557, 0.02471800442303583, 0.14305301772386878, 0.15570396486951704, 0.0472950793291158, 0.05936213660650338, 0.006422788550867579, 0.5633564078935214, 0.27192696695946894, 0.06095713728742859, 0.07452189071282735, 0.002274834425377432, 0.20528274360859675, 0.37513704737011166, 0.009941868970168036, 0.00816619648540041, 0.5634675574926283, 0.10616055431020534, 0.01633239297080082, 0.03266478594160164, 0.2613182875328131, 0.015759095761840564, 0.028405283718873117, 0.6638275893753087, 0.008949609938823037, 0.0247087057006636, 0.18755269523968277, 0.07081865255938229, 0.0035425491761913895, 0.03698931977662901, 3.191485744316567e-05, 0.0007978714360791418, 0.9525308352487226, 0.0014999982998287866, 0.004595739471815857, 0.03755308799978517, 0.4528487716096793, 0.011565429555762058, 0.16302187158679746, 0.2078091127350075, 0.029213077045231652, 0.0979144932509736, 0.0888361608344959, 0.0075835747053837966, 0.0859471799943497, 0.05850186201296072, 0.416013240981054, 0.012097607268112247, 0.33096886749925, 0.08510626162555218, 0.0936168877881074, 0.23829753255154612, 0.017021252325110436, 0.5191481959158684, 0.05106375697533131, 0.10731673629640225, 0.0571176032761961, 0.12362072821749484, 0.014319624483328037, 0.6095762242603239, 0.06425059974167412, 0.023812409253174713, 0.08594710004569392, 0.06695361673921758, 0.38673018852785257, 0.23989595219701632, 0.04154427452319573, 0.04780132504389111, 0.13111220583467276, 0.12229116724711907, 0.05012336865012836, 0.36527250962231134, 0.011699557793027504, 0.00972910595420182, 0.08903979246693564, 0.3520951129501646, 0.10522487867787263, 0.3534828474445576, 0.14746797733448372, 0.12723978658804005, 0.059408345693814084, 0.12239012571507563, 0.08477334828596349, 0.00021757289485738358, 0.0018493696062877605, 0.04231792804976111, 0.5640033366940527, 0.02572799481688561, 0.14522990731730354, 0.22061891538538697, 0.012922752154468696, 0.042801947887344295, 0.01703114156773909, 0.010868557447833499, 0.8873747642717391, 0.00855291977853564, 0.02042990008235369, 0.8256074893294737, 0.09338132591096103, 0.01579584617399341, 0.006208527774270136, 0.048907994303434135, 0.0061662928914519724, 0.00392784410208927, 0.030655743147565407, 0.4613315493182404, 0.035625756025147746, 0.17713917579170685, 0.20843266395453725, 0.01493202984016995, 0.07191124827298341, 0.021309109647756275, 0.10113875922367903, 0.005247765808775799, 0.05443894429911864, 0.28799102665736276, 0.41213514306294785, 0.1177301804170813, 0.03220690864482725, 0.1130146233208267, 0.2635932162434359, 0.021105529312341706, 0.020331014475191554, 0.18982067800488367, 0.3600203134686301, 0.07060885090820065, 0.4206793558997986, 0.08593782179977792, 0.164087251922542, 0.11009953688869592, 0.08337119272439836, 0.06522778029499107, 0.7682535068518642, 0.09320889042813751, 0.009255075174903328, 0.005306243100277908, 0.027436156185157864, 0.06643087292208388, 0.03006871090157481, 0.6585951588924474, 0.17230559192167744, 0.004737302079688062, 0.011567830659703408, 0.09331383398827416, 0.01883903850294555, 0.040762831848478676, 0.04764008343959356, 0.06492662800196038, 0.07254904135229534, 0.07091566706293785, 0.07826585136504657, 0.4555753122066276, 0.21016082523066418, 0.005764145340218821, 0.04478297533554622, 0.004514575371360195, 0.04530698854829339, 0.12153075664866954, 0.0022572876856800975, 0.7758217158265149, 0.01233449785190663, 0.19990559213890863, 0.02322354673679295, 0.17523659643509537, 0.5405015504011272, 0.013876310083394959, 0.03488350173742344, 0.0962836627985896, 0.5476333246218784, 0.005917766650411653, 0.10092191233539873, 0.197045635494788, 0.006237645928812283, 0.04590267645049039, 0.0009365286482456641, 0.0014885876408957399, 0.009907487278809394, 0.9710619098751858, 0.007147192315559016, 0.008389325049021686, 0.001074543396408183, 0.11321983907753827, 0.32760789643799276, 0.15498944882386004, 0.24943118108187098, 0.08041887736442359, 0.04308687992619907, 0.03125013299070596, 0.009220490238870487, 0.049175947940642596, 0.0061469934925803245, 0.2643207201809539, 0.09220490238870487, 0.5194209501230374, 0.05839643817951308, 0.022389941997331592, 0.7048010928250935, 0.005035058726672655, 0.09984414326082795, 0.14183867561945945, 0.007070507999157345, 0.0190689458159092, 0.046344878493054284, 0.2397973712995454, 0.021004694929916537, 0.10345372876514053, 0.19270499476628056, 0.01666920629669533, 0.3800280036430451, 0.059100539881685454, 0.10043465979893786, 0.16283467767401802, 0.5026083949938183, 0.10975296578028336, 0.007759211984466679, 0.05746892988495181, 0.017078792474207627, 0.012467518506171569, 0.7050125533352909, 0.11707512241069329, 0.04645431552984475, 0.030485644566460617, 0.07138935254218788, 0.0002309507405079978, 0.5293390972443309, 0.0002309507405079978, 0.002540458145587976, 0.0002309507405079978, 0.46744429878818755], \"Term\": [\"abuse\", \"abuse\", \"abuse\", \"abuse\", \"abuse\", \"abuse\", \"abuse\", \"access\", \"access\", \"access\", \"access\", \"access\", \"access\", \"access\", \"actually\", \"actually\", \"actually\", \"actually\", \"actually\", \"actually\", \"actually\", \"address\", \"address\", \"address\", \"address\", \"address\", \"address\", \"address\", \"africa\", \"africa\", \"africa\", \"africa\", \"africa\", \"africa\", \"africa\", \"african\", \"african\", \"african\", \"african\", \"african\", \"african\", \"african\", \"africans\", \"africans\", \"africans\", \"africans\", \"africans\", \"africans\", \"africans\", \"age\", \"age\", \"age\", \"age\", \"age\", \"age\", \"age\", \"american\", \"american\", \"american\", \"american\", \"american\", \"american\", \"american\", \"americans\", \"americans\", \"americans\", \"americans\", \"americans\", \"americans\", \"americans\", \"anc\", \"anc\", \"anc\", \"anc\", \"anc\", \"anc\", \"anc\", \"apartheid\", \"apartheid\", \"apartheid\", \"apartheid\", \"apartheid\", \"apartheid\", \"apartheid\", \"asia\", \"asia\", \"asia\", \"asia\", \"asia\", \"asia\", \"asia\", \"average\", \"average\", \"average\", \"average\", \"average\", \"average\", \"average\", \"bad\", \"bad\", \"bad\", \"bad\", \"bad\", \"bad\", \"bad\", \"bank\", \"bank\", \"bank\", \"bank\", \"bank\", \"bank\", \"bank\", \"best\", \"best\", \"best\", \"best\", \"best\", \"big\", \"big\", \"big\", \"big\", \"big\", \"big\", \"big\", \"bit\", \"bit\", \"bit\", \"bit\", \"bit\", \"bit\", \"bit\", \"black\", \"black\", \"black\", \"black\", \"black\", \"black\", \"black\", \"book\", \"book\", \"book\", \"book\", \"book\", \"book\", \"book\", \"brexit\", \"brexit\", \"brexit\", \"brexit\", \"britain\", \"britain\", \"britain\", \"britain\", \"britain\", \"britain\", \"britain\", \"budget\", \"budget\", \"budget\", \"budget\", \"budget\", \"budget\", \"budget\", \"building\", \"building\", \"building\", \"building\", \"building\", \"building\", \"building\", \"business\", \"business\", \"business\", \"business\", \"business\", \"business\", \"business\", \"buy\", \"buy\", \"buy\", \"buy\", \"buy\", \"buy\", \"buy\", \"calling\", \"calling\", \"calling\", \"campaign\", \"campaign\", \"campaign\", \"campaign\", \"campaign\", \"campaign\", \"campaign\", \"canada\", \"canada\", \"canada\", \"canada\", \"canada\", \"canada\", \"canada\", \"canadian\", \"canadian\", \"canadian\", \"canadian\", \"canadian\", \"canadian\", \"canadian\", \"candidate\", \"candidate\", \"candidate\", \"candidate\", \"candidate\", \"candidate\", \"candidate\", \"capacity\", \"capacity\", \"capacity\", \"capacity\", \"capacity\", \"capacity\", \"capacity\", \"cape\", \"cape\", \"cape\", \"cape\", \"cape\", \"cape\", \"cape\", \"capital\", \"capital\", \"capital\", \"capital\", \"capital\", \"capital\", \"capital\", \"capitalism\", \"capitalism\", \"capitalism\", \"capitalism\", \"capitalism\", \"capitalism\", \"capitalism\", \"career\", \"career\", \"career\", \"career\", \"career\", \"career\", \"career\", \"cent\", \"cent\", \"cent\", \"cent\", \"cent\", \"cent\", \"cent\", \"challenge\", \"challenge\", \"challenge\", \"challenge\", \"challenge\", \"challenge\", \"challenge\", \"change\", \"change\", \"change\", \"change\", \"change\", \"change\", \"change\", \"child\", \"child\", \"child\", \"child\", \"child\", \"child\", \"child\", \"china\", \"china\", \"china\", \"china\", \"china\", \"china\", \"china\", \"chinese\", \"chinese\", \"chinese\", \"chinese\", \"chinese\", \"chinese\", \"chinese\", \"church\", \"church\", \"church\", \"church\", \"church\", \"church\", \"church\", \"city\", \"city\", \"city\", \"city\", \"city\", \"city\", \"city\", \"climate\", \"climate\", \"climate\", \"climate\", \"climate\", \"climate\", \"climate\", \"clinton\", \"clinton\", \"clinton\", \"clinton\", \"clinton\", \"clinton\", \"clinton\", \"coalition\", \"coalition\", \"coalition\", \"coalition\", \"coalition\", \"coalition\", \"coalition\", \"com\", \"com\", \"com\", \"com\", \"com\", \"com\", \"com\", \"come\", \"come\", \"come\", \"come\", \"come\", \"come\", \"come\", \"commitment\", \"commitment\", \"commitment\", \"commitment\", \"commitment\", \"commitment\", \"commitment\", \"community\", \"community\", \"community\", \"community\", \"community\", \"community\", \"community\", \"company\", \"company\", \"company\", \"company\", \"company\", \"company\", \"company\", \"conflict\", \"conflict\", \"conflict\", \"conflict\", \"conflict\", \"conflict\", \"conflict\", \"congress\", \"congress\", \"congress\", \"congress\", \"congress\", \"congress\", \"congress\", \"conservative\", \"conservative\", \"conservative\", \"conservative\", \"conservative\", \"conservative\", \"conservative\", \"constitution\", \"constitution\", \"constitution\", \"constitution\", \"constitution\", \"constitution\", \"constitution\", \"cost\", \"cost\", \"cost\", \"cost\", \"cost\", \"cost\", \"cost\", \"court\", \"court\", \"court\", \"court\", \"court\", \"court\", \"court\", \"credit\", \"credit\", \"credit\", \"credit\", \"credit\", \"credit\", \"credit\", \"crime\", \"crime\", \"crime\", \"crime\", \"crime\", \"crime\", \"crime\", \"day\", \"day\", \"day\", \"day\", \"day\", \"day\", \"day\", \"debt\", \"debt\", \"debt\", \"debt\", \"debt\", \"debt\", \"debt\", \"democracy\", \"democracy\", \"democracy\", \"democracy\", \"democracy\", \"democracy\", \"democracy\", \"democratic\", \"democratic\", \"democratic\", \"democratic\", \"democratic\", \"democratic\", \"democratic\", \"department\", \"department\", \"department\", \"department\", \"department\", \"department\", \"department\", \"develop\", \"develop\", \"develop\", \"develop\", \"develop\", \"develop\", \"develop\", \"development\", \"development\", \"development\", \"development\", \"development\", \"development\", \"development\", \"digital\", \"digital\", \"digital\", \"digital\", \"digital\", \"digital\", \"digital\", \"discrimination\", \"discrimination\", \"discrimination\", \"discrimination\", \"discrimination\", \"discrimination\", \"discrimination\", \"diversity\", \"diversity\", \"diversity\", \"diversity\", \"diversity\", \"diversity\", \"diversity\", \"donald\", \"donald\", \"donald\", \"donald\", \"donald\", \"donald\", \"donald\", \"easy\", \"easy\", \"easy\", \"easy\", \"easy\", \"easy\", \"easy\", \"economic\", \"economic\", \"economic\", \"economic\", \"economic\", \"economic\", \"economic\", \"economy\", \"economy\", \"economy\", \"economy\", \"economy\", \"economy\", \"economy\", \"education\", \"education\", \"education\", \"education\", \"education\", \"education\", \"education\", \"educational\", \"educational\", \"educational\", \"educational\", \"educational\", \"educational\", \"educational\", \"election\", \"election\", \"election\", \"election\", \"election\", \"election\", \"election\", \"ensure\", \"ensure\", \"ensure\", \"ensure\", \"ensure\", \"ensure\", \"ensure\", \"environmental\", \"environmental\", \"environmental\", \"environmental\", \"environmental\", \"environmental\", \"environmental\", \"equal\", \"equal\", \"equal\", \"equal\", \"equal\", \"equal\", \"equal\", \"equality\", \"equality\", \"equality\", \"equality\", \"equality\", \"equality\", \"equality\", \"eu\", \"eu\", \"eu\", \"eu\", \"eu\", \"eu\", \"eu\", \"europe\", \"europe\", \"europe\", \"europe\", \"europe\", \"europe\", \"europe\", \"experience\", \"experience\", \"experience\", \"experience\", \"experience\", \"experience\", \"experience\", \"facebook\", \"facebook\", \"facebook\", \"facebook\", \"facebook\", \"facebook\", \"facebook\", \"family\", \"family\", \"family\", \"family\", \"family\", \"family\", \"family\", \"father\", \"father\", \"father\", \"father\", \"father\", \"father\", \"father\", \"feel\", \"feel\", \"feel\", \"feel\", \"feel\", \"feel\", \"feel\", \"female\", \"female\", \"female\", \"female\", \"female\", \"female\", \"female\", \"film\", \"film\", \"film\", \"film\", \"film\", \"film\", \"film\", \"financial\", \"financial\", \"financial\", \"financial\", \"financial\", \"financial\", \"financial\", \"fiscal\", \"fiscal\", \"fiscal\", \"fiscal\", \"fiscal\", \"fiscal\", \"fiscal\", \"following\", \"following\", \"following\", \"following\", \"foreign\", \"foreign\", \"foreign\", \"foreign\", \"foreign\", \"foreign\", \"foreign\", \"fund\", \"fund\", \"fund\", \"fund\", \"fund\", \"fund\", \"fund\", \"game\", \"game\", \"game\", \"game\", \"game\", \"game\", \"game\", \"gdp\", \"gdp\", \"gdp\", \"gdp\", \"gdp\", \"gdp\", \"gdp\", \"gender\", \"gender\", \"gender\", \"gender\", \"gender\", \"gender\", \"gender\", \"given\", \"given\", \"given\", \"given\", \"given\", \"given\", \"global\", \"global\", \"global\", \"global\", \"global\", \"global\", \"global\", \"goal\", \"goal\", \"goal\", \"goal\", \"goal\", \"goal\", \"goal\", \"god\", \"god\", \"god\", \"god\", \"god\", \"god\", \"god\", \"good\", \"good\", \"good\", \"good\", \"good\", \"good\", \"good\", \"governance\", \"governance\", \"governance\", \"governance\", \"governance\", \"governance\", \"governance\", \"group\", \"group\", \"group\", \"group\", \"group\", \"group\", \"group\", \"growth\", \"growth\", \"growth\", \"growth\", \"growth\", \"growth\", \"growth\", \"gt\", \"gt\", \"gt\", \"gt\", \"gt\", \"gt\", \"happen\", \"happen\", \"happen\", \"happen\", \"happen\", \"happen\", \"happen\", \"health\", \"health\", \"health\", \"health\", \"health\", \"health\", \"health\", \"help\", \"help\", \"help\", \"help\", \"help\", \"help\", \"help\", \"high\", \"high\", \"high\", \"high\", \"high\", \"high\", \"high\", \"house\", \"house\", \"house\", \"house\", \"house\", \"house\", \"house\", \"household\", \"household\", \"household\", \"household\", \"household\", \"household\", \"household\", \"human\", \"human\", \"human\", \"human\", \"human\", \"human\", \"human\", \"idea\", \"idea\", \"idea\", \"idea\", \"idea\", \"idea\", \"idea\", \"immigration\", \"immigration\", \"immigration\", \"immigration\", \"immigration\", \"immigration\", \"immigration\", \"improve\", \"improve\", \"improve\", \"improve\", \"improve\", \"improve\", \"improve\", \"include\", \"include\", \"include\", \"include\", \"include\", \"include\", \"include\", \"inclusive\", \"inclusive\", \"inclusive\", \"inclusive\", \"inclusive\", \"inclusive\", \"inclusive\", \"income\", \"income\", \"income\", \"income\", \"income\", \"income\", \"income\", \"increase\", \"increase\", \"increase\", \"increase\", \"increase\", \"increase\", \"increase\", \"india\", \"india\", \"india\", \"india\", \"india\", \"india\", \"india\", \"indian\", \"indian\", \"indian\", \"indian\", \"indian\", \"indian\", \"indian\", \"inflation\", \"inflation\", \"inflation\", \"inflation\", \"inflation\", \"inflation\", \"inflation\", \"infrastructure\", \"infrastructure\", \"infrastructure\", \"infrastructure\", \"infrastructure\", \"infrastructure\", \"infrastructure\", \"international\", \"international\", \"international\", \"international\", \"international\", \"international\", \"international\", \"internet\", \"internet\", \"internet\", \"internet\", \"internet\", \"internet\", \"internet\", \"investment\", \"investment\", \"investment\", \"investment\", \"investment\", \"investment\", \"investment\", \"issue\", \"issue\", \"issue\", \"issue\", \"issue\", \"issue\", \"issue\", \"job\", \"job\", \"job\", \"job\", \"job\", \"job\", \"job\", \"justice\", \"justice\", \"justice\", \"justice\", \"justice\", \"justice\", \"justice\", \"kind\", \"kind\", \"kind\", \"kind\", \"kind\", \"kind\", \"kind\", \"know\", \"know\", \"know\", \"know\", \"know\", \"know\", \"know\", \"labour\", \"labour\", \"labour\", \"labour\", \"labour\", \"labour\", \"labour\", \"land\", \"land\", \"land\", \"land\", \"land\", \"land\", \"land\", \"law\", \"law\", \"law\", \"law\", \"law\", \"law\", \"law\", \"lead\", \"lead\", \"lead\", \"lead\", \"lead\", \"lead\", \"lead\", \"leader\", \"leader\", \"leader\", \"leader\", \"leader\", \"leader\", \"leader\", \"leave\", \"leave\", \"leave\", \"leave\", \"leave\", \"leave\", \"leave\", \"left\", \"left\", \"let\", \"let\", \"let\", \"let\", \"let\", \"let\", \"let\", \"liberal\", \"liberal\", \"liberal\", \"liberal\", \"liberal\", \"liberal\", \"liberal\", \"life\", \"life\", \"life\", \"life\", \"life\", \"life\", \"life\", \"live\", \"live\", \"live\", \"live\", \"live\", \"live\", \"live\", \"living\", \"living\", \"living\", \"long\", \"long\", \"long\", \"long\", \"long\", \"long\", \"long\", \"look\", \"look\", \"look\", \"look\", \"look\", \"look\", \"look\", \"lot\", \"lot\", \"lot\", \"lot\", \"lot\", \"lot\", \"lot\", \"love\", \"love\", \"love\", \"love\", \"love\", \"love\", \"love\", \"low\", \"low\", \"low\", \"low\", \"low\", \"low\", \"low\", \"lower\", \"lower\", \"lower\", \"lower\", \"lower\", \"lower\", \"lower\", \"make\", \"make\", \"make\", \"make\", \"make\", \"make\", \"make\", \"making\", \"making\", \"making\", \"making\", \"male\", \"male\", \"male\", \"male\", \"male\", \"male\", \"male\", \"man\", \"man\", \"man\", \"man\", \"man\", \"man\", \"man\", \"management\", \"management\", \"management\", \"management\", \"management\", \"management\", \"management\", \"march\", \"march\", \"march\", \"march\", \"march\", \"march\", \"march\", \"market\", \"market\", \"market\", \"market\", \"market\", \"market\", \"market\", \"marriage\", \"marriage\", \"marriage\", \"marriage\", \"marriage\", \"marriage\", \"marriage\", \"maybe\", \"maybe\", \"maybe\", \"maybe\", \"maybe\", \"maybe\", \"maybe\", \"mean\", \"mean\", \"mean\", \"mean\", \"mean\", \"mean\", \"mean\", \"member\", \"member\", \"member\", \"member\", \"member\", \"member\", \"member\", \"military\", \"military\", \"military\", \"military\", \"military\", \"military\", \"military\", \"minimum\", \"minimum\", \"minimum\", \"minimum\", \"minimum\", \"minimum\", \"minimum\", \"minister\", \"minister\", \"minister\", \"minister\", \"minister\", \"minister\", \"minister\", \"money\", \"money\", \"money\", \"money\", \"money\", \"money\", \"money\", \"mother\", \"mother\", \"mother\", \"mother\", \"mother\", \"mother\", \"mother\", \"mr\", \"mr\", \"mr\", \"mr\", \"mr\", \"mr\", \"mr\", \"ms\", \"ms\", \"ms\", \"ms\", \"ms\", \"ms\", \"ms\", \"nation\", \"nation\", \"nation\", \"nation\", \"nation\", \"nation\", \"nation\", \"national\", \"national\", \"national\", \"national\", \"national\", \"national\", \"national\", \"natural\", \"natural\", \"natural\", \"natural\", \"natural\", \"natural\", \"natural\", \"need\", \"need\", \"need\", \"need\", \"need\", \"need\", \"need\", \"net\", \"net\", \"net\", \"net\", \"net\", \"net\", \"net\", \"nigeria\", \"nigeria\", \"nigeria\", \"nigeria\", \"nigeria\", \"nigeria\", \"nigeria\", \"north\", \"north\", \"north\", \"north\", \"north\", \"north\", \"north\", \"obama\", \"obama\", \"obama\", \"obama\", \"obama\", \"obama\", \"obama\", \"official\", \"official\", \"official\", \"official\", \"official\", \"official\", \"official\", \"old\", \"old\", \"old\", \"old\", \"old\", \"old\", \"old\", \"online\", \"online\", \"online\", \"online\", \"online\", \"online\", \"online\", \"opportunity\", \"opportunity\", \"opportunity\", \"opportunity\", \"opportunity\", \"opportunity\", \"opportunity\", \"opposition\", \"opposition\", \"opposition\", \"opposition\", \"opposition\", \"opposition\", \"opposition\", \"organisation\", \"organisation\", \"organisation\", \"organisation\", \"organisation\", \"organisation\", \"organisation\", \"pakistan\", \"pakistan\", \"pakistan\", \"pakistan\", \"pakistan\", \"pakistan\", \"pakistan\", \"parliament\", \"parliament\", \"parliament\", \"parliament\", \"parliament\", \"parliament\", \"parliament\", \"party\", \"party\", \"party\", \"party\", \"party\", \"party\", \"party\", \"pay\", \"pay\", \"pay\", \"pay\", \"pay\", \"pay\", \"pay\", \"peace\", \"peace\", \"peace\", \"peace\", \"peace\", \"peace\", \"peace\", \"percent\", \"percent\", \"percent\", \"percent\", \"percent\", \"percent\", \"percent\", \"photo\", \"photo\", \"photo\", \"photo\", \"photo\", \"photo\", \"photo\", \"plan\", \"plan\", \"plan\", \"plan\", \"plan\", \"plan\", \"plan\", \"police\", \"police\", \"police\", \"police\", \"police\", \"police\", \"police\", \"policy\", \"policy\", \"policy\", \"policy\", \"policy\", \"policy\", \"policy\", \"political\", \"political\", \"political\", \"political\", \"political\", \"political\", \"political\", \"poor\", \"poor\", \"poor\", \"poor\", \"poor\", \"poor\", \"poor\", \"poverty\", \"poverty\", \"poverty\", \"poverty\", \"poverty\", \"poverty\", \"poverty\", \"power\", \"power\", \"power\", \"power\", \"power\", \"power\", \"power\", \"president\", \"president\", \"president\", \"president\", \"president\", \"president\", \"president\", \"presidential\", \"presidential\", \"presidential\", \"presidential\", \"presidential\", \"presidential\", \"presidential\", \"price\", \"price\", \"price\", \"price\", \"price\", \"price\", \"price\", \"prime\", \"prime\", \"prime\", \"prime\", \"prime\", \"prime\", \"prime\", \"probably\", \"probably\", \"probably\", \"probably\", \"probably\", \"probably\", \"probably\", \"problem\", \"problem\", \"problem\", \"problem\", \"problem\", \"problem\", \"problem\", \"productivity\", \"productivity\", \"productivity\", \"productivity\", \"productivity\", \"productivity\", \"productivity\", \"programme\", \"programme\", \"programme\", \"programme\", \"programme\", \"programme\", \"programme\", \"progressive\", \"progressive\", \"progressive\", \"progressive\", \"progressive\", \"progressive\", \"progressive\", \"protection\", \"protection\", \"protection\", \"protection\", \"protection\", \"protection\", \"protection\", \"protest\", \"protest\", \"protest\", \"protest\", \"protest\", \"protest\", \"protest\", \"provide\", \"provide\", \"provide\", \"provide\", \"provide\", \"provide\", \"provide\", \"public\", \"public\", \"public\", \"public\", \"public\", \"public\", \"public\", \"quality\", \"quality\", \"quality\", \"quality\", \"quality\", \"quality\", \"quality\", \"race\", \"race\", \"race\", \"race\", \"race\", \"race\", \"race\", \"racial\", \"racial\", \"racial\", \"racial\", \"racial\", \"racial\", \"racial\", \"racism\", \"racism\", \"racism\", \"racism\", \"racism\", \"racism\", \"racism\", \"rate\", \"rate\", \"rate\", \"rate\", \"rate\", \"rate\", \"rate\", \"region\", \"region\", \"region\", \"region\", \"region\", \"region\", \"region\", \"religion\", \"religion\", \"religion\", \"religion\", \"religion\", \"religion\", \"religion\", \"religious\", \"religious\", \"religious\", \"religious\", \"religious\", \"religious\", \"religious\", \"report\", \"report\", \"report\", \"report\", \"report\", \"report\", \"report\", \"republican\", \"republican\", \"republican\", \"republican\", \"republican\", \"republican\", \"republican\", \"revenue\", \"revenue\", \"revenue\", \"revenue\", \"revenue\", \"revenue\", \"revenue\", \"rich\", \"rich\", \"rich\", \"rich\", \"rich\", \"rich\", \"rich\", \"right\", \"right\", \"right\", \"right\", \"right\", \"right\", \"right\", \"rise\", \"rise\", \"rise\", \"rise\", \"rise\", \"rise\", \"rise\", \"rule\", \"rule\", \"rule\", \"rule\", \"rule\", \"rule\", \"rule\", \"run\", \"run\", \"run\", \"run\", \"run\", \"run\", \"run\", \"say\", \"say\", \"say\", \"say\", \"say\", \"say\", \"say\", \"school\", \"school\", \"school\", \"school\", \"school\", \"school\", \"school\", \"second\", \"second\", \"second\", \"second\", \"second\", \"second\", \"second\", \"section\", \"section\", \"section\", \"section\", \"section\", \"section\", \"section\", \"sector\", \"sector\", \"sector\", \"sector\", \"sector\", \"sector\", \"sector\", \"security\", \"security\", \"security\", \"security\", \"security\", \"security\", \"security\", \"service\", \"service\", \"service\", \"service\", \"service\", \"service\", \"service\", \"sex\", \"sex\", \"sex\", \"sex\", \"sex\", \"sex\", \"sex\", \"sexual\", \"sexual\", \"sexual\", \"sexual\", \"sexual\", \"sexual\", \"sexual\", \"simple\", \"simple\", \"simple\", \"simple\", \"simple\", \"simple\", \"simple\", \"singapore\", \"singapore\", \"singapore\", \"singapore\", \"singapore\", \"singapore\", \"singapore\", \"social\", \"social\", \"social\", \"social\", \"social\", \"social\", \"social\", \"society\", \"society\", \"society\", \"society\", \"society\", \"society\", \"society\", \"south\", \"south\", \"south\", \"south\", \"south\", \"south\", \"south\", \"star\", \"star\", \"star\", \"star\", \"star\", \"star\", \"star\", \"start\", \"start\", \"start\", \"start\", \"start\", \"start\", \"start\", \"state\", \"state\", \"state\", \"state\", \"state\", \"state\", \"state\", \"story\", \"story\", \"story\", \"story\", \"story\", \"story\", \"story\", \"street\", \"street\", \"street\", \"street\", \"street\", \"street\", \"street\", \"student\", \"student\", \"student\", \"student\", \"student\", \"student\", \"student\", \"study\", \"study\", \"study\", \"study\", \"study\", \"study\", \"study\", \"support\", \"support\", \"support\", \"support\", \"support\", \"support\", \"support\", \"sure\", \"sure\", \"sure\", \"sure\", \"sure\", \"sure\", \"sure\", \"sustainable\", \"sustainable\", \"sustainable\", \"sustainable\", \"sustainable\", \"sustainable\", \"sustainable\", \"talk\", \"talk\", \"talk\", \"talk\", \"talk\", \"talk\", \"talk\", \"tax\", \"tax\", \"tax\", \"tax\", \"tax\", \"tax\", \"tax\", \"team\", \"team\", \"team\", \"team\", \"team\", \"team\", \"team\", \"technology\", \"technology\", \"technology\", \"technology\", \"technology\", \"technology\", \"technology\", \"tell\", \"tell\", \"tell\", \"tell\", \"tell\", \"tell\", \"tell\", \"thing\", \"thing\", \"thing\", \"thing\", \"thing\", \"thing\", \"thing\", \"think\", \"think\", \"think\", \"think\", \"think\", \"think\", \"think\", \"toronto\", \"toronto\", \"toronto\", \"toronto\", \"toronto\", \"toronto\", \"toronto\", \"total\", \"total\", \"total\", \"total\", \"total\", \"total\", \"total\", \"town\", \"town\", \"town\", \"town\", \"town\", \"town\", \"town\", \"trade\", \"trade\", \"trade\", \"trade\", \"trade\", \"trade\", \"trade\", \"training\", \"training\", \"training\", \"training\", \"training\", \"training\", \"transformation\", \"transformation\", \"transformation\", \"transformation\", \"transformation\", \"transformation\", \"transformation\", \"trump\", \"trump\", \"trump\", \"trump\", \"trump\", \"trump\", \"trump\", \"try\", \"try\", \"try\", \"try\", \"try\", \"try\", \"try\", \"tuesday\", \"tuesday\", \"tuesday\", \"tuesday\", \"tuesday\", \"tuesday\", \"tuesday\", \"understanding\", \"understanding\", \"understanding\", \"understanding\", \"understanding\", \"understanding\", \"union\", \"union\", \"union\", \"union\", \"union\", \"union\", \"union\", \"university\", \"university\", \"university\", \"university\", \"university\", \"university\", \"university\", \"urban\", \"urban\", \"urban\", \"urban\", \"urban\", \"urban\", \"urban\", \"use\", \"use\", \"use\", \"use\", \"use\", \"use\", \"use\", \"violence\", \"violence\", \"violence\", \"violence\", \"violence\", \"violence\", \"violence\", \"vote\", \"vote\", \"vote\", \"vote\", \"vote\", \"vote\", \"vote\", \"wage\", \"wage\", \"wage\", \"wage\", \"wage\", \"wage\", \"wage\", \"want\", \"want\", \"want\", \"want\", \"want\", \"want\", \"want\", \"war\", \"war\", \"war\", \"war\", \"war\", \"war\", \"war\", \"water\", \"water\", \"water\", \"water\", \"water\", \"water\", \"water\", \"way\", \"way\", \"way\", \"way\", \"way\", \"way\", \"way\", \"wealth\", \"wealth\", \"wealth\", \"wealth\", \"wealth\", \"wealth\", \"wealth\", \"wealthy\", \"wealthy\", \"wealthy\", \"wealthy\", \"wealthy\", \"wealthy\", \"wealthy\", \"western\", \"western\", \"western\", \"western\", \"western\", \"western\", \"western\", \"white\", \"white\", \"white\", \"white\", \"white\", \"white\", \"white\", \"win\", \"win\", \"win\", \"win\", \"win\", \"win\", \"win\", \"wo\", \"wo\", \"wo\", \"wo\", \"wo\", \"wo\", \"wo\", \"woman\", \"woman\", \"woman\", \"woman\", \"woman\", \"woman\", \"woman\", \"work\", \"work\", \"work\", \"work\", \"work\", \"work\", \"work\", \"writing\", \"writing\", \"writing\", \"writing\", \"writing\", \"writing\", \"writing\", \"yes\", \"yes\", \"yes\", \"yes\", \"yes\", \"yes\", \"yes\", \"york\", \"york\", \"york\", \"york\", \"york\", \"york\", \"york\", \"young\", \"young\", \"young\", \"young\", \"young\", \"young\", \"young\", \"youth\", \"youth\", \"youth\", \"youth\", \"youth\", \"youth\", \"youth\", \"zuma\", \"zuma\", \"zuma\", \"zuma\", \"zuma\", \"zuma\"]}, \"R\": 30, \"lambda.step\": 0.01, \"plot.opts\": {\"xlab\": \"PC1\", \"ylab\": \"PC2\"}, \"topic.order\": [4, 5, 3, 1, 2, 7, 6]};\n",
       "\n",
       "function LDAvis_load_lib(url, callback){\n",
       "  var s = document.createElement('script');\n",
       "  s.src = url;\n",
       "  s.async = true;\n",
       "  s.onreadystatechange = s.onload = callback;\n",
       "  s.onerror = function(){console.warn(\"failed to load library \" + url);};\n",
       "  document.getElementsByTagName(\"head\")[0].appendChild(s);\n",
       "}\n",
       "\n",
       "if(typeof(LDAvis) !== \"undefined\"){\n",
       "   // already loaded: just create the visualization\n",
       "   !function(LDAvis){\n",
       "       new LDAvis(\"#\" + \"ldavis_el3321222660500154084019141519\", ldavis_el3321222660500154084019141519_data);\n",
       "   }(LDAvis);\n",
       "}else if(typeof define === \"function\" && define.amd){\n",
       "   // require.js is available: use it to load d3/LDAvis\n",
       "   require.config({paths: {d3: \"https://d3js.org/d3.v5\"}});\n",
       "   require([\"d3\"], function(d3){\n",
       "      window.d3 = d3;\n",
       "      LDAvis_load_lib(\"https://cdn.jsdelivr.net/gh/bmabey/pyLDAvis@3.2.2/pyLDAvis/js/ldavis.v3.0.0.js\", function(){\n",
       "        new LDAvis(\"#\" + \"ldavis_el3321222660500154084019141519\", ldavis_el3321222660500154084019141519_data);\n",
       "      });\n",
       "    });\n",
       "}else{\n",
       "    // require.js not available: dynamically load d3 & LDAvis\n",
       "    LDAvis_load_lib(\"https://d3js.org/d3.v5.js\", function(){\n",
       "         LDAvis_load_lib(\"https://cdn.jsdelivr.net/gh/bmabey/pyLDAvis@3.2.2/pyLDAvis/js/ldavis.v3.0.0.js\", function(){\n",
       "                 new LDAvis(\"#\" + \"ldavis_el3321222660500154084019141519\", ldavis_el3321222660500154084019141519_data);\n",
       "            })\n",
       "         });\n",
       "}\n",
       "</script>"
      ],
      "text/plain": [
       "PreparedData(topic_coordinates=              x         y  topics  cluster       Freq\n",
       "topic                                                \n",
       "3      0.147832  0.066438       1        1  17.570420\n",
       "4     -0.027578  0.089113       2        1  17.316696\n",
       "2      0.074329 -0.078463       3        1  14.610292\n",
       "0     -0.081089  0.055247       4        1  14.380229\n",
       "1     -0.068835 -0.003521       5        1  14.303541\n",
       "6      0.033562 -0.065936       6        1  12.425372\n",
       "5     -0.078221 -0.062878       7        1   9.393448, topic_info=         Term           Freq          Total Category  logprob  loglift\n",
       "393     woman  101438.000000  101438.000000  Default  30.0000  30.0000\n",
       "355     party   52354.000000   52354.000000  Default  29.0000  29.0000\n",
       "610       tax   48532.000000   48532.000000  Default  28.0000  28.0000\n",
       "609     south   50247.000000   50247.000000  Default  27.0000  27.0000\n",
       "578    income   49108.000000   49108.000000  Default  26.0000  26.0000\n",
       "..        ...            ...            ...      ...      ...      ...\n",
       "166  national    7117.738311   48812.516522   Topic7  -5.0364   0.4398\n",
       "502    report    6228.520470   49659.717369   Topic7  -5.1699   0.2891\n",
       "178     right    6524.694974   68977.980343   Topic7  -5.1234   0.0070\n",
       "21       come    6054.842265   60227.031468   Topic7  -5.1982   0.0679\n",
       "384      tell    5511.430965   33889.971883   Topic7  -5.2922   0.5489\n",
       "\n",
       "[385 rows x 6 columns], token_table=      Topic      Freq   Term\n",
       "term                        \n",
       "503       1  0.012142  abuse\n",
       "503       2  0.043496  abuse\n",
       "503       3  0.062843  abuse\n",
       "503       4  0.607479  abuse\n",
       "503       5  0.055238  abuse\n",
       "...     ...       ...    ...\n",
       "656       3  0.529339   zuma\n",
       "656       4  0.000231   zuma\n",
       "656       5  0.002540   zuma\n",
       "656       6  0.000231   zuma\n",
       "656       7  0.467444   zuma\n",
       "\n",
       "[2022 rows x 3 columns], R=30, lambda_step=0.01, plot_opts={'xlab': 'PC1', 'ylab': 'PC2'}, topic_order=[4, 5, 3, 1, 2, 7, 6])"
      ]
     },
     "execution_count": 75,
     "metadata": {},
     "output_type": "execute_result"
    }
   ],
   "source": [
    "pyLDAvis.gensim.prepare(nowlda1, corpus, dictionary)"
   ]
  },
  {
   "cell_type": "code",
   "execution_count": 76,
   "metadata": {
    "ExecuteTime": {
     "end_time": "2021-03-10T03:47:03.522000Z",
     "start_time": "2021-03-10T03:47:00.415576Z"
    }
   },
   "outputs": [
    {
     "name": "stdout",
     "output_type": "stream",
     "text": [
      "-0.9416803810611282\n"
     ]
    }
   ],
   "source": [
    "print(cm.get_coherence())"
   ]
  },
  {
   "cell_type": "code",
   "execution_count": 77,
   "metadata": {
    "ExecuteTime": {
     "end_time": "2021-03-10T03:47:17.944169Z",
     "start_time": "2021-03-10T03:47:17.939166Z"
    }
   },
   "outputs": [],
   "source": [
    "#\n",
    "goodcm = CoherenceModel(model=nowlda1, texts=now_df[\"reduced_tokens\"], dictionary=dictionary, coherence='c_v')"
   ]
  },
  {
   "cell_type": "code",
   "execution_count": 78,
   "metadata": {
    "ExecuteTime": {
     "end_time": "2021-03-10T03:47:31.447993Z",
     "start_time": "2021-03-10T03:47:31.445029Z"
    }
   },
   "outputs": [],
   "source": [
    "#print(goodcm)"
   ]
  },
  {
   "cell_type": "code",
   "execution_count": 79,
   "metadata": {
    "ExecuteTime": {
     "end_time": "2021-03-10T03:50:46.385360Z",
     "start_time": "2021-03-10T03:47:45.338712Z"
    }
   },
   "outputs": [
    {
     "name": "stdout",
     "output_type": "stream",
     "text": [
      "0.4213794729406689\n"
     ]
    }
   ],
   "source": [
    "print(goodcm.get_coherence())"
   ]
  },
  {
   "cell_type": "code",
   "execution_count": null,
   "metadata": {},
   "outputs": [],
   "source": []
  }
 ],
 "metadata": {
  "kernelspec": {
   "display_name": "Python 3",
   "language": "python",
   "name": "python3"
  },
  "language_info": {
   "codemirror_mode": {
    "name": "ipython",
    "version": 3
   },
   "file_extension": ".py",
   "mimetype": "text/x-python",
   "name": "python",
   "nbconvert_exporter": "python",
   "pygments_lexer": "ipython3",
   "version": "3.8.5"
  },
  "toc": {
   "base_numbering": 1,
   "nav_menu": {},
   "number_sections": true,
   "sideBar": true,
   "skip_h1_title": false,
   "title_cell": "Table of Contents",
   "title_sidebar": "Contents",
   "toc_cell": false,
   "toc_position": {},
   "toc_section_display": true,
   "toc_window_display": false
  },
  "varInspector": {
   "cols": {
    "lenName": 16,
    "lenType": 16,
    "lenVar": 40
   },
   "kernels_config": {
    "python": {
     "delete_cmd_postfix": "",
     "delete_cmd_prefix": "del ",
     "library": "var_list.py",
     "varRefreshCmd": "print(var_dic_list())"
    },
    "r": {
     "delete_cmd_postfix": ") ",
     "delete_cmd_prefix": "rm(",
     "library": "var_list.r",
     "varRefreshCmd": "cat(var_dic_list()) "
    }
   },
   "types_to_exclude": [
    "module",
    "function",
    "builtin_function_or_method",
    "instance",
    "_Feature"
   ],
   "window_display": false
  }
 },
 "nbformat": 4,
 "nbformat_minor": 4
}
