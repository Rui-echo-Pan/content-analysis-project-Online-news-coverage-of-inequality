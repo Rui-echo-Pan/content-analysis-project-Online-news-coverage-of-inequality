{
 "cells": [
  {
   "cell_type": "code",
   "execution_count": 20,
   "metadata": {
    "ExecuteTime": {
     "end_time": "2021-03-04T02:29:08.728160Z",
     "start_time": "2021-03-04T02:29:04.422541Z"
    }
   },
   "outputs": [
    {
     "data": {
      "text/html": [
       "<div>\n",
       "<style scoped>\n",
       "    .dataframe tbody tr th:only-of-type {\n",
       "        vertical-align: middle;\n",
       "    }\n",
       "\n",
       "    .dataframe tbody tr th {\n",
       "        vertical-align: top;\n",
       "    }\n",
       "\n",
       "    .dataframe thead th {\n",
       "        text-align: right;\n",
       "    }\n",
       "</style>\n",
       "<table border=\"1\" class=\"dataframe\">\n",
       "  <thead>\n",
       "    <tr style=\"text-align: right;\">\n",
       "      <th></th>\n",
       "      <th>id</th>\n",
       "      <th>text</th>\n",
       "      <th>month</th>\n",
       "      <th>year</th>\n",
       "    </tr>\n",
       "  </thead>\n",
       "  <tbody>\n",
       "    <tr>\n",
       "      <th>0</th>\n",
       "      <td>1705816</td>\n",
       "      <td>For those of us who have not known war , the ...</td>\n",
       "      <td>11</td>\n",
       "      <td>10</td>\n",
       "    </tr>\n",
       "    <tr>\n",
       "      <th>1</th>\n",
       "      <td>4512620</td>\n",
       "      <td>Kazi Khaleed Ashraf   ONCE upon a time , Dhak...</td>\n",
       "      <td>3</td>\n",
       "      <td>10</td>\n",
       "    </tr>\n",
       "    <tr>\n",
       "      <th>2</th>\n",
       "      <td>1448476</td>\n",
       "      <td>There is a myth in wide circulation that the ...</td>\n",
       "      <td>4</td>\n",
       "      <td>10</td>\n",
       "    </tr>\n",
       "    <tr>\n",
       "      <th>3</th>\n",
       "      <td>1490802</td>\n",
       "      <td>Please turn on JavaScript . Media requires Ja...</td>\n",
       "      <td>5</td>\n",
       "      <td>10</td>\n",
       "    </tr>\n",
       "    <tr>\n",
       "      <th>4</th>\n",
       "      <td>1647381</td>\n",
       "      <td>Image caption The death of Mono Jojoy could c...</td>\n",
       "      <td>9</td>\n",
       "      <td>10</td>\n",
       "    </tr>\n",
       "    <tr>\n",
       "      <th>...</th>\n",
       "      <td>...</td>\n",
       "      <td>...</td>\n",
       "      <td>...</td>\n",
       "      <td>...</td>\n",
       "    </tr>\n",
       "    <tr>\n",
       "      <th>45425</th>\n",
       "      <td>31034526</td>\n",
       "      <td>Can an academic study also double up as a riv...</td>\n",
       "      <td>6</td>\n",
       "      <td>19</td>\n",
       "    </tr>\n",
       "    <tr>\n",
       "      <th>45426</th>\n",
       "      <td>50673735</td>\n",
       "      <td>Glasgow Southside , where Nicola Sturgeon is ...</td>\n",
       "      <td>5</td>\n",
       "      <td>19</td>\n",
       "    </tr>\n",
       "    <tr>\n",
       "      <th>45427</th>\n",
       "      <td>31262587</td>\n",
       "      <td>Rabbi Joachim Prinz , second from the left , ...</td>\n",
       "      <td>9</td>\n",
       "      <td>19</td>\n",
       "    </tr>\n",
       "    <tr>\n",
       "      <th>45428</th>\n",
       "      <td>50662844</td>\n",
       "      <td>The global rate of species extinction is ten ...</td>\n",
       "      <td>5</td>\n",
       "      <td>19</td>\n",
       "    </tr>\n",
       "    <tr>\n",
       "      <th>45429</th>\n",
       "      <td>30663231</td>\n",
       "      <td>I am very thankful to this story as it is for...</td>\n",
       "      <td>3</td>\n",
       "      <td>19</td>\n",
       "    </tr>\n",
       "  </tbody>\n",
       "</table>\n",
       "<p>45430 rows × 4 columns</p>\n",
       "</div>"
      ],
      "text/plain": [
       "             id                                               text  month  \\\n",
       "0       1705816   For those of us who have not known war , the ...     11   \n",
       "1       4512620   Kazi Khaleed Ashraf   ONCE upon a time , Dhak...      3   \n",
       "2       1448476   There is a myth in wide circulation that the ...      4   \n",
       "3       1490802   Please turn on JavaScript . Media requires Ja...      5   \n",
       "4       1647381   Image caption The death of Mono Jojoy could c...      9   \n",
       "...         ...                                                ...    ...   \n",
       "45425  31034526   Can an academic study also double up as a riv...      6   \n",
       "45426  50673735   Glasgow Southside , where Nicola Sturgeon is ...      5   \n",
       "45427  31262587   Rabbi Joachim Prinz , second from the left , ...      9   \n",
       "45428  50662844   The global rate of species extinction is ten ...      5   \n",
       "45429  30663231   I am very thankful to this story as it is for...      3   \n",
       "\n",
       "       year  \n",
       "0        10  \n",
       "1        10  \n",
       "2        10  \n",
       "3        10  \n",
       "4        10  \n",
       "...     ...  \n",
       "45425    19  \n",
       "45426    19  \n",
       "45427    19  \n",
       "45428    19  \n",
       "45429    19  \n",
       "\n",
       "[45430 rows x 4 columns]"
      ]
     },
     "execution_count": 20,
     "metadata": {},
     "output_type": "execute_result"
    }
   ],
   "source": [
    "#All these packages need to be installed from pip\n",
    "#These are all for the cluster detection\n",
    "import sklearn\n",
    "import sklearn.feature_extraction.text\n",
    "import sklearn.pipeline\n",
    "import sklearn.preprocessing\n",
    "import sklearn.datasets\n",
    "import sklearn.cluster\n",
    "import sklearn.decomposition\n",
    "import sklearn.metrics\n",
    "\n",
    "import scipy #For hierarchical clustering and some visuals\n",
    "#import scipy.cluster.hierarchy\n",
    "import gensim#For topic modeling\n",
    "import requests #For downloading our datasets\n",
    "import numpy as np #for arrays\n",
    "import pandas #gives us DataFrames\n",
    "import matplotlib.pyplot as plt #For graphics\n",
    "import matplotlib.cm #Still for graphics\n",
    "import seaborn as sns #Makes the graphics look nicer\n",
    "\n",
    "#This 'magic' command makes the plots work better\n",
    "#in the notebook, don't use it outside of a notebook.\n",
    "#Also you can ignore the warning, it\n",
    "%matplotlib inline\n",
    "\n",
    "import itertools\n",
    "import json\n",
    "\n",
    "import numpy as np\n",
    "import pandas as pd  \n",
    "import gensim#For topic modeling\n",
    "import lucem_illud\n",
    "\n",
    "now_df = pd.read_table('data/sample.txt' ,header=0, encoding='gb2312', sep=',') \n",
    "now_df"
   ]
  },
  {
   "cell_type": "code",
   "execution_count": 21,
   "metadata": {
    "ExecuteTime": {
     "end_time": "2021-03-04T02:29:12.433906Z",
     "start_time": "2021-03-04T02:29:12.393859Z"
    }
   },
   "outputs": [],
   "source": [
    "now_df = now_df.dropna(axis = 0)"
   ]
  },
  {
   "cell_type": "code",
   "execution_count": 22,
   "metadata": {
    "ExecuteTime": {
     "end_time": "2021-03-04T02:29:45.362873Z",
     "start_time": "2021-03-04T02:29:14.896177Z"
    }
   },
   "outputs": [
    {
     "name": "stdout",
     "output_type": "stream",
     "text": [
      "(45429, 1000)\n"
     ]
    }
   ],
   "source": [
    "#initialize\n",
    "nowTFVectorizer = sklearn.feature_extraction.text.TfidfVectorizer(max_df=0.5, max_features=1000, \n",
    "                                                                  min_df=3, stop_words='english', norm='l2')\n",
    "#train\n",
    "nowTFVects = nowTFVectorizer.fit_transform(now_df['text'])\n",
    "print(nowTFVects.shape)"
   ]
  },
  {
   "cell_type": "code",
   "execution_count": 23,
   "metadata": {
    "ExecuteTime": {
     "end_time": "2021-03-04T02:41:47.049641Z",
     "start_time": "2021-03-04T02:29:47.815896Z"
    }
   },
   "outputs": [
    {
     "name": "stderr",
     "output_type": "stream",
     "text": [
      "<ipython-input-23-43b3eec8bbab>:1: SettingWithCopyWarning: \n",
      "A value is trying to be set on a copy of a slice from a DataFrame.\n",
      "Try using .loc[row_indexer,col_indexer] = value instead\n",
      "\n",
      "See the caveats in the documentation: https://pandas.pydata.org/pandas-docs/stable/user_guide/indexing.html#returning-a-view-versus-a-copy\n",
      "  now_df['tokenized_text'] = now_df['text'].apply(lambda x: lucem_illud.word_tokenize(x))\n",
      "<ipython-input-23-43b3eec8bbab>:2: SettingWithCopyWarning: \n",
      "A value is trying to be set on a copy of a slice from a DataFrame.\n",
      "Try using .loc[row_indexer,col_indexer] = value instead\n",
      "\n",
      "See the caveats in the documentation: https://pandas.pydata.org/pandas-docs/stable/user_guide/indexing.html#returning-a-view-versus-a-copy\n",
      "  now_df['normalized_tokens'] = now_df['tokenized_text'].apply(lambda x: lucem_illud.normalizeTokens(x))\n"
     ]
    }
   ],
   "source": [
    "now_df['tokenized_text'] = now_df['text'].apply(lambda x: lucem_illud.word_tokenize(x))\n",
    "now_df['normalized_tokens'] = now_df['tokenized_text'].apply(lambda x: lucem_illud.normalizeTokens(x))"
   ]
  },
  {
   "cell_type": "code",
   "execution_count": 24,
   "metadata": {
    "ExecuteTime": {
     "end_time": "2021-03-04T02:41:55.424641Z",
     "start_time": "2021-03-04T02:41:49.838389Z"
    }
   },
   "outputs": [
    {
     "name": "stderr",
     "output_type": "stream",
     "text": [
      "<ipython-input-24-6163dab1691c>:4: SettingWithCopyWarning: \n",
      "A value is trying to be set on a copy of a slice from a DataFrame.\n",
      "Try using .loc[row_indexer,col_indexer] = value instead\n",
      "\n",
      "See the caveats in the documentation: https://pandas.pydata.org/pandas-docs/stable/user_guide/indexing.html#returning-a-view-versus-a-copy\n",
      "  now_df['reduced_tokens'] = now_df['normalized_tokens'].apply(lambda x: dropMissing(x, nowTFVectorizer.vocabulary_.keys()))\n"
     ]
    }
   ],
   "source": [
    "def dropMissing(wordLst, vocab):\n",
    "    return [w for w in wordLst if w in vocab]\n",
    "\n",
    "now_df['reduced_tokens'] = now_df['normalized_tokens'].apply(lambda x: dropMissing(x, nowTFVectorizer.vocabulary_.keys()))"
   ]
  },
  {
   "cell_type": "code",
   "execution_count": 116,
   "metadata": {
    "ExecuteTime": {
     "end_time": "2021-03-05T04:05:45.227754Z",
     "start_time": "2021-03-05T04:05:45.176779Z"
    }
   },
   "outputs": [
    {
     "data": {
      "text/html": [
       "<div>\n",
       "<style scoped>\n",
       "    .dataframe tbody tr th:only-of-type {\n",
       "        vertical-align: middle;\n",
       "    }\n",
       "\n",
       "    .dataframe tbody tr th {\n",
       "        vertical-align: top;\n",
       "    }\n",
       "\n",
       "    .dataframe thead th {\n",
       "        text-align: right;\n",
       "    }\n",
       "</style>\n",
       "<table border=\"1\" class=\"dataframe\">\n",
       "  <thead>\n",
       "    <tr style=\"text-align: right;\">\n",
       "      <th></th>\n",
       "      <th>id</th>\n",
       "      <th>text</th>\n",
       "      <th>month</th>\n",
       "      <th>year</th>\n",
       "      <th>tokenized_text</th>\n",
       "      <th>normalized_tokens</th>\n",
       "      <th>reduced_tokens</th>\n",
       "    </tr>\n",
       "  </thead>\n",
       "  <tbody>\n",
       "    <tr>\n",
       "      <th>0</th>\n",
       "      <td>1705816</td>\n",
       "      <td>For those of us who have not known war , the ...</td>\n",
       "      <td>11</td>\n",
       "      <td>10</td>\n",
       "      <td>[For, those, of, us, who, have, not, known, wa...</td>\n",
       "      <td>[know, war, word, soldier, help, understand, r...</td>\n",
       "      <td>[know, war, word, help, understand, day, war, ...</td>\n",
       "    </tr>\n",
       "    <tr>\n",
       "      <th>1</th>\n",
       "      <td>4512620</td>\n",
       "      <td>Kazi Khaleed Ashraf   ONCE upon a time , Dhak...</td>\n",
       "      <td>3</td>\n",
       "      <td>10</td>\n",
       "      <td>[Kazi, Khaleed, Ashraf, ONCE, upon, a, time, D...</td>\n",
       "      <td>[kazi, khaleed, ashraf, time, dhaka, fine, cit...</td>\n",
       "      <td>[city, street, heart, city, air, sense, commun...</td>\n",
       "    </tr>\n",
       "    <tr>\n",
       "      <th>2</th>\n",
       "      <td>1448476</td>\n",
       "      <td>There is a myth in wide circulation that the ...</td>\n",
       "      <td>4</td>\n",
       "      <td>10</td>\n",
       "      <td>[There, is, a, myth, in, wide, circulation, th...</td>\n",
       "      <td>[myth, wide, circulation, superiority, free, t...</td>\n",
       "      <td>[free, trade, simply, question, agree, course,...</td>\n",
       "    </tr>\n",
       "    <tr>\n",
       "      <th>3</th>\n",
       "      <td>1490802</td>\n",
       "      <td>Please turn on JavaScript . Media requires Ja...</td>\n",
       "      <td>5</td>\n",
       "      <td>10</td>\n",
       "      <td>[Please, turn, on, JavaScript, Media, requires...</td>\n",
       "      <td>[turn, javascript, medium, require, javascript...</td>\n",
       "      <td>[turn, play, foreign, secretary, say, place, b...</td>\n",
       "    </tr>\n",
       "    <tr>\n",
       "      <th>4</th>\n",
       "      <td>1647381</td>\n",
       "      <td>Image caption The death of Mono Jojoy could c...</td>\n",
       "      <td>9</td>\n",
       "      <td>10</td>\n",
       "      <td>[Image, caption, The, death, of, Mono, Jojoy, ...</td>\n",
       "      <td>[image, caption, death, mono, jojoy, cause, fr...</td>\n",
       "      <td>[death, cause, group, military, successful, ga...</td>\n",
       "    </tr>\n",
       "    <tr>\n",
       "      <th>...</th>\n",
       "      <td>...</td>\n",
       "      <td>...</td>\n",
       "      <td>...</td>\n",
       "      <td>...</td>\n",
       "      <td>...</td>\n",
       "      <td>...</td>\n",
       "      <td>...</td>\n",
       "    </tr>\n",
       "    <tr>\n",
       "      <th>45425</th>\n",
       "      <td>31034526</td>\n",
       "      <td>Can an academic study also double up as a riv...</td>\n",
       "      <td>6</td>\n",
       "      <td>19</td>\n",
       "      <td>[Can, an, academic, study, also, double, up, a...</td>\n",
       "      <td>[academic, study, double, rivet, thriller, lon...</td>\n",
       "      <td>[academic, study, london, sense, movement, cen...</td>\n",
       "    </tr>\n",
       "    <tr>\n",
       "      <th>45426</th>\n",
       "      <td>50673735</td>\n",
       "      <td>Glasgow Southside , where Nicola Sturgeon is ...</td>\n",
       "      <td>5</td>\n",
       "      <td>19</td>\n",
       "      <td>[Glasgow, Southside, where, Nicola, Sturgeon, ...</td>\n",
       "      <td>[glasgow, southside, nicola, sturgeon, msp, hi...</td>\n",
       "      <td>[high, level, child, poverty, research, daily,...</td>\n",
       "    </tr>\n",
       "    <tr>\n",
       "      <th>45427</th>\n",
       "      <td>31262587</td>\n",
       "      <td>Rabbi Joachim Prinz , second from the left , ...</td>\n",
       "      <td>9</td>\n",
       "      <td>19</td>\n",
       "      <td>[Rabbi, Joachim, Prinz, second, from, the, lef...</td>\n",
       "      <td>[rabbi, joachim, prinz, leave, join, leave, re...</td>\n",
       "      <td>[leave, leave, president, photo, march, washin...</td>\n",
       "    </tr>\n",
       "    <tr>\n",
       "      <th>45428</th>\n",
       "      <td>50662844</td>\n",
       "      <td>The global rate of species extinction is ten ...</td>\n",
       "      <td>5</td>\n",
       "      <td>19</td>\n",
       "      <td>[The, global, rate, of, species, extinction, i...</td>\n",
       "      <td>[global, rate, species, extinction, time, high...</td>\n",
       "      <td>[global, rate, high, average, past, continue, ...</td>\n",
       "    </tr>\n",
       "    <tr>\n",
       "      <th>45429</th>\n",
       "      <td>30663231</td>\n",
       "      <td>I am very thankful to this story as it is for...</td>\n",
       "      <td>3</td>\n",
       "      <td>19</td>\n",
       "      <td>[I, am, very, thankful, to, this, story, as, i...</td>\n",
       "      <td>[thankful, story, people, satkhira, khulna, re...</td>\n",
       "      <td>[story, water, city, access, water, month, fam...</td>\n",
       "    </tr>\n",
       "  </tbody>\n",
       "</table>\n",
       "<p>45429 rows × 7 columns</p>\n",
       "</div>"
      ],
      "text/plain": [
       "             id                                               text  month  \\\n",
       "0       1705816   For those of us who have not known war , the ...     11   \n",
       "1       4512620   Kazi Khaleed Ashraf   ONCE upon a time , Dhak...      3   \n",
       "2       1448476   There is a myth in wide circulation that the ...      4   \n",
       "3       1490802   Please turn on JavaScript . Media requires Ja...      5   \n",
       "4       1647381   Image caption The death of Mono Jojoy could c...      9   \n",
       "...         ...                                                ...    ...   \n",
       "45425  31034526   Can an academic study also double up as a riv...      6   \n",
       "45426  50673735   Glasgow Southside , where Nicola Sturgeon is ...      5   \n",
       "45427  31262587   Rabbi Joachim Prinz , second from the left , ...      9   \n",
       "45428  50662844   The global rate of species extinction is ten ...      5   \n",
       "45429  30663231   I am very thankful to this story as it is for...      3   \n",
       "\n",
       "       year                                     tokenized_text  \\\n",
       "0        10  [For, those, of, us, who, have, not, known, wa...   \n",
       "1        10  [Kazi, Khaleed, Ashraf, ONCE, upon, a, time, D...   \n",
       "2        10  [There, is, a, myth, in, wide, circulation, th...   \n",
       "3        10  [Please, turn, on, JavaScript, Media, requires...   \n",
       "4        10  [Image, caption, The, death, of, Mono, Jojoy, ...   \n",
       "...     ...                                                ...   \n",
       "45425    19  [Can, an, academic, study, also, double, up, a...   \n",
       "45426    19  [Glasgow, Southside, where, Nicola, Sturgeon, ...   \n",
       "45427    19  [Rabbi, Joachim, Prinz, second, from, the, lef...   \n",
       "45428    19  [The, global, rate, of, species, extinction, i...   \n",
       "45429    19  [I, am, very, thankful, to, this, story, as, i...   \n",
       "\n",
       "                                       normalized_tokens  \\\n",
       "0      [know, war, word, soldier, help, understand, r...   \n",
       "1      [kazi, khaleed, ashraf, time, dhaka, fine, cit...   \n",
       "2      [myth, wide, circulation, superiority, free, t...   \n",
       "3      [turn, javascript, medium, require, javascript...   \n",
       "4      [image, caption, death, mono, jojoy, cause, fr...   \n",
       "...                                                  ...   \n",
       "45425  [academic, study, double, rivet, thriller, lon...   \n",
       "45426  [glasgow, southside, nicola, sturgeon, msp, hi...   \n",
       "45427  [rabbi, joachim, prinz, leave, join, leave, re...   \n",
       "45428  [global, rate, species, extinction, time, high...   \n",
       "45429  [thankful, story, people, satkhira, khulna, re...   \n",
       "\n",
       "                                          reduced_tokens  \n",
       "0      [know, war, word, help, understand, day, war, ...  \n",
       "1      [city, street, heart, city, air, sense, commun...  \n",
       "2      [free, trade, simply, question, agree, course,...  \n",
       "3      [turn, play, foreign, secretary, say, place, b...  \n",
       "4      [death, cause, group, military, successful, ga...  \n",
       "...                                                  ...  \n",
       "45425  [academic, study, london, sense, movement, cen...  \n",
       "45426  [high, level, child, poverty, research, daily,...  \n",
       "45427  [leave, leave, president, photo, march, washin...  \n",
       "45428  [global, rate, high, average, past, continue, ...  \n",
       "45429  [story, water, city, access, water, month, fam...  \n",
       "\n",
       "[45429 rows x 7 columns]"
      ]
     },
     "execution_count": 116,
     "metadata": {},
     "output_type": "execute_result"
    }
   ],
   "source": [
    "now_df"
   ]
  },
  {
   "cell_type": "code",
   "execution_count": 26,
   "metadata": {
    "ExecuteTime": {
     "end_time": "2021-03-04T02:42:08.621475Z",
     "start_time": "2021-03-04T02:42:01.142516Z"
    }
   },
   "outputs": [],
   "source": [
    "dictionary = gensim.corpora.Dictionary(now_df['reduced_tokens'])"
   ]
  },
  {
   "cell_type": "code",
   "execution_count": 27,
   "metadata": {
    "ExecuteTime": {
     "end_time": "2021-03-04T02:42:16.698063Z",
     "start_time": "2021-03-04T02:42:11.396003Z"
    }
   },
   "outputs": [],
   "source": [
    "corpus = [dictionary.doc2bow(text) for text in now_df['reduced_tokens']]"
   ]
  },
  {
   "cell_type": "code",
   "execution_count": 28,
   "metadata": {
    "ExecuteTime": {
     "end_time": "2021-03-04T02:42:26.975533Z",
     "start_time": "2021-03-04T02:42:20.623072Z"
    }
   },
   "outputs": [],
   "source": [
    "gensim.corpora.MmCorpus.serialize('data/now.mm', corpus)\n",
    "nowmm = gensim.corpora.MmCorpus('data/now.mm')"
   ]
  },
  {
   "cell_type": "code",
   "execution_count": 29,
   "metadata": {
    "ExecuteTime": {
     "end_time": "2021-03-04T02:43:22.677094Z",
     "start_time": "2021-03-04T02:42:31.056686Z"
    }
   },
   "outputs": [],
   "source": [
    "nowlda = gensim.models.ldamodel.LdaModel(corpus=nowmm, id2word=dictionary, num_topics=10, alpha='auto', eta='auto')"
   ]
  },
  {
   "cell_type": "code",
   "execution_count": 30,
   "metadata": {
    "ExecuteTime": {
     "end_time": "2021-03-04T02:43:26.874254Z",
     "start_time": "2021-03-04T02:43:26.867245Z"
    }
   },
   "outputs": [],
   "source": [
    "now1Bow = dictionary.doc2bow(now_df['reduced_tokens'][0])\n",
    "now1lda = nowlda[now1Bow]"
   ]
  },
  {
   "cell_type": "code",
   "execution_count": 31,
   "metadata": {
    "ExecuteTime": {
     "end_time": "2021-03-04T02:43:31.734080Z",
     "start_time": "2021-03-04T02:43:31.716797Z"
    }
   },
   "outputs": [
    {
     "name": "stdout",
     "output_type": "stream",
     "text": [
      "The topics of the text: 1705816\n",
      "are: [(0, 0.17430049), (2, 0.09471043), (3, 0.0668286), (4, 0.117352165), (6, 0.019002883), (8, 0.52604234)]\n"
     ]
    }
   ],
   "source": [
    "print(\"The topics of the text: {}\".format(now_df['id'][0]))\n",
    "print(\"are: {}\".format(now1lda))"
   ]
  },
  {
   "cell_type": "code",
   "execution_count": 41,
   "metadata": {
    "ExecuteTime": {
     "end_time": "2021-03-04T19:40:13.926150Z",
     "start_time": "2021-03-04T19:38:11.888608Z"
    }
   },
   "outputs": [],
   "source": [
    "ldaDF = pandas.DataFrame({\n",
    "        'id' : now_df['id'],\n",
    "        'year' : now_df['year'],\n",
    "        'topics' : [nowlda[dictionary.doc2bow(l)] for l in now_df['reduced_tokens']]\n",
    "    })"
   ]
  },
  {
   "cell_type": "code",
   "execution_count": 42,
   "metadata": {
    "ExecuteTime": {
     "end_time": "2021-03-04T19:40:26.815196Z",
     "start_time": "2021-03-04T19:40:26.739131Z"
    }
   },
   "outputs": [
    {
     "data": {
      "text/html": [
       "<div>\n",
       "<style scoped>\n",
       "    .dataframe tbody tr th:only-of-type {\n",
       "        vertical-align: middle;\n",
       "    }\n",
       "\n",
       "    .dataframe tbody tr th {\n",
       "        vertical-align: top;\n",
       "    }\n",
       "\n",
       "    .dataframe thead th {\n",
       "        text-align: right;\n",
       "    }\n",
       "</style>\n",
       "<table border=\"1\" class=\"dataframe\">\n",
       "  <thead>\n",
       "    <tr style=\"text-align: right;\">\n",
       "      <th></th>\n",
       "      <th>id</th>\n",
       "      <th>year</th>\n",
       "      <th>topics</th>\n",
       "    </tr>\n",
       "  </thead>\n",
       "  <tbody>\n",
       "    <tr>\n",
       "      <th>0</th>\n",
       "      <td>1705816</td>\n",
       "      <td>10</td>\n",
       "      <td>[(0, 0.17717889), (2, 0.093628466), (3, 0.0695...</td>\n",
       "    </tr>\n",
       "    <tr>\n",
       "      <th>1</th>\n",
       "      <td>4512620</td>\n",
       "      <td>10</td>\n",
       "      <td>[(0, 0.08159034), (1, 0.3966306), (4, 0.236846...</td>\n",
       "    </tr>\n",
       "    <tr>\n",
       "      <th>2</th>\n",
       "      <td>1448476</td>\n",
       "      <td>10</td>\n",
       "      <td>[(1, 0.04726045), (2, 0.55008733), (4, 0.39872...</td>\n",
       "    </tr>\n",
       "    <tr>\n",
       "      <th>3</th>\n",
       "      <td>1490802</td>\n",
       "      <td>10</td>\n",
       "      <td>[(2, 0.2329995), (3, 0.09909913), (5, 0.250480...</td>\n",
       "    </tr>\n",
       "    <tr>\n",
       "      <th>4</th>\n",
       "      <td>1647381</td>\n",
       "      <td>10</td>\n",
       "      <td>[(0, 0.6065858), (1, 0.09624033), (5, 0.292426...</td>\n",
       "    </tr>\n",
       "    <tr>\n",
       "      <th>...</th>\n",
       "      <td>...</td>\n",
       "      <td>...</td>\n",
       "      <td>...</td>\n",
       "    </tr>\n",
       "    <tr>\n",
       "      <th>45425</th>\n",
       "      <td>31034526</td>\n",
       "      <td>19</td>\n",
       "      <td>[(0, 0.3627134), (1, 0.079046376), (3, 0.11854...</td>\n",
       "    </tr>\n",
       "    <tr>\n",
       "      <th>45426</th>\n",
       "      <td>50673735</td>\n",
       "      <td>19</td>\n",
       "      <td>[(5, 0.13465354), (8, 0.5176997), (9, 0.344715...</td>\n",
       "    </tr>\n",
       "    <tr>\n",
       "      <th>45427</th>\n",
       "      <td>31262587</td>\n",
       "      <td>19</td>\n",
       "      <td>[(0, 0.32797137), (2, 0.17207082), (4, 0.37280...</td>\n",
       "    </tr>\n",
       "    <tr>\n",
       "      <th>45428</th>\n",
       "      <td>50662844</td>\n",
       "      <td>19</td>\n",
       "      <td>[(0, 0.16285183), (1, 0.3746136), (2, 0.146622...</td>\n",
       "    </tr>\n",
       "    <tr>\n",
       "      <th>45429</th>\n",
       "      <td>30663231</td>\n",
       "      <td>19</td>\n",
       "      <td>[(1, 0.04205946), (3, 0.1426915), (4, 0.264335...</td>\n",
       "    </tr>\n",
       "  </tbody>\n",
       "</table>\n",
       "<p>45429 rows × 3 columns</p>\n",
       "</div>"
      ],
      "text/plain": [
       "             id  year                                             topics\n",
       "0       1705816    10  [(0, 0.17717889), (2, 0.093628466), (3, 0.0695...\n",
       "1       4512620    10  [(0, 0.08159034), (1, 0.3966306), (4, 0.236846...\n",
       "2       1448476    10  [(1, 0.04726045), (2, 0.55008733), (4, 0.39872...\n",
       "3       1490802    10  [(2, 0.2329995), (3, 0.09909913), (5, 0.250480...\n",
       "4       1647381    10  [(0, 0.6065858), (1, 0.09624033), (5, 0.292426...\n",
       "...         ...   ...                                                ...\n",
       "45425  31034526    19  [(0, 0.3627134), (1, 0.079046376), (3, 0.11854...\n",
       "45426  50673735    19  [(5, 0.13465354), (8, 0.5176997), (9, 0.344715...\n",
       "45427  31262587    19  [(0, 0.32797137), (2, 0.17207082), (4, 0.37280...\n",
       "45428  50662844    19  [(0, 0.16285183), (1, 0.3746136), (2, 0.146622...\n",
       "45429  30663231    19  [(1, 0.04205946), (3, 0.1426915), (4, 0.264335...\n",
       "\n",
       "[45429 rows x 3 columns]"
      ]
     },
     "execution_count": 42,
     "metadata": {},
     "output_type": "execute_result"
    }
   ],
   "source": [
    "ldaDF"
   ]
  },
  {
   "cell_type": "code",
   "execution_count": 43,
   "metadata": {
    "ExecuteTime": {
     "end_time": "2021-03-04T19:40:40.166161Z",
     "start_time": "2021-03-04T19:40:39.657439Z"
    }
   },
   "outputs": [
    {
     "data": {
      "text/html": [
       "<div>\n",
       "<style scoped>\n",
       "    .dataframe tbody tr th:only-of-type {\n",
       "        vertical-align: middle;\n",
       "    }\n",
       "\n",
       "    .dataframe tbody tr th {\n",
       "        vertical-align: top;\n",
       "    }\n",
       "\n",
       "    .dataframe thead th {\n",
       "        text-align: right;\n",
       "    }\n",
       "</style>\n",
       "<table border=\"1\" class=\"dataframe\">\n",
       "  <thead>\n",
       "    <tr style=\"text-align: right;\">\n",
       "      <th></th>\n",
       "      <th>id</th>\n",
       "      <th>year</th>\n",
       "      <th>topics</th>\n",
       "      <th>topic_0</th>\n",
       "      <th>topic_1</th>\n",
       "      <th>topic_2</th>\n",
       "      <th>topic_3</th>\n",
       "      <th>topic_4</th>\n",
       "      <th>topic_5</th>\n",
       "      <th>topic_6</th>\n",
       "      <th>topic_7</th>\n",
       "      <th>topic_8</th>\n",
       "      <th>topic_9</th>\n",
       "    </tr>\n",
       "  </thead>\n",
       "  <tbody>\n",
       "    <tr>\n",
       "      <th>0</th>\n",
       "      <td>1705816</td>\n",
       "      <td>10</td>\n",
       "      <td>[(0, 0.17717889), (2, 0.093628466), (3, 0.0695...</td>\n",
       "      <td>0.177179</td>\n",
       "      <td>0.000000</td>\n",
       "      <td>0.093628</td>\n",
       "      <td>0.069540</td>\n",
       "      <td>0.135945</td>\n",
       "      <td>0.000000</td>\n",
       "      <td>0.000000</td>\n",
       "      <td>0.000000</td>\n",
       "      <td>0.521584</td>\n",
       "      <td>0.000000</td>\n",
       "    </tr>\n",
       "    <tr>\n",
       "      <th>1</th>\n",
       "      <td>4512620</td>\n",
       "      <td>10</td>\n",
       "      <td>[(0, 0.08159034), (1, 0.3966306), (4, 0.236846...</td>\n",
       "      <td>0.081590</td>\n",
       "      <td>0.396631</td>\n",
       "      <td>0.000000</td>\n",
       "      <td>0.000000</td>\n",
       "      <td>0.236846</td>\n",
       "      <td>0.281470</td>\n",
       "      <td>0.000000</td>\n",
       "      <td>0.000000</td>\n",
       "      <td>0.000000</td>\n",
       "      <td>0.000000</td>\n",
       "    </tr>\n",
       "    <tr>\n",
       "      <th>2</th>\n",
       "      <td>1448476</td>\n",
       "      <td>10</td>\n",
       "      <td>[(1, 0.04726045), (2, 0.55008733), (4, 0.39872...</td>\n",
       "      <td>0.000000</td>\n",
       "      <td>0.047260</td>\n",
       "      <td>0.550087</td>\n",
       "      <td>0.000000</td>\n",
       "      <td>0.398727</td>\n",
       "      <td>0.000000</td>\n",
       "      <td>0.000000</td>\n",
       "      <td>0.000000</td>\n",
       "      <td>0.000000</td>\n",
       "      <td>0.000000</td>\n",
       "    </tr>\n",
       "    <tr>\n",
       "      <th>3</th>\n",
       "      <td>1490802</td>\n",
       "      <td>10</td>\n",
       "      <td>[(2, 0.2329995), (3, 0.09909913), (5, 0.250480...</td>\n",
       "      <td>0.000000</td>\n",
       "      <td>0.000000</td>\n",
       "      <td>0.233000</td>\n",
       "      <td>0.099099</td>\n",
       "      <td>0.000000</td>\n",
       "      <td>0.250480</td>\n",
       "      <td>0.000000</td>\n",
       "      <td>0.000000</td>\n",
       "      <td>0.000000</td>\n",
       "      <td>0.403130</td>\n",
       "    </tr>\n",
       "    <tr>\n",
       "      <th>4</th>\n",
       "      <td>1647381</td>\n",
       "      <td>10</td>\n",
       "      <td>[(0, 0.6065858), (1, 0.09624033), (5, 0.292426...</td>\n",
       "      <td>0.606586</td>\n",
       "      <td>0.096240</td>\n",
       "      <td>0.000000</td>\n",
       "      <td>0.000000</td>\n",
       "      <td>0.000000</td>\n",
       "      <td>0.292427</td>\n",
       "      <td>0.000000</td>\n",
       "      <td>0.000000</td>\n",
       "      <td>0.000000</td>\n",
       "      <td>0.000000</td>\n",
       "    </tr>\n",
       "    <tr>\n",
       "      <th>5</th>\n",
       "      <td>1513952</td>\n",
       "      <td>10</td>\n",
       "      <td>[(0, 0.10036107), (4, 0.6350719), (5, 0.032975...</td>\n",
       "      <td>0.100361</td>\n",
       "      <td>0.000000</td>\n",
       "      <td>0.000000</td>\n",
       "      <td>0.000000</td>\n",
       "      <td>0.635072</td>\n",
       "      <td>0.032975</td>\n",
       "      <td>0.166377</td>\n",
       "      <td>0.000000</td>\n",
       "      <td>0.000000</td>\n",
       "      <td>0.058912</td>\n",
       "    </tr>\n",
       "    <tr>\n",
       "      <th>6</th>\n",
       "      <td>1698792</td>\n",
       "      <td>10</td>\n",
       "      <td>[(0, 0.8850704), (2, 0.074065134), (4, 0.02928...</td>\n",
       "      <td>0.885070</td>\n",
       "      <td>0.000000</td>\n",
       "      <td>0.074065</td>\n",
       "      <td>0.000000</td>\n",
       "      <td>0.029281</td>\n",
       "      <td>0.000000</td>\n",
       "      <td>0.011201</td>\n",
       "      <td>0.000000</td>\n",
       "      <td>0.000000</td>\n",
       "      <td>0.000000</td>\n",
       "    </tr>\n",
       "    <tr>\n",
       "      <th>7</th>\n",
       "      <td>1346268</td>\n",
       "      <td>10</td>\n",
       "      <td>[(2, 0.26740414), (3, 0.22990528), (4, 0.42334...</td>\n",
       "      <td>0.000000</td>\n",
       "      <td>0.000000</td>\n",
       "      <td>0.267404</td>\n",
       "      <td>0.229905</td>\n",
       "      <td>0.423349</td>\n",
       "      <td>0.070669</td>\n",
       "      <td>0.000000</td>\n",
       "      <td>0.000000</td>\n",
       "      <td>0.000000</td>\n",
       "      <td>0.000000</td>\n",
       "    </tr>\n",
       "    <tr>\n",
       "      <th>8</th>\n",
       "      <td>1745872</td>\n",
       "      <td>10</td>\n",
       "      <td>[(0, 0.02059669), (3, 0.67279494), (5, 0.03813...</td>\n",
       "      <td>0.020597</td>\n",
       "      <td>0.000000</td>\n",
       "      <td>0.000000</td>\n",
       "      <td>0.672795</td>\n",
       "      <td>0.000000</td>\n",
       "      <td>0.038139</td>\n",
       "      <td>0.199426</td>\n",
       "      <td>0.019266</td>\n",
       "      <td>0.000000</td>\n",
       "      <td>0.049183</td>\n",
       "    </tr>\n",
       "    <tr>\n",
       "      <th>9</th>\n",
       "      <td>4513686</td>\n",
       "      <td>10</td>\n",
       "      <td>[(1, 0.23998596), (2, 0.031135391), (5, 0.7191...</td>\n",
       "      <td>0.000000</td>\n",
       "      <td>0.239986</td>\n",
       "      <td>0.031135</td>\n",
       "      <td>0.000000</td>\n",
       "      <td>0.000000</td>\n",
       "      <td>0.719193</td>\n",
       "      <td>0.000000</td>\n",
       "      <td>0.000000</td>\n",
       "      <td>0.000000</td>\n",
       "      <td>0.000000</td>\n",
       "    </tr>\n",
       "  </tbody>\n",
       "</table>\n",
       "</div>"
      ],
      "text/plain": [
       "        id  year                                             topics   topic_0  \\\n",
       "0  1705816    10  [(0, 0.17717889), (2, 0.093628466), (3, 0.0695...  0.177179   \n",
       "1  4512620    10  [(0, 0.08159034), (1, 0.3966306), (4, 0.236846...  0.081590   \n",
       "2  1448476    10  [(1, 0.04726045), (2, 0.55008733), (4, 0.39872...  0.000000   \n",
       "3  1490802    10  [(2, 0.2329995), (3, 0.09909913), (5, 0.250480...  0.000000   \n",
       "4  1647381    10  [(0, 0.6065858), (1, 0.09624033), (5, 0.292426...  0.606586   \n",
       "5  1513952    10  [(0, 0.10036107), (4, 0.6350719), (5, 0.032975...  0.100361   \n",
       "6  1698792    10  [(0, 0.8850704), (2, 0.074065134), (4, 0.02928...  0.885070   \n",
       "7  1346268    10  [(2, 0.26740414), (3, 0.22990528), (4, 0.42334...  0.000000   \n",
       "8  1745872    10  [(0, 0.02059669), (3, 0.67279494), (5, 0.03813...  0.020597   \n",
       "9  4513686    10  [(1, 0.23998596), (2, 0.031135391), (5, 0.7191...  0.000000   \n",
       "\n",
       "    topic_1   topic_2   topic_3   topic_4   topic_5   topic_6   topic_7  \\\n",
       "0  0.000000  0.093628  0.069540  0.135945  0.000000  0.000000  0.000000   \n",
       "1  0.396631  0.000000  0.000000  0.236846  0.281470  0.000000  0.000000   \n",
       "2  0.047260  0.550087  0.000000  0.398727  0.000000  0.000000  0.000000   \n",
       "3  0.000000  0.233000  0.099099  0.000000  0.250480  0.000000  0.000000   \n",
       "4  0.096240  0.000000  0.000000  0.000000  0.292427  0.000000  0.000000   \n",
       "5  0.000000  0.000000  0.000000  0.635072  0.032975  0.166377  0.000000   \n",
       "6  0.000000  0.074065  0.000000  0.029281  0.000000  0.011201  0.000000   \n",
       "7  0.000000  0.267404  0.229905  0.423349  0.070669  0.000000  0.000000   \n",
       "8  0.000000  0.000000  0.672795  0.000000  0.038139  0.199426  0.019266   \n",
       "9  0.239986  0.031135  0.000000  0.000000  0.719193  0.000000  0.000000   \n",
       "\n",
       "    topic_8   topic_9  \n",
       "0  0.521584  0.000000  \n",
       "1  0.000000  0.000000  \n",
       "2  0.000000  0.000000  \n",
       "3  0.000000  0.403130  \n",
       "4  0.000000  0.000000  \n",
       "5  0.000000  0.058912  \n",
       "6  0.000000  0.000000  \n",
       "7  0.000000  0.000000  \n",
       "8  0.000000  0.049183  \n",
       "9  0.000000  0.000000  "
      ]
     },
     "execution_count": 43,
     "metadata": {},
     "output_type": "execute_result"
    }
   ],
   "source": [
    "#Dict to temporally hold the probabilities\n",
    "topicsProbDict = {i : [0] * len(ldaDF) for i in range(nowlda.num_topics)}\n",
    "\n",
    "#Load them into the dict\n",
    "for index, topicTuples in enumerate(ldaDF['topics']):\n",
    "    for topicNum, prob in topicTuples:\n",
    "        topicsProbDict[topicNum][index] = prob\n",
    "\n",
    "#Update the DataFrame\n",
    "for topicNum in range(nowlda.num_topics):\n",
    "    ldaDF['topic_{}'.format(topicNum)] = topicsProbDict[topicNum]\n",
    "\n",
    "ldaDF.head(10)"
   ]
  },
  {
   "cell_type": "code",
   "execution_count": 55,
   "metadata": {
    "ExecuteTime": {
     "end_time": "2021-03-04T19:59:38.498447Z",
     "start_time": "2021-03-04T19:59:38.468100Z"
    }
   },
   "outputs": [],
   "source": [
    "ldaDF_10 = ldaDF[ldaDF[\"year\"] == 10][['topic_%d' %x for x in range(10)]]\n",
    "ldaDF_10\n",
    "ldaDFVisN = ldaDF[ldaDF[\"year\"] == 10][['id']]\n",
    "ldaDFVis = ldaDFV.values\n",
    "ldaDFVisNames = ldaDFVisN.values"
   ]
  },
  {
   "cell_type": "code",
   "execution_count": 65,
   "metadata": {
    "ExecuteTime": {
     "end_time": "2021-03-04T20:08:26.197102Z",
     "start_time": "2021-03-04T20:08:26.137395Z"
    }
   },
   "outputs": [
    {
     "data": {
      "text/html": [
       "<div>\n",
       "<style scoped>\n",
       "    .dataframe tbody tr th:only-of-type {\n",
       "        vertical-align: middle;\n",
       "    }\n",
       "\n",
       "    .dataframe tbody tr th {\n",
       "        vertical-align: top;\n",
       "    }\n",
       "\n",
       "    .dataframe thead th {\n",
       "        text-align: right;\n",
       "    }\n",
       "</style>\n",
       "<table border=\"1\" class=\"dataframe\">\n",
       "  <thead>\n",
       "    <tr style=\"text-align: right;\">\n",
       "      <th></th>\n",
       "      <th>Topic_0</th>\n",
       "      <th>Topic_1</th>\n",
       "      <th>Topic_2</th>\n",
       "      <th>Topic_3</th>\n",
       "      <th>Topic_4</th>\n",
       "      <th>Topic_5</th>\n",
       "      <th>Topic_6</th>\n",
       "      <th>Topic_7</th>\n",
       "      <th>Topic_8</th>\n",
       "      <th>Topic_9</th>\n",
       "    </tr>\n",
       "  </thead>\n",
       "  <tbody>\n",
       "    <tr>\n",
       "      <th>0</th>\n",
       "      <td>state</td>\n",
       "      <td>development</td>\n",
       "      <td>party</td>\n",
       "      <td>right</td>\n",
       "      <td>think</td>\n",
       "      <td>say</td>\n",
       "      <td>woman</td>\n",
       "      <td>south</td>\n",
       "      <td>tax</td>\n",
       "      <td>school</td>\n",
       "    </tr>\n",
       "    <tr>\n",
       "      <th>1</th>\n",
       "      <td>political</td>\n",
       "      <td>business</td>\n",
       "      <td>election</td>\n",
       "      <td>india</td>\n",
       "      <td>trump</td>\n",
       "      <td>president</td>\n",
       "      <td>man</td>\n",
       "      <td>africa</td>\n",
       "      <td>income</td>\n",
       "      <td>child</td>\n",
       "    </tr>\n",
       "    <tr>\n",
       "      <th>2</th>\n",
       "      <td>power</td>\n",
       "      <td>service</td>\n",
       "      <td>policy</td>\n",
       "      <td>law</td>\n",
       "      <td>know</td>\n",
       "      <td>mr</td>\n",
       "      <td>gender</td>\n",
       "      <td>african</td>\n",
       "      <td>rate</td>\n",
       "      <td>education</td>\n",
       "    </tr>\n",
       "    <tr>\n",
       "      <th>3</th>\n",
       "      <td>right</td>\n",
       "      <td>need</td>\n",
       "      <td>trade</td>\n",
       "      <td>human</td>\n",
       "      <td>thing</td>\n",
       "      <td>city</td>\n",
       "      <td>work</td>\n",
       "      <td>black</td>\n",
       "      <td>say</td>\n",
       "      <td>student</td>\n",
       "    </tr>\n",
       "    <tr>\n",
       "      <th>4</th>\n",
       "      <td>social</td>\n",
       "      <td>sector</td>\n",
       "      <td>economic</td>\n",
       "      <td>social</td>\n",
       "      <td>work</td>\n",
       "      <td>state</td>\n",
       "      <td>say</td>\n",
       "      <td>land</td>\n",
       "      <td>cent</td>\n",
       "      <td>health</td>\n",
       "    </tr>\n",
       "    <tr>\n",
       "      <th>5</th>\n",
       "      <td>democracy</td>\n",
       "      <td>work</td>\n",
       "      <td>china</td>\n",
       "      <td>pakistan</td>\n",
       "      <td>want</td>\n",
       "      <td>day</td>\n",
       "      <td>female</td>\n",
       "      <td>anc</td>\n",
       "      <td>high</td>\n",
       "      <td>university</td>\n",
       "    </tr>\n",
       "    <tr>\n",
       "      <th>6</th>\n",
       "      <td>society</td>\n",
       "      <td>economic</td>\n",
       "      <td>political</td>\n",
       "      <td>society</td>\n",
       "      <td>way</td>\n",
       "      <td>minister</td>\n",
       "      <td>film</td>\n",
       "      <td>white</td>\n",
       "      <td>pay</td>\n",
       "      <td>say</td>\n",
       "    </tr>\n",
       "    <tr>\n",
       "      <th>7</th>\n",
       "      <td>nigeria</td>\n",
       "      <td>growth</td>\n",
       "      <td>vote</td>\n",
       "      <td>indian</td>\n",
       "      <td>come</td>\n",
       "      <td>house</td>\n",
       "      <td>equality</td>\n",
       "      <td>africans</td>\n",
       "      <td>low</td>\n",
       "      <td>work</td>\n",
       "    </tr>\n",
       "    <tr>\n",
       "      <th>8</th>\n",
       "      <td>war</td>\n",
       "      <td>public</td>\n",
       "      <td>climate</td>\n",
       "      <td>court</td>\n",
       "      <td>look</td>\n",
       "      <td>tell</td>\n",
       "      <td>day</td>\n",
       "      <td>say</td>\n",
       "      <td>increase</td>\n",
       "      <td>high</td>\n",
       "    </tr>\n",
       "    <tr>\n",
       "      <th>9</th>\n",
       "      <td>movement</td>\n",
       "      <td>provide</td>\n",
       "      <td>change</td>\n",
       "      <td>case</td>\n",
       "      <td>good</td>\n",
       "      <td>member</td>\n",
       "      <td>violence</td>\n",
       "      <td>president</td>\n",
       "      <td>wealth</td>\n",
       "      <td>community</td>\n",
       "    </tr>\n",
       "  </tbody>\n",
       "</table>\n",
       "</div>"
      ],
      "text/plain": [
       "     Topic_0      Topic_1    Topic_2   Topic_3 Topic_4    Topic_5   Topic_6  \\\n",
       "0      state  development      party     right   think        say     woman   \n",
       "1  political     business   election     india   trump  president       man   \n",
       "2      power      service     policy       law    know         mr    gender   \n",
       "3      right         need      trade     human   thing       city      work   \n",
       "4     social       sector   economic    social    work      state       say   \n",
       "5  democracy         work      china  pakistan    want        day    female   \n",
       "6    society     economic  political   society     way   minister      film   \n",
       "7    nigeria       growth       vote    indian    come      house  equality   \n",
       "8        war       public    climate     court    look       tell       day   \n",
       "9   movement      provide     change      case    good     member  violence   \n",
       "\n",
       "     Topic_7   Topic_8     Topic_9  \n",
       "0      south       tax      school  \n",
       "1     africa    income       child  \n",
       "2    african      rate   education  \n",
       "3      black       say     student  \n",
       "4       land      cent      health  \n",
       "5        anc      high  university  \n",
       "6      white       pay         say  \n",
       "7   africans       low        work  \n",
       "8        say  increase        high  \n",
       "9  president    wealth   community  "
      ]
     },
     "execution_count": 65,
     "metadata": {},
     "output_type": "execute_result"
    }
   ],
   "source": [
    "topicsDict = {}\n",
    "for topicNum in range(nowlda.num_topics):\n",
    "    topicWords = [w for w, p in nowlda.show_topic(topicNum)]\n",
    "    topicsDict['Topic_{}'.format(topicNum)] = topicWords\n",
    "\n",
    "wordRanksDF = pandas.DataFrame(topicsDict)\n",
    "wordRanksDF"
   ]
  },
  {
   "cell_type": "markdown",
   "metadata": {},
   "source": [
    "# Dynamic topic modeling"
   ]
  },
  {
   "cell_type": "code",
   "execution_count": 124,
   "metadata": {
    "ExecuteTime": {
     "end_time": "2021-03-05T04:08:42.251161Z",
     "start_time": "2021-03-05T04:08:41.782741Z"
    }
   },
   "outputs": [],
   "source": [
    "corpus= []\n",
    "docs_per_time_slice = [0] * 10\n",
    "\n",
    "for i in range(len(now_df)):   \n",
    "    try:\n",
    "        corpus.append(now_df['reduced_tokens'][i])\n",
    "        docs_per_time_slice[int(now_df['year'][i])-10] += 1    \n",
    "    except:\n",
    "        continue\n",
    "\n",
    "        \n",
    "# just a check if the counts are correctly added\n",
    "if np.sum(docs_per_time_slice) != len(corpus):\n",
    "    print(np.sum(docs_per_time_slice), len(corpus))"
   ]
  },
  {
   "cell_type": "code",
   "execution_count": 125,
   "metadata": {
    "ExecuteTime": {
     "end_time": "2021-03-05T04:08:55.987193Z",
     "start_time": "2021-03-05T04:08:49.145906Z"
    }
   },
   "outputs": [],
   "source": [
    "dictionary = gensim.corpora.Dictionary(corpus)"
   ]
  },
  {
   "cell_type": "code",
   "execution_count": 126,
   "metadata": {
    "ExecuteTime": {
     "end_time": "2021-03-05T04:09:10.926630Z",
     "start_time": "2021-03-05T04:09:03.011857Z"
    }
   },
   "outputs": [],
   "source": [
    "now_corpus = [dictionary.doc2bow(text) for text in corpus]"
   ]
  },
  {
   "cell_type": "code",
   "execution_count": 127,
   "metadata": {
    "ExecuteTime": {
     "end_time": "2021-03-05T04:09:23.997272Z",
     "start_time": "2021-03-05T04:09:18.325266Z"
    }
   },
   "outputs": [],
   "source": [
    "gensim.corpora.MmCorpus.serialize('data/dynamic_tm.mm', now_corpus)\n",
    "nowcorpus = gensim.corpora.MmCorpus('data/dynamic_tm.mm')"
   ]
  },
  {
   "cell_type": "code",
   "execution_count": 128,
   "metadata": {
    "ExecuteTime": {
     "end_time": "2021-03-05T04:09:31.145204Z",
     "start_time": "2021-03-05T04:09:31.142249Z"
    }
   },
   "outputs": [],
   "source": [
    "from gensim.models import ldaseqmodel"
   ]
  },
  {
   "cell_type": "code",
   "execution_count": 129,
   "metadata": {
    "ExecuteTime": {
     "end_time": "2021-03-07T16:23:54.110874Z",
     "start_time": "2021-03-05T04:09:38.380699Z"
    }
   },
   "outputs": [
    {
     "name": "stderr",
     "output_type": "stream",
     "text": [
      "C:\\Users\\xiche\\anaconda3\\lib\\site-packages\\gensim\\models\\ldaseqmodel.py:293: RuntimeWarning: divide by zero encountered in double_scalars\n",
      "  convergence = np.fabs((bound - old_bound) / old_bound)\n"
     ]
    }
   ],
   "source": [
    "ldaseq = ldaseqmodel.LdaSeqModel(corpus=now_corpus, id2word=dictionary, time_slice=docs_per_time_slice, num_topics=10)"
   ]
  },
  {
   "cell_type": "code",
   "execution_count": 130,
   "metadata": {
    "ExecuteTime": {
     "end_time": "2021-03-07T16:24:03.850106Z",
     "start_time": "2021-03-07T16:24:03.827906Z"
    }
   },
   "outputs": [
    {
     "data": {
      "text/plain": [
       "[('right', 0.025816875671848236),\n",
       " ('state', 0.025680110253405965),\n",
       " ('social', 0.016496656392233296),\n",
       " ('political', 0.015949711713277186),\n",
       " ('law', 0.015343364336594162),\n",
       " ('society', 0.015025503326079388),\n",
       " ('human', 0.012193672927879025),\n",
       " ('movement', 0.011507190893687506),\n",
       " ('power', 0.009538165375113952),\n",
       " ('class', 0.00907589456963248),\n",
       " ('war', 0.008889495577802735),\n",
       " ('force', 0.00883145695080287),\n",
       " ('india', 0.008580950377605147),\n",
       " ('justice', 0.008169757047068764),\n",
       " ('group', 0.007659872609493186),\n",
       " ('case', 0.007228970103421533),\n",
       " ('democracy', 0.007074464795762448),\n",
       " ('freedom', 0.006396222795191566),\n",
       " ('court', 0.006388233766477565),\n",
       " ('rule', 0.006385345916866463)]"
      ]
     },
     "execution_count": 130,
     "metadata": {},
     "output_type": "execute_result"
    }
   ],
   "source": [
    "ldaseq.print_topics(time=0)[0]"
   ]
  },
  {
   "cell_type": "code",
   "execution_count": 131,
   "metadata": {
    "ExecuteTime": {
     "end_time": "2021-03-07T16:24:10.897047Z",
     "start_time": "2021-03-07T16:24:10.890045Z"
    }
   },
   "outputs": [
    {
     "data": {
      "text/plain": [
       "[('state', 0.026010662155902586),\n",
       " ('right', 0.023839074157816748),\n",
       " ('social', 0.018174272769809915),\n",
       " ('political', 0.01690378168680194),\n",
       " ('society', 0.015238712415773811),\n",
       " ('law', 0.013666032079834125),\n",
       " ('movement', 0.01263859173613297),\n",
       " ('human', 0.011336634746758036),\n",
       " ('power', 0.009767900564632248),\n",
       " ('class', 0.009448437032047294),\n",
       " ('india', 0.00883783344140136),\n",
       " ('war', 0.008653606664561548),\n",
       " ('justice', 0.008545826498751454),\n",
       " ('force', 0.008378188299976308),\n",
       " ('group', 0.007653617420772371),\n",
       " ('case', 0.007491521312487972),\n",
       " ('democracy', 0.007458441408911768),\n",
       " ('court', 0.006547614025984598),\n",
       " ('nation', 0.00653327255127553),\n",
       " ('rule', 0.006403078526256561)]"
      ]
     },
     "execution_count": 131,
     "metadata": {},
     "output_type": "execute_result"
    }
   ],
   "source": [
    "ldaseq.print_topics(time=1)[0]"
   ]
  },
  {
   "cell_type": "code",
   "execution_count": 133,
   "metadata": {
    "ExecuteTime": {
     "end_time": "2021-03-07T16:24:21.498774Z",
     "start_time": "2021-03-07T16:24:21.491593Z"
    }
   },
   "outputs": [
    {
     "data": {
      "text/plain": [
       "[('state', 0.026444255569787172),\n",
       " ('right', 0.022891275618666593),\n",
       " ('social', 0.01886202830904104),\n",
       " ('political', 0.017980421567525422),\n",
       " ('society', 0.014172587790900745),\n",
       " ('law', 0.012539738361125971),\n",
       " ('movement', 0.012048150916955231),\n",
       " ('human', 0.010626244309854219),\n",
       " ('power', 0.009988567358716092),\n",
       " ('class', 0.009985669600555082),\n",
       " ('india', 0.00915290235683335),\n",
       " ('justice', 0.008979698744804166),\n",
       " ('war', 0.008481327715031812),\n",
       " ('force', 0.007862484339792834),\n",
       " ('democracy', 0.007811635745863406),\n",
       " ('group', 0.007634094079539142),\n",
       " ('nation', 0.007262372586181293),\n",
       " ('case', 0.007213855728332915),\n",
       " ('court', 0.0066895964177905495),\n",
       " ('rule', 0.006466330118256268)]"
      ]
     },
     "execution_count": 133,
     "metadata": {},
     "output_type": "execute_result"
    }
   ],
   "source": [
    "ldaseq.print_topics(time=2)[0]"
   ]
  },
  {
   "cell_type": "code",
   "execution_count": 143,
   "metadata": {
    "ExecuteTime": {
     "end_time": "2021-03-07T18:39:42.947804Z",
     "start_time": "2021-03-07T18:39:42.932905Z"
    }
   },
   "outputs": [
    {
     "data": {
      "text/plain": [
       "[('state', 0.029367456257529775),\n",
       " ('right', 0.02713087846499159),\n",
       " ('law', 0.01749739156436228),\n",
       " ('political', 0.016990186271801745),\n",
       " ('social', 0.013424223868597632),\n",
       " ('human', 0.011547972683746648),\n",
       " ('power', 0.01135330351551832),\n",
       " ('india', 0.011141573889314577),\n",
       " ('court', 0.01065909961696536),\n",
       " ('society', 0.010424831658484658),\n",
       " ('public', 0.009192143285388648),\n",
       " ('justice', 0.008881724952934452),\n",
       " ('case', 0.00867759577680146),\n",
       " ('nigeria', 0.008510653610853031),\n",
       " ('nation', 0.008248423255607729),\n",
       " ('democracy', 0.008183484520902508),\n",
       " ('rule', 0.0081653398682865),\n",
       " ('act', 0.007370860741979389),\n",
       " ('national', 0.007021859681506771),\n",
       " ('group', 0.006487481101257665)]"
      ]
     },
     "execution_count": 143,
     "metadata": {},
     "output_type": "execute_result"
    }
   ],
   "source": [
    "ldaseq.print_topics(time=9)[0]"
   ]
  },
  {
   "cell_type": "code",
   "execution_count": 134,
   "metadata": {
    "ExecuteTime": {
     "end_time": "2021-03-07T16:24:32.336150Z",
     "start_time": "2021-03-07T16:24:32.329132Z"
    }
   },
   "outputs": [
    {
     "data": {
      "text/plain": [
       "[634, 1119, 1613, 2036, 2806, 3406, 8282, 9134, 8699, 7699]"
      ]
     },
     "execution_count": 134,
     "metadata": {},
     "output_type": "execute_result"
    }
   ],
   "source": [
    "docs_per_time_slice"
   ]
  },
  {
   "cell_type": "code",
   "execution_count": 135,
   "metadata": {
    "ExecuteTime": {
     "end_time": "2021-03-07T18:33:22.129174Z",
     "start_time": "2021-03-07T18:33:22.064137Z"
    }
   },
   "outputs": [],
   "source": [
    "ldaseq.save(\"ldaseqmodel\")"
   ]
  },
  {
   "cell_type": "code",
   "execution_count": 136,
   "metadata": {
    "ExecuteTime": {
     "end_time": "2021-03-07T18:33:39.942327Z",
     "start_time": "2021-03-07T18:33:39.877058Z"
    }
   },
   "outputs": [],
   "source": [
    "loaded_model = ldaseqmodel.LdaSeqModel.load(\"ldaseqmodel\")"
   ]
  },
  {
   "cell_type": "code",
   "execution_count": 144,
   "metadata": {
    "ExecuteTime": {
     "end_time": "2021-03-08T03:03:41.181914Z",
     "start_time": "2021-03-08T03:03:41.111912Z"
    }
   },
   "outputs": [
    {
     "data": {
      "text/plain": [
       "[0.01, 0.31, 0.61, 0.9099999999999999]"
      ]
     },
     "execution_count": 144,
     "metadata": {},
     "output_type": "execute_result"
    }
   ],
   "source": [
    "list(np.arange(0.01, 1, 0.3))"
   ]
  }
 ],
 "metadata": {
  "kernelspec": {
   "display_name": "Python 3",
   "language": "python",
   "name": "python3"
  },
  "language_info": {
   "codemirror_mode": {
    "name": "ipython",
    "version": 3
   },
   "file_extension": ".py",
   "mimetype": "text/x-python",
   "name": "python",
   "nbconvert_exporter": "python",
   "pygments_lexer": "ipython3",
   "version": "3.8.5"
  },
  "toc": {
   "base_numbering": 1,
   "nav_menu": {},
   "number_sections": true,
   "sideBar": true,
   "skip_h1_title": false,
   "title_cell": "Table of Contents",
   "title_sidebar": "Contents",
   "toc_cell": false,
   "toc_position": {},
   "toc_section_display": true,
   "toc_window_display": false
  },
  "varInspector": {
   "cols": {
    "lenName": 16,
    "lenType": 16,
    "lenVar": 40
   },
   "kernels_config": {
    "python": {
     "delete_cmd_postfix": "",
     "delete_cmd_prefix": "del ",
     "library": "var_list.py",
     "varRefreshCmd": "print(var_dic_list())"
    },
    "r": {
     "delete_cmd_postfix": ") ",
     "delete_cmd_prefix": "rm(",
     "library": "var_list.r",
     "varRefreshCmd": "cat(var_dic_list()) "
    }
   },
   "types_to_exclude": [
    "module",
    "function",
    "builtin_function_or_method",
    "instance",
    "_Feature"
   ],
   "window_display": false
  }
 },
 "nbformat": 4,
 "nbformat_minor": 4
}
